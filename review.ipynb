{
 "cells": [
  {
   "cell_type": "code",
   "execution_count": null,
   "metadata": {},
   "outputs": [],
   "source": [
    "\"\"\"\"\"objective:\n",
    "    pridict the probability of a word occouring in a negative review with respect to posititve review\n",
    "    \n",
    "   "
   ]
  },
  {
   "cell_type": "code",
   "execution_count": 2,
   "metadata": {},
   "outputs": [],
   "source": [
    "import nltk\n",
    "import random\n",
    "from nltk.classify.scikitlearn import SklearnClassifier\n",
    "from nltk.classify import ClassifierI\n",
    "from statistics import mode\n",
    "from nltk.tokenize import word_tokenize\n",
    "import nltk\n",
    "from nltk.tokenize import word_tokenize\n",
    "from nltk.tokenize import sent_tokenize\n",
    "from nltk.corpus import stopwords\n",
    "from nltk.text import Text\n",
    "import string, re\n",
    "from nltk.corpus import stopwords"
   ]
  },
  {
   "cell_type": "code",
   "execution_count": null,
   "metadata": {},
   "outputs": [],
   "source": []
  },
  {
   "cell_type": "code",
   "execution_count": 3,
   "metadata": {},
   "outputs": [],
   "source": [
    "import os\n",
    "files_pos = os.listdir(r'C:/Users/dell/Desktop/train_pos')\n",
    "files_neg = os.listdir(r'C:/Users/dell/Desktop/train_neg')\n",
    "files_pos = [open(r'C:/Users/dell/Desktop/train_pos/'+f, 'r',encoding=\"utf8\").read() for f in files_pos]\n",
    "\n",
    "files_neg = [open(r'C:/Users/dell/Desktop/train_neg/'+f, 'r',encoding=\"utf8\").read() for f in files_neg]"
   ]
  },
  {
   "cell_type": "code",
   "execution_count": 4,
   "metadata": {},
   "outputs": [
    {
     "name": "stdout",
     "output_type": "stream",
     "text": [
      "['ourselves', 'here', 'each', 'couldn', 're', 'me', 'll', \"wasn't\", 'doesn', 'do', 'that', 'themselves', 'because', 'don', 'our', \"mustn't\", 'my', 'about', 'haven', 'if', 'does', \"wouldn't\", 'd', \"shan't\", 'the', 'an', \"you're\", 'she', 'up', 'off', 'same', 'down', 'further', 'between', 'hers', 'it', 'to', \"it's\", 'below', 'by', 'just', \"needn't\", 've', 'yourselves', 'so', 'both', 'whom', 'any', \"don't\", 'where', 'shan', 'will', 'theirs', \"mightn't\", 'hasn', 'has', 'too', 'what', 'under', 'herself', 'aren', 'but', 's', 'were', 'did', \"aren't\", \"that'll\", 'few', 'from', \"haven't\", 'through', 'ours', 'while', 'him', \"didn't\", 'you', 'are', 'during', \"weren't\", 'y', 'at', 'having', 'he', 'o', 'when', 'after', 'on', 'there', 'her', 'for', 'i', 'those', 'a', 'weren', 'himself', \"you'll\", 'until', 'no', 'most', 'with', 'than', \"won't\", 'who', 'your', 'being', \"shouldn't\", 'its', 'once', 'such', 'again', 'be', 'before', 't', 'should', 'wasn', 'his', 'needn', 'shouldn', 'this', 'mustn', 'more', 'very', 'itself', 'and', 'is', 'then', 'some', 'only', 'above', 'yours', 'out', 'these', 'doing', \"doesn't\", 'ma', 'which', \"she's\", 'have', 'mightn', 'didn', 'wouldn', \"hadn't\", 'of', 'now', \"you'd\", 'been', 'yourself', 'can', 'isn', \"should've\", 'their', 'won', 'against', 'am', 'nor', 'or', 'myself', \"couldn't\", 'as', \"you've\", 'into', 'was', 'in', 'not', 'own', 'all', 'them', 'how', 'ain', \"hasn't\", 'they', 'why', \"isn't\", 'm', 'over', 'hadn', 'we', 'other', 'had']\n"
     ]
    }
   ],
   "source": [
    "stop_words = list(set(stopwords.words('english')))\n",
    "print(stop_words)"
   ]
  },
  {
   "cell_type": "code",
   "execution_count": 17,
   "metadata": {},
   "outputs": [],
   "source": [
    "#j is adjective, r is adverb, and v is verb\n",
    "#allowed_word_types = [\"J\",\"R\",\"V\"]\n",
    "allowed_word_types = [\"J\"]\n",
    "all_words = []\n",
    "documents = []"
   ]
  },
  {
   "cell_type": "code",
   "execution_count": 18,
   "metadata": {},
   "outputs": [],
   "source": [
    "for p in files_pos:\n",
    "    #creating tuple\n",
    "    documents.append((p,\"pos\"))\n",
    "    \n",
    "    #remove puntuations\n",
    "    cleaned = re.sub(r'[^(a-zA-Z)\\s]','', p)\n",
    "    \n",
    "    #tokenize\n",
    "    tokenized = word_tokenize(cleaned)\n",
    "    #\"\"\"Tokenize a string to split off punctuation other than periods\"\"\"\n",
    "    \n",
    "    # remove stopwords \n",
    "    stopped = [w for w in tokenized if not w in stop_words]\n",
    "    \n",
    "    # parts of speech tagging for each word \n",
    "    pos = nltk.pos_tag(stopped)\n",
    "    \n",
    "    # make a list of  all adjectives identified by the allowed word types list above\n",
    "    for w in pos:\n",
    "        if w[1][0] in allowed_word_types:\n",
    "            all_words.append(w[0].lower())"
   ]
  },
  {
   "cell_type": "code",
   "execution_count": null,
   "metadata": {},
   "outputs": [],
   "source": [
    "# tagger This package contains classes and interfaces for part-of-speech tagging, or simply “tagging”.\n",
    "\n",
    "# tagger A “tag” is a case-sensitive string that specifies some property of a token, such as its part of speech. Tagged tokens are encoded as tuples (tag, token). For example, the following tagged token combines the word 'fly' with a noun part of speech tag ('NN'):"
   ]
  },
  {
   "cell_type": "code",
   "execution_count": null,
   "metadata": {},
   "outputs": [],
   "source": []
  },
  {
   "cell_type": "code",
   "execution_count": 30,
   "metadata": {},
   "outputs": [
    {
     "name": "stdout",
     "output_type": "stream",
     "text": [
      "[('Workingclass', 'NNP'), ('romantic', 'JJ'), ('drama', 'NN'), ('director', 'NN'), ('Martin', 'NNP'), ('Ritt', 'NNP'), ('unbelievable', 'JJ'), ('come', 'NN'), ('yet', 'RB'), ('moments', 'VBZ'), ('pleasure', 'NN'), ('due', 'JJ'), ('mostly', 'RB'), ('charisma', 'JJ'), ('stars', 'NNS'), ('Jane', 'NNP'), ('Fonda', 'NNP'), ('Robert', 'NNP'), ('De', 'NNP'), ('Niro', 'NNP'), ('(', '('), ('terrific', 'NN'), (')', ')'), ('Shes', 'NNP'), ('widow', 'NN'), ('cant', 'NN'), ('move', 'NN'), ('hes', 'NNS'), ('illiterate', 'VBP'), ('closetinventoryou', 'NN'), ('probably', 'RB'), ('guess', 'JJ'), ('rest', 'NN'), ('Adaptation', 'NNP'), ('Pat', 'NNP'), ('Barkers', 'NNP'), ('novel', 'POS'), ('Union', 'NNP'), ('Street', 'NNP'), ('(', '('), ('better', 'RBR'), ('title', 'NN'), (')', ')'), ('laidback', 'NN'), ('verges', 'NNS'), ('bland', 'VBP'), ('films', 'NNS'), ('editing', 'VBG'), ('mess', 'NN'), ('still', 'RB'), ('pleasant', 'JJ'), ('rosyhued', 'VBN'), ('bluecollar', 'JJ'), ('fantasy', 'NN'), ('There', 'EX'), ('overtures', 'VBZ'), ('serious', 'JJ'), ('issues', 'NNS'), ('(', '('), ('even', 'RB'), ('illiteracy', 'VBP'), ('angle', 'JJ'), ('plottool', 'NN'), ('ensuing', 'VBG'), ('love', 'VB'), ('story', 'NN'), (')', ')'), ('real', 'JJ'), ('fireworks', 'NNS'), ('though', 'IN'), ('characters', 'NNS'), ('intentionally', 'RB'), ('bit', 'VBP'), ('colorless', 'JJ'), ('leads', 'NNS'), ('toned', 'VBD'), ('interesting', 'JJ'), ('degree', 'NN'), ('The', 'DT'), ('finale', 'JJ'), ('pure', 'NN'), ('fluffand', 'NN'), ('cynics', 'NNS'), ('find', 'VBP'), ('difficult', 'JJ'), ('swallowthough', 'JJ'), ('two', 'CD'), ('characters', 'NNS'), ('deserve', 'VBP'), ('happy', 'JJ'), ('ending', 'VBG'), ('picture', 'NN'), ('wouldnt', 'NN'), ('really', 'RB'), ('satisfying', 'JJ'), ('way', 'NN')]\n"
     ]
    }
   ],
   "source": [
    "print(pos)"
   ]
  },
  {
   "cell_type": "code",
   "execution_count": 29,
   "metadata": {},
   "outputs": [
    {
     "name": "stdout",
     "output_type": "stream",
     "text": [
      "('Workingclass', 'NNP')\n",
      "('romantic', 'JJ')\n",
      "('drama', 'NN')\n",
      "('director', 'NN')\n",
      "('Martin', 'NNP')\n",
      "('Ritt', 'NNP')\n",
      "('unbelievable', 'JJ')\n",
      "('come', 'NN')\n",
      "('yet', 'RB')\n",
      "('moments', 'VBZ')\n",
      "('pleasure', 'NN')\n",
      "('due', 'JJ')\n",
      "('mostly', 'RB')\n",
      "('charisma', 'JJ')\n",
      "('stars', 'NNS')\n",
      "('Jane', 'NNP')\n",
      "('Fonda', 'NNP')\n",
      "('Robert', 'NNP')\n",
      "('De', 'NNP')\n",
      "('Niro', 'NNP')\n",
      "('(', '(')\n",
      "('terrific', 'NN')\n",
      "(')', ')')\n",
      "('Shes', 'NNP')\n",
      "('widow', 'NN')\n",
      "('cant', 'NN')\n",
      "('move', 'NN')\n",
      "('hes', 'NNS')\n",
      "('illiterate', 'VBP')\n",
      "('closetinventoryou', 'NN')\n",
      "('probably', 'RB')\n",
      "('guess', 'JJ')\n",
      "('rest', 'NN')\n",
      "('Adaptation', 'NNP')\n",
      "('Pat', 'NNP')\n",
      "('Barkers', 'NNP')\n",
      "('novel', 'POS')\n",
      "('Union', 'NNP')\n",
      "('Street', 'NNP')\n",
      "('(', '(')\n",
      "('better', 'RBR')\n",
      "('title', 'NN')\n",
      "(')', ')')\n",
      "('laidback', 'NN')\n",
      "('verges', 'NNS')\n",
      "('bland', 'VBP')\n",
      "('films', 'NNS')\n",
      "('editing', 'VBG')\n",
      "('mess', 'NN')\n",
      "('still', 'RB')\n",
      "('pleasant', 'JJ')\n",
      "('rosyhued', 'VBN')\n",
      "('bluecollar', 'JJ')\n",
      "('fantasy', 'NN')\n",
      "('There', 'EX')\n",
      "('overtures', 'VBZ')\n",
      "('serious', 'JJ')\n",
      "('issues', 'NNS')\n",
      "('(', '(')\n",
      "('even', 'RB')\n",
      "('illiteracy', 'VBP')\n",
      "('angle', 'JJ')\n",
      "('plottool', 'NN')\n",
      "('ensuing', 'VBG')\n",
      "('love', 'VB')\n",
      "('story', 'NN')\n",
      "(')', ')')\n",
      "('real', 'JJ')\n",
      "('fireworks', 'NNS')\n",
      "('though', 'IN')\n",
      "('characters', 'NNS')\n",
      "('intentionally', 'RB')\n",
      "('bit', 'VBP')\n",
      "('colorless', 'JJ')\n",
      "('leads', 'NNS')\n",
      "('toned', 'VBD')\n",
      "('interesting', 'JJ')\n",
      "('degree', 'NN')\n",
      "('The', 'DT')\n",
      "('finale', 'JJ')\n",
      "('pure', 'NN')\n",
      "('fluffand', 'NN')\n",
      "('cynics', 'NNS')\n",
      "('find', 'VBP')\n",
      "('difficult', 'JJ')\n",
      "('swallowthough', 'JJ')\n",
      "('two', 'CD')\n",
      "('characters', 'NNS')\n",
      "('deserve', 'VBP')\n",
      "('happy', 'JJ')\n",
      "('ending', 'VBG')\n",
      "('picture', 'NN')\n",
      "('wouldnt', 'NN')\n",
      "('really', 'RB')\n",
      "('satisfying', 'JJ')\n",
      "('way', 'NN')\n"
     ]
    }
   ],
   "source": [
    "for w in pos:\n",
    "    print(w)"
   ]
  },
  {
   "cell_type": "code",
   "execution_count": 28,
   "metadata": {},
   "outputs": [
    {
     "name": "stdout",
     "output_type": "stream",
     "text": [
      "('Workingclass', 'NNP')\n",
      "W\n",
      "N\n",
      "('romantic', 'JJ')\n",
      "r\n",
      "J\n",
      "('drama', 'NN')\n",
      "d\n",
      "N\n",
      "('director', 'NN')\n",
      "d\n",
      "N\n",
      "('Martin', 'NNP')\n",
      "M\n",
      "N\n",
      "('Ritt', 'NNP')\n",
      "R\n",
      "N\n",
      "('unbelievable', 'JJ')\n",
      "u\n",
      "J\n",
      "('come', 'NN')\n",
      "c\n",
      "N\n",
      "('yet', 'RB')\n",
      "y\n",
      "R\n",
      "('moments', 'VBZ')\n",
      "m\n",
      "V\n",
      "('pleasure', 'NN')\n",
      "p\n",
      "N\n",
      "('due', 'JJ')\n",
      "d\n",
      "J\n",
      "('mostly', 'RB')\n",
      "m\n",
      "R\n",
      "('charisma', 'JJ')\n",
      "c\n",
      "J\n",
      "('stars', 'NNS')\n",
      "s\n",
      "N\n",
      "('Jane', 'NNP')\n",
      "J\n",
      "N\n",
      "('Fonda', 'NNP')\n",
      "F\n",
      "N\n",
      "('Robert', 'NNP')\n",
      "R\n",
      "N\n",
      "('De', 'NNP')\n",
      "D\n",
      "N\n",
      "('Niro', 'NNP')\n",
      "N\n",
      "N\n",
      "('(', '(')\n",
      "(\n",
      "(\n",
      "('terrific', 'NN')\n",
      "t\n",
      "N\n",
      "(')', ')')\n",
      ")\n",
      ")\n",
      "('Shes', 'NNP')\n",
      "S\n",
      "N\n",
      "('widow', 'NN')\n",
      "w\n",
      "N\n",
      "('cant', 'NN')\n",
      "c\n",
      "N\n",
      "('move', 'NN')\n",
      "m\n",
      "N\n",
      "('hes', 'NNS')\n",
      "h\n",
      "N\n",
      "('illiterate', 'VBP')\n",
      "i\n",
      "V\n",
      "('closetinventoryou', 'NN')\n",
      "c\n",
      "N\n",
      "('probably', 'RB')\n",
      "p\n",
      "R\n",
      "('guess', 'JJ')\n",
      "g\n",
      "J\n",
      "('rest', 'NN')\n",
      "r\n",
      "N\n",
      "('Adaptation', 'NNP')\n",
      "A\n",
      "N\n",
      "('Pat', 'NNP')\n",
      "P\n",
      "N\n",
      "('Barkers', 'NNP')\n",
      "B\n",
      "N\n",
      "('novel', 'POS')\n",
      "n\n",
      "P\n",
      "('Union', 'NNP')\n",
      "U\n",
      "N\n",
      "('Street', 'NNP')\n",
      "S\n",
      "N\n",
      "('(', '(')\n",
      "(\n",
      "(\n",
      "('better', 'RBR')\n",
      "b\n",
      "R\n",
      "('title', 'NN')\n",
      "t\n",
      "N\n",
      "(')', ')')\n",
      ")\n",
      ")\n",
      "('laidback', 'NN')\n",
      "l\n",
      "N\n",
      "('verges', 'NNS')\n",
      "v\n",
      "N\n",
      "('bland', 'VBP')\n",
      "b\n",
      "V\n",
      "('films', 'NNS')\n",
      "f\n",
      "N\n",
      "('editing', 'VBG')\n",
      "e\n",
      "V\n",
      "('mess', 'NN')\n",
      "m\n",
      "N\n",
      "('still', 'RB')\n",
      "s\n",
      "R\n",
      "('pleasant', 'JJ')\n",
      "p\n",
      "J\n",
      "('rosyhued', 'VBN')\n",
      "r\n",
      "V\n",
      "('bluecollar', 'JJ')\n",
      "b\n",
      "J\n",
      "('fantasy', 'NN')\n",
      "f\n",
      "N\n",
      "('There', 'EX')\n",
      "T\n",
      "E\n",
      "('overtures', 'VBZ')\n",
      "o\n",
      "V\n",
      "('serious', 'JJ')\n",
      "s\n",
      "J\n",
      "('issues', 'NNS')\n",
      "i\n",
      "N\n",
      "('(', '(')\n",
      "(\n",
      "(\n",
      "('even', 'RB')\n",
      "e\n",
      "R\n",
      "('illiteracy', 'VBP')\n",
      "i\n",
      "V\n",
      "('angle', 'JJ')\n",
      "a\n",
      "J\n",
      "('plottool', 'NN')\n",
      "p\n",
      "N\n",
      "('ensuing', 'VBG')\n",
      "e\n",
      "V\n",
      "('love', 'VB')\n",
      "l\n",
      "V\n",
      "('story', 'NN')\n",
      "s\n",
      "N\n",
      "(')', ')')\n",
      ")\n",
      ")\n",
      "('real', 'JJ')\n",
      "r\n",
      "J\n",
      "('fireworks', 'NNS')\n",
      "f\n",
      "N\n",
      "('though', 'IN')\n",
      "t\n",
      "I\n",
      "('characters', 'NNS')\n",
      "c\n",
      "N\n",
      "('intentionally', 'RB')\n",
      "i\n",
      "R\n",
      "('bit', 'VBP')\n",
      "b\n",
      "V\n",
      "('colorless', 'JJ')\n",
      "c\n",
      "J\n",
      "('leads', 'NNS')\n",
      "l\n",
      "N\n",
      "('toned', 'VBD')\n",
      "t\n",
      "V\n",
      "('interesting', 'JJ')\n",
      "i\n",
      "J\n",
      "('degree', 'NN')\n",
      "d\n",
      "N\n",
      "('The', 'DT')\n",
      "T\n",
      "D\n",
      "('finale', 'JJ')\n",
      "f\n",
      "J\n",
      "('pure', 'NN')\n",
      "p\n",
      "N\n",
      "('fluffand', 'NN')\n",
      "f\n",
      "N\n",
      "('cynics', 'NNS')\n",
      "c\n",
      "N\n",
      "('find', 'VBP')\n",
      "f\n",
      "V\n",
      "('difficult', 'JJ')\n",
      "d\n",
      "J\n",
      "('swallowthough', 'JJ')\n",
      "s\n",
      "J\n",
      "('two', 'CD')\n",
      "t\n",
      "C\n",
      "('characters', 'NNS')\n",
      "c\n",
      "N\n",
      "('deserve', 'VBP')\n",
      "d\n",
      "V\n",
      "('happy', 'JJ')\n",
      "h\n",
      "J\n",
      "('ending', 'VBG')\n",
      "e\n",
      "V\n",
      "('picture', 'NN')\n",
      "p\n",
      "N\n",
      "('wouldnt', 'NN')\n",
      "w\n",
      "N\n",
      "('really', 'RB')\n",
      "r\n",
      "R\n",
      "('satisfying', 'JJ')\n",
      "s\n",
      "J\n",
      "('way', 'NN')\n",
      "w\n",
      "N\n"
     ]
    }
   ],
   "source": [
    "#last element saved in iteration\n",
    "for w in pos:\n",
    "    print(w)\n",
    "    print(w[0][0])\n",
    "    print(w[1][0])"
   ]
  },
  {
   "cell_type": "code",
   "execution_count": 19,
   "metadata": {},
   "outputs": [],
   "source": [
    "for p in files_neg:\n",
    "    # create a list of tuples where the first element of each tuple is a review\n",
    "    # the second element is the label\n",
    "    documents.append((p, \"neg\"))\n",
    "    \n",
    "    # remove punctuations\n",
    "    cleaned = re.sub(r'[^(a-zA-Z)\\s]','', p)\n",
    "    \n",
    "    # tokenize \n",
    "    tokenized = word_tokenize(cleaned)\n",
    "    \n",
    "    # remove stopwords \n",
    "    stopped = [w for w in tokenized if not w in stop_words]\n",
    "    \n",
    "    # parts of speech tagging for each word \n",
    "    neg = nltk.pos_tag(stopped)\n",
    "    \n",
    "    # make a list of  all adjectives identified by the allowed word types list above\n",
    "    for w in neg:\n",
    "        if w[1][0] in allowed_word_types:\n",
    "            all_words.append(w[0].lower())"
   ]
  },
  {
   "cell_type": "code",
   "execution_count": 26,
   "metadata": {},
   "outputs": [
    {
     "name": "stdout",
     "output_type": "stream",
     "text": [
      "ViewState\n",
      "Mode\n",
      "Vid\n",
      "FolderTypeGeneric\n"
     ]
    }
   ],
   "source": [
    "for i in tokenized:\n",
    "    print(i)"
   ]
  },
  {
   "cell_type": "code",
   "execution_count": 33,
   "metadata": {},
   "outputs": [
    {
     "name": "stdout",
     "output_type": "stream",
     "text": [
      "<FreqDist with 29739 samples and 504087 outcomes>\n"
     ]
    }
   ],
   "source": []
  },
  {
   "cell_type": "code",
   "execution_count": null,
   "metadata": {},
   "outputs": [],
   "source": []
  },
  {
   "cell_type": "code",
   "execution_count": 21,
   "metadata": {},
   "outputs": [],
   "source": [
    "# creating a frequency distribution of each adjectives.\n",
    "all_words = nltk.FreqDist(all_words)"
   ]
  },
  {
   "cell_type": "code",
   "execution_count": 22,
   "metadata": {},
   "outputs": [
    {
     "name": "stdout",
     "output_type": "stream",
     "text": [
      "['scramble', 'insightful', 'right', 'pathetic', 'pettiness', 'whole', 'episode', 'burn', 'classic', 'many', 'human', 'most', 'next', 'live', 'wall', 'br', 'rich', 'bet', 'future', 'thrown', 'cant', 'nickname', 'forehead', 'mutual', 'love', 'necessary', 'observant', 'slapstick', 'valuable', 'stupid', 'brilliant', 'dramatic', 'second', 'good', 'dishonest', 'funny', 'fantastic', 'crush', 'usual', 'hospital', 'invade', 'alltime', 'legs', 'big', 'better', 'underrated', 'realistic', 'flat', 'lovable', 'impressive', 'much', 'typical', 'followable', 'worth', 'overall', 'characteristic', 'best', 'comedic', 'recent', 'hybrid', 'mixed', 'new', 'isnt', 'sick', 'achieving', 'guide', 'third', 'real', 'able', 'subscribe', 'slow', 'unfolds', 'nice', 'notice', 'unnecessary', 'suspense', 'unexpectedness', 'hear', 'short', 'acclaimed', 'psychological', 'true', 'young', 'adoptive', 'secret', 'official', 'synopsisbr', 'lose', 'physical', 'obvious', 'certain', 'believable', 'exemplary', 'strong', 'several', 'reach', 'due', 'slighter', 'sandwich', 'gratitude', 'paranoia', 'norm', 'latest', 'talkradio', 'interesting', 'intrigued', 'nightmarish', 'abused', 'excellent', 'boy', 'devious', 'ulterior', 'sudden', 'emotional', 'tempest', 'didnt', 'anticipatebr', 'former', 'hitchcockian', 'full', 'old', 'lowkey', 'goodhearted', 'dreadful', 'creepy', 'unmentioned', 'underlines', 'repetitive', 'predictable', 'inner', 'dumb', 'mediocre', 'quick', 'doesnt', 'serial', 'dangerous', 'actual', 'high', 'autobiography', 'horrific', 'sociopathic', 'cry', 'incredible', 'least', 'scary', 'unsettled', 'strange', 'feeling', 'past', 'fragile', 'struggle', 'introduced', 'smallest', 'carry', 'bad', 'average', 'american', 'serious', 'screen', 'opening', 'semi', 'donebr', 'transitional', 'unusual', 'evil', 'modern', 'constant', 'busy', 'last', 'mental', 'popular', 'evenings', 'vivid', 'authentic', 'mysterious', 'useful', 'desperate', 'early', 'sexual', 'brutal', 'enwrapped', 'elusive', 'bizarre', 'medical', 'entire', 'little', 'wonderful', 'comic', 'great', 'top', 'general', 'shorter', 'moviebr', 'think', 'impress', 'tell', 'quibble', 'odd', 'different', 'intriguing', 'content', 'americanized', 'hard', 'original', 'previous', 'such', 'canadian', 'first', 'cheap', 'false', 'suspenseful', 'reality', 'friendship', 'contact', 'permanent', 'impact', 'memorable', 'williams', 'hushedhypnotic', 'acquainted', 'fourteenyearold', 'survivor', 'guardiana', 'meet', 'findbr', 'faster', 'longer', 'storyline', 'lean', 'clear', 'various', 'familiar', 'personal', 'loop', 'small', 'dark', 'dont', 'tie', 'enough', 'portrayal', 'rushed', 'complete', 'commendable', 'intense', 'close', 'perfect', 'genre', 'flashy', 'showdown', 'needs', 'generic', 'enter', 'shouldnt', 'picky', 'low', 'read', 'give', 'plot', 'amaze', 'faithful', 'free', 'troubled', 'yourselfbr', 'art', 'lick', 'substantial', 'relevantfor', 'alleged', 'sosoughtafter', 'show', 'utilized', 'upbr', 'see', 'alterior', 'theyre', 'motive', 'fortytwo', 'treasury', 'shot', 'deadbr', 'feature', 'common', 'excellentbr', 'marvelous', 'late', 'ingenious', 'legendary', 'illustrious', 'token', 'spry', 'elderly', 'eccentric', 'petty', 'rundown', 'hateful', 'lethal', 'lifesized', 'police', 'ravishing', 'sole', 'likable', 'female', 'trite', 'ridiculous', 'gross', 'lousy', 'poor', 'fiery', 'awful', 'cruddy', 'amusing', 'ratty', 'similar', 'mustsee', 'roombr', 'alive', 'pregnant', 'documentary', 'know', 'factsbr', 'analytical', 'rhythm', 'broad', 'end', 'super', 'black', 'white', 'documental', 'peculiar', 'hungarian', 'religious', 'caught', 'french', 'interested', 'nowadays', 'involved', 'deeper', 'main', 'important', 'tough', 'weak', 'mean', 'believe', 'worthy', 'unique', 'giant', 'mummy', 'outstanding', 'smaller', 'scifi', 'awe', 'dismal', 'disappointing', 'heroic', 'charismatic', 'impeccable', 'fine', 'assertive', 'offensive', 'structural', 'sure', 'underlying', 'lovestory', 'romantic', 'add', 'crummy', 'single', 'possible', 'rainy', 'special', 'rent', 'regret', 'greatest', 'actingdirectingeffectsmusic', 'wrong', 'commentsseven', 'mentioned', 'basic', 'intrigue', 'worthwhile', 'unconnected', 'engage', 'viewer', 'key', 'regular', 'inexplicable', 'gim', 'excessive', 'timesbr', 'visual', 'cerebral', 'react', 'ready', 'dislike', 'disbelief', 'spiderman', 'total', 'wasnt', 'usersbr', 'user', 'irrational', 'chat', 'banter', 'level', 'inordinate', 'fair', 'imdb', 'box', 'critical', 'beautiful', 'thematic', 'tragic', 'criticised', 'epic', 'major', 'simple', 'boring', 'unbelievable', 'amazing', 'un', 'imaginable', 'listen', 'sumptuous', 'gorgeous', 'hot', 'seat', 'huge', 'undeveloped', 'historical', 'titanic', 'favorite', 'unsinkable', 'biggest', 'fictional', 'remind', 'present', 'idk', 'silent', 'tale', 'social', 'fate', 'illfated', 'iceberg', 'perished', 'onscreen', 'magnificent', 'want', 'survive', 'long', 'added', 'sorry', 'exceptional', 'table', 'face', 'mom', 'elite', 'enjoyable', 'unrealistic', 'terrible', 'perform', 'unfair', 'talented', 'famous', 'quite', 'particular', 'fundamental', 'constructedbr', 'memoirs', 'accurate', 'itbr', 'cinematic', 'solid', 'safe', 'frozen', 'ship', 'powerful', 'acting', 'dedicated', 'unknown', 'supernatural', 'mass', 'maiden', 'truthful', 'superstars', 'overnight', 'annoyed', 'arent', 'purposeful', 'apparent', 'else', 'dry', 'iconic', 'finest', 'become', 'journey', 'unfortunate', 'birth', 'girl', 'torn', 'bigger', 'teenage', 'nose', 'blue', 'nude', 'granddaughter', 'skeptical', 'whereabouts', 'fianc', 'outward', 'engagement', 'go', 'drifter', 'tentative', 'stuffy', 'formal', 'wealthy', 'livelier', 'irish', 'forbidden', 'sevenyearold', 'proper', 'deck', 'fatal', 'mother', 'leave', 'freezing', 'flawless', 'astonishing', 'artistic', 'zest', 'confused', 'nasty', 'arrogant', 'abusive', 'ultra', 'steal', 'innocent', 'carat', 'richest', 'less', 'uptight', 'impecunious', 'cold', 'afraid', 'engaged', 'supercilious', 'fix', 'hazardous', 'northern', 'opportunistic', 'rare', 'told', 'luminous', 'sweeping', 'motionless', 'ocean', 'luxurious', 'front', 'magic', 'eyebr', 'inevitable', 'icy', 'gigantic', 'wide', 'deep', 'transfixed', 'keep', 'aristocratic', 'lower', 'upper', 'sail', 'stop', 'uneventful', 'hopeless', 'extra', 'fateful', 'thirtytwo', 'shut', 'starboard', 'large', 'distress', 'respond', 'severe', 'put', 'amount', 'experienced', 'brittle', 'purpose', 'composite', 'ideas', 'represent', 'kill', 'evoked', 'nonenglish', 'bed', 'side', 'lifeboat', 'brandy', 'younger', 'suffrage', 'gotten', 'married', 'financial', 'seast', 'dinner', 'male', 'recognizable', 'fifteen', 'moral', 'underwater', 'footage', 'bottom', 'provided', 'easy', 'follow', 'aclear', 'septune', 'recreate', 'european', 'like', 'sound', 'insight', 'youbr', 'touch', 'public', 'criticsarticle', 'type', 'capture', 'movienot', 'films', 'sexist', 'itthe', 'longest', 'overhyped', 'head', 'fellow', 'learn', 'appeared', 'superb', 'elegant', 'lead', 'superior', 'girlpoor', 'snobby', 'fear', 'reasonable', 'accept', 'steerage', 'locked', 'enjoy', 'empty', 'minor', 'truly', 'miserable', 'beyondbeautiful', 'factual', 'cynical', 'tizzy', 'civilized', 'couple', 'enjoyed', 'straight', 'cool', 'filmbr', 'beautifullybr', 'impossible', 'burliest', 'victim', 'watch', 'sincere', 'capable', 'watched', 'brief', 'prologue', 'older', 'urban', 'turn', 'clichd', 'shockerbr', 'excusable', 'crucial', 'fancy', 'atmosphere', 'fog', 'forth', 'subtler', 'slyly', 'affixed', 'interior', 'heavy', 'settle', 'intelligent', 'traditional', 'housebr', 'weirder', 'abundance', 'pointbr', 'catalyst', 'sour', 'successful', 'afflict', 'external', 'corporate', 'normal', 'subversive', 'meaningful', 'shallow', 'professional', 'literal', 'nervous', 'clunkiness', 'admirable', 'metaphorical', 'plenty', 'local', 'rental', 'prominent', 'fabulous', 'character', 'obtrusive', 'sad', 'willing', 'along', 'realize', 'erotic', 'steamy', 'unexpected', 'ok', 'lesbian', 'poetic', 'shownbr', 'wont', 'disappointed', 'surreal', 'reflect', 'lossbr', 'exploit', 'provocative', 'girls', 'energetic', 'mentor', 'naive', 'exotic', 'exclusive', 'heterosexual', 'effective', 'explicit', 'detailed', 'later', 'youthful', 'inferior', 'copy', 'educate', 'gf', 'chinese', 'adorble', 'actor', 'rotten', 'lol', 'lolwhatever', 'maskswhich', 'originalbr', 'jaded', 'reluctant', 'guardian', 'smalltown', 'worthless', 'upset', 'gritty', 'lengths', 'societal', 'western', 'hint', 'material', 'artist', 'suburban', 'survival', 'fierce', 'sensebr', 'foreign', 'surprising', 'watchable', 'serf', 'conventional', 'played', 'utter', 'make', 'idiot', 'mastery', 'precious', 'heir', 'recommend', 'length', 'phenomenal', 'deplorable', 'higher', 'widescreen', 'natural', 'pleasant', 'difficult', 'splendid', 'interwoven', 'truetoform', 'menial', 'philosophic', 'compliment', 'familial', 'magical', 'operatic', 'advice', 'ancient', 'serene', 'suitable', 'youngest', 'guess', 'ubiquitous', 'monochrome', 'everyday', 'dazzling', 'imminent', 'cataclysm', 'central', 'vital', 'bian', 'performer', 'talent', 'gender', 'military', 'individual', 'build', 'sentimental', 'clash', 'win', 'facial', 'happy', 'cultural', 'subtext', 'subserviant', 'unlikely', 'stronger', 'triumph', 'native', 'welcome', 'alternative', 'unsatisfying', 'unrelated', 'armor', 'anime', 'political', 'opposed', 'climatic', 'find', 'obscure', 'universal', 'proud', 'massive', 'straw', 'monkey', 'slave', 'onemany', 'touched', 'heritage', 'technical', 'video', 'audiencebr', 'lucky', 'create', 'commercial', 'son', 'pass', 'regional', 'understand', 'unaware', 'emotive', 'reformatted', 'fit', 'moronic', 'disposable', 'criminal', 'simplest', 'creative', 'directed', 'move', 'sweet', 'uplifting', 'trick', 'break', 'child', 'goodbr', 'overt', 'androgynous', 'remote', 'subtle', 'needless', 'surrender', 'aside', 'cinematographic', 'sophisticated', 'distant', 'rapid', 'economic', 'spiritual', 'socialist', 'inherited', 'extinctionbr', 'contemporary', 'maledominated', 'societys', 'fun', 'handle', 'appropriate', 'empathy', 'claimed', 'weakens', 'poignant', 'misleading', 'travesty', 'fuzzy', 'infectious', 'carried', 'final', 'spectacular', 'depths', 'annual', 'ask', 'selfexplanatorybr', 'realoriginal', 'silliness', 'planter', 'cozy', 'elephant', 'mad', 'outbreak', 'grand', 'goose', 'save', 'guilty', 'eponymous', 'contrary', 'shoot', 'pachydermsno', 'permit', 'tone', 'realm', 'conspirein', 'vulnerable', 'happen', 'current', 'rid', 'direct', 'th', 'stargate', 'dead', 'turgid', 'fastpaced', 'majestic', 'sympathetic', 'gaspy', 'trained', 'discern', 'distinct', 'swept', 'inescapable', 'relative', 'bind', 'tear', 'climaxed', 'lavish', 'rubber', 'lovelier', 'credible', 'unable', 'shake', 'year', 'lesserknown', 'british', 'feels', 'adapt', 'angry', 'masterful', 'undertone', 'millionaire', 'initial', 'reminiscent', 'lady', 'chief', 'thumb', 'creamysmooth', 'masochistic', 'heady', 'travelogue', 'interpretive', 'quasimelodramatic', 'miss', 'enthralled', 'club', 'nature', 'tea', 'herd', 'join', 'pathway', 'integral', 'immigrant', 'virtual', 'marble', 'grille', 'cheaper', 'careful', 'immune', 'tyranny', 'todaybr', 'largest', 'appreciate', 'sit', 'puppy', 'sappy', 'naturebr', 'wellspent', 'triangular', 'pictorial', 'wild', 'echo', 'autocratic', 'animalsbr', 'friendly', 'pretentious', 'beauty', 'lovebr', 'glamorous', 'tropical', 'colorful', 'exquisite', 'willful', 'sharp', 'favourite', 'dystopian', 'loose', 'colourful', 'involve', 'cartoonish', 'japanese', 'overthetop', 'degree', 'jumps', 'hooked', 'animebr', 'hey', 'committed', 'haired', 'nifty', 'green', 'endear', 'bifocal', 'half', 'extreme', 'peoplebr', 'sexy', 'installment', 'urine', 'nd', 'naked', 'uncompleted', 'mayhem', 'funbr', 'cheesy', 'blow', 'couch', 'worse', 'moviesbr', 'surprised', 'tacky', 'pure', 'fullfrontal', 'psychedelic', 'sequence', 'biological', 'highlyindustrial', 'subplot', 'closeup', 'increasinglygrainy', 'correct', 'brisk', 'amiss', 'grainy', 'fragmented', 'perspective', 'extraterrestrial', 'alien', 'vaguelyfamiliar', 'irreversible', 'lie', 'bit', 'suchbr', 'mindless', 'philosophical', 'inspired', 'musical', 'comedian', 'minimalist', 'impressed', 'bossy', 'soft', 'troublebr', 'hopelessness', 'indian', 'barred', 'beat', 'sought', 'mainstream', 'discovery', 'meaty', 'ardh', 'point', 'likecoolie', 'heros', 'roof', 'inspectorturnedalcoholic', 'characterthe', 'message', 'honest', 'cop', 'practical', 'immediate', 'seniorsthis', 'aware', 'unethical', 'negative', 'suspendedbr', 'brilliantlybr', 'definitive', 'stellar', 'societybr', 'directorial', 'novel', 'protect', 'underworld', 'shetty', 'sadahiv', 'talked', 'opposite', 'national', 'showbr', 'universe', 'ironic', 'overbr', 'turned', 'militant', 'palde', 'teek', 'rough', 'delicate', 'needle', 'poembr', 'lackluster', 'unfocused', 'incohesive', 'oddball', 'document', 'infamous', 'worst', 'docu', 'more', 'interviewed', 'loud', 'ignore', 'delighted', 'turbulent', 'posthumous', 'positive', 'nicer', 'cast', 'storybr', 'comprehensive', 'title', 'cohesive', 'fabric', 'unity', 'collaborative', 'closest', 'respectful', 'thoughtful', 'yesteryear', 'truth', 'outcome', 'context', 'savagery', 'disgraceful', 'withbr', 'unfavourable', 'glossybr', 'profile', 'mcgovern', 'unapologetic', 'sheep', 'weve', 'remembered', 'ranch', 'edited', 'unexpurgated', 'twisted', 'german', 'censored', 'havent', 'prolific', 'maverick', 'script', 'ambiguous', 'gang', 'sameold', 'unflinching', 'clean', 'painful', 'burdened', 'expect', 'squeamish', 'skin', 'hilarious', 'maniai', 'pick', 'humor', 'drama', 'hyperkinetic', 'underground', 'bloody', 'fastbr', 'earlier', 'sadistic', 'eclectic', 'crafted', 'gay', 'dirty', 'similarly', 'violent', 'sordid', 'alienated', 'shakespearian', 'ultimate', 'contend', 'shock', 'charactersbr', 'distract', 'narrative', 'frantic', 'semigraphic', 'dip', 'chinesetaiwanesejapanese', 'english', 'stylish', 'orthodox', 'decent', 'ultraviolent', 'essential', 'asian', 'compelling', 'uberconventional', 'yakuzatriad', 'hereon', 'prevalent', 'thumbingofthenose', 'satirical', 'savage', 'sardonic', 'detective', 'gangster', 'likely', 'definite', 'sparetime', 'lowscale', 'harsh', 'crueler', 'unrepentant', 'salt', 'craziest', 'homosexual', 'youve', 'aggressive', 'raw', 'fresh', 'complex', 'utterly', 'visceral', 'postwar', 'coming', 'use', 'sign', 'intentional', 'accustomed', 'inexperienced', 'sarcastic', 'confident', 'failsbr', 'funniest', 'anorexic', 'sketchy', 'unfriendly', 'extraordinary', 'decided', 'gate', 'quiet', 'warrior', 'team', 'deemed', 'parasitic', 'inserted', 'exploratory', 'wormhole', 'deal', 'decline', 'knit', 'onworld', 'understandablebr', 'remarkable', 'nervousness', 'overcome', 'unbeatable', 'available', 'believablethanks', 'independent', 'waitress', 'impotent', 'divorced', 'herbr', 'organ', 'tree', 'die', 'selfish', 'let', 'blame', 'ownbr', 'neat', 'uneven', 'horror', 'element', 'lull', 'legal', 'gory', 'protective', 'focus', 'keen', 'open', 'pretty', 'nakedbr', 'terrific', 'affair', 'outlandish', 'deadon', 'aloof', 'guy', 'notsogoodguy', 'dessertsbr', 'revengefromthedead', 'enjoys', 'graphic', 'horrible', 'badlybr', 'multiple', 'oldfashioned', 'murderous', 'continuous', 'unharmed', 'sleazy', 'mum', 'vegetable', 'stupendous', 'sleaze', 'euthanasia', 'obligatory', 'unnecessarily', 'voluptuous', 'egocentric', 'standout', 'drab', 'gruesome', 'taut', 'palpable', 'persistent', 'vegetative', 'plug', 'extract', 'himbr', 'notorious', 'liberal', 'foundation', 'review', 'wish', 'dental', 'inclined', 'unlovablebr', 'excited', 'worried', 'keeper', 'upon', 'egyptian', 'habitable', 'wellknown', 'mythical', 'topsecret', 'racesbr', 'galactic', 'conquest', 'eternal', 'primary', 'other', 'pivotal', 'ninth', 'unfathomable', 'bent', 'archetypal', 'everyman', 'guynextdoor', 'corrosive', 'latter', 'worksbr', 'slutty', 'inconsolable', 'unforgiving', 'unsuccessful', 'pull', 'enthusiastic', 'sleazier', 'wear', 'subject', 'rampedup', 'slight', 'flair', 'scene', 'pan', 'wrangled', 'pardon', 'screwer', 'sympathy', 'delightful', 'assaulted', 'vengeful', 'spirit', 'smile', 'laugh', 'clich', 'gold', 'honorable', 'waybr', 'kooky', 'wrap', 'exact', 'quote', 'mature', 'complacent', 'meant', 'rural', 'specific', 'drone', 'hectic', 'substory', 'oftdone', 'adjective', 'uncomplicated', 'enjoyment', 'bare', 'equal', 'equivalent', 'prepare', 'excop', 'militaryscience', 'archaeologist', 'overlord', 'boyish', 'grown', 'progressed', 'friction', 'civilian', 'wacky', 'significant', 'soul', 'humdrum', 'daily', 'unseen', 'note', 'postcard', 'comfortable', 'unfold', 'hold', 'need', 'electric', 'forbr', 'awsome', 'ive', 'curious', 'acthe', 'truethe', 'togetheri', 'polish', 'golden', 'togetherbr', 'notit', 'fansat', 'prime', 'itas', 'freakish', 'summary', 'witness', 'entertaining', 'adorned', 'blonde', 'jewish', 'supper', 'uniqueness', 'brated', 'amused', 'haunt', 'wastobe', 'shine', 'filmsbr', 'bright', 'divulge', 'piece', 'hackneyed', 'overlooked', 'firstrate', 'shame', 'chic', 'awesome', 'weeksbr', 'coolbr', 'rest', 'excpet', 'agree', 'protagonist', 'parrot', 'funnybr', 'sake', 'eva', 'heaven', 'sarcasm', 'pacebr', 'liked', 'persepctive', 'fight', 'movieit', 'funnythere', 'outif', 'interestingthis', 'wonderfulit', 'lowi', 'bored', 'tallbr', 'international', 'russian', 'laughing', 'witless', 'soldier', 'wwii', 'derogatory', 'instructional', 'imaginative', 'lifespan', 'eventual', 'inventive', 'laboured', 'animated', 'invaluable', 'theatrical', 'greater', 'casual', 'offhand', 'exaggerated', 'frightening', 'anxious', 'ie', 'cannonstyle', 'enemy', 'padded', 'valid', 'catastrophic', 'improved', 'wartime', 'educational', 'terrorist', 'cleverbr', 'tense', 'businesslike', 'middle', 'surprise', 'dear', 'dull', 'illegal', 'portrait', 'uncommon', 'successive', 'stereotypical', 'intellectual', 'onedimensional', 'credibilitybr', 'highest', 'thats', 'deficient', 'dutch', 'closebr', 'sort', 'chronological', 'say', 'topclass', 'prior', 'kick', 'characterdriven', 'fan', 'notsostupidasyouthinkheis', 'glorious', 'certifiable', 'endless', 'oblivious', 'red', 'quentessential', 'connect', 'courtyard', 'intricate', 'drunken', 'unconscious', 'acceptable', 'dust', 'disappoint', 'shahrukh', 'elasebr', 'thin', 'happiness', 'vast', 'bus', 'filthy', 'uncertain', 'drive', 'mob', 'warm', 'fatherinlaws', 'tyrannical', 'ruthless', 'teach', 'broken', 'cruel', 'climax', 'uncouth', 'mannerisms', 'versatility', 'lighter', 'required', 'selfconscious', 'fratricidal', 'ostensible', 'notable', 'nuanced', 'becomes', 'grandeur', 'rabble', 'gratuitous', 'allimportant', 'swallow', 'dysfunctional', 'strengths', 'mere', 'heaving', 'sigh', 'overdo', 'grow', 'steady', 'innovative', 'rush', 'terrified', 'subservient', 'helpless', 'tiny', 'unrestrained', 'impulsiveness', 'anguish', 'volcanic', 'tigress', 'indescribable', 'actress', 'adequate', 'song', 'glossy', 'weakest', 'adorable', 'drag', 'springboard', 'eitherbr', 'nest', 'cameo', 'happygolucky', 'farce', 'detract', 'gripping', 'sloppy', 'rampant', 'wordless', 'orchestral', 'score', 'gentle', 'unevenness', 'inconsistent', 'poverty', 'heartthe', 'teenie', 'beans', 'sbr', 'frontman', 'occasionallybr', 'tight', 'concert', 'theyve', 'skill', 'hungry', 'preferred', 'onslaught', 'come', 'magnitude', 'anywhere', 'englishlinear', 'disappointment', 'nostalgia', 'lane', 'sight', 'scenic', 'outfitnot', 'imagine', 'appreciated', 'timeless', 'nononsense', 'laughbr', 'fourcorneredlove', 'lesser', 'differentbr', 'grateful', 'understorey', 'dialect', 'ratingdaghang', 'corrupt', 'console', 'obsoletebr', 'oftenbr', 'ten', 'intrepid', 'thenbr', 'numerous', 'broaden', 'archaeologistgeek', 'seventh', 'guest', 'sixyearold', 'usher', 'cocky', 'play', 'vivacious', 'eighth', 'tenth', 'secondlongest', 'nascent', 'poorly', 'look', 'belief', 'fantasybr', 'butone', 'brought', 'wordsbr', 'euro', 'lightweight', 'whats', 'fatedbr', 'pebble', 'stretch', 'whimsical', 'surgery', 'understood', 'random', 'existentialist', 'parisian', 'capitalize', 'apt', 'ensemble', 'cafsbr', 'intergalactic', 'focused', 'sg', 'episodes', 'potential', 'ongoing', 'bold', 'testament', 'collective', 'theme', 'insignificant', 'cute', 'omnipotent', 'uninteresting', 'refresh', 'inside', 'separate', 'chaos', 'windscreen', 'wonderfulbr', 'woven', 'start', 'metro', 'cross', 'light', 'wingsbr', 'forward', 'ear', 'spoilersbr', 'translated', 'thought', 'affect', 'wondrous', 'overseas', 'chase', 'min', 'cafe', 'sugary', 'scenery', 'plots', 'finding', 'sensible', 'quirky', 'unleash', 'nodding', 'blank', 'patriotic', 'wrest', 'pile', 'work', 'fending', 'disfigurement', 'seabr', 'preposterous', 'nighttime', 'sinful', 'quest', 'inherit', 'unbridled', 'sister', 'summa', 'schlockmeister', 'excess', 'develop', 'lot', 'salacious', 'got', 'careerbr', 'porn', 'raciest', 'fetish', 'wet', 'suicide', 'lurid', 'novelsbr', 'africanamerican', 'yearsbr', 'chronic', 'wifes', 'behindbr', 'cryptic', 'ethnic', 'principal', 'mortal', 'nomination', 'faith', 'unclear', 'materialistic', 'anguished', 'spite', 'bitterness', 'collide', 'sadbr', 'consistent', 'finish', 'largerthanlife', 'sublime', 'actingpoeticmoral', 'flaws', 'incomparable', 'idiotic', 'horrendous', 'wan', 'approx', 'yeti', 'ripe', 'body', 'foot', 'disco', 'wavy', 'beast', 'hairy', 'enormous', 'abominable', 'luscious', 'nubile', 'lustful', 'flown', 'sample', 'uproarious', 'ethical', 'absurd', 'funky', 'shoddy', 'schlocky', 'harden', 'lecherous', 'googoo', 'unheralded', 'tall', 'asinine', 'flick', 'dare', 'decentbr', 'longhaired', 'cagelike', 'rude', 'destroys', 'fake', 'therebr', 'window', 'genuine', 'nipple', 'erect', 'lifts', 'thaw', 'sorta', 'mute', 'hmmm', 'hottie', 'thaws', 'hysterical', 'bedroom', 'chest', 'collie', 'italian', 'tried', 'insane', 'fish', 'fishbone', 'trek', 'warned', 'addictive', 'summery', 'scientific', 'spine', 'fired', 'upstage', 'goodbye', 'monstrous', 'anatomical', 'inquisitive', 'duplicitous', 'helpful', 'hero', 'whos', 'scale', 'tame', 'spanish', 'inept', 'get', 'adventuresome', 'reckless', 'wouldnt', 'vapid', 'improbable', 'stuff', 'tossed', 'fertile', 'stops', 'celluloidbr', 'martial', 'nexttoimpossible', 'chinatown', 'expectationsuntil', 'fantasy', 'guys', 'underappreciated', 'thru', 'horse', 'unexpectedbr', 'crazed', 'torture', 'warped', 'bleak', 'coherent', 'bastard', 'approach', 'irony', 'bundle', 'nastiest', 'underscoring', 'despair', 'outside', 'infinite', 'chastened', 'professor', 'anyone', 'deepest', 'wishs', 'some', 'ups', 'criticismsbr', 'comedy', 'morebr', 'kept', 'floppy', 'subliminal', 'emphatic', 'crows', 'unrecognisable', 'lack', 'midmovie', 'explain', 'prove', 'realitybr', 'lacked', 'r', 'mutated', 'u', 'dang', 'nvm', 'loved', 'spelled', 'trusted', 'perceptive', 'informative', 'easier', 'im', 'marry', 'suck', 'abilitytalent', 'limitationsbr', 'accident', 'scoopbr', 'static', 'grande', 'simulated', 'freak', 'readup', 'smash', 'dizzy', 'shutter', 'downbr', 'internet', 'desensitized', 'easebr', 'disgusted', 'fingernails', 'rival', 'stale', 'solidbr', 'understanding', 'galaxy', 'limited', 'anchor', 'eleven', 'whiner', 'self', 'disagreement', 'torturing', 'hostile', 'crazy', 'respect', 'snuff', 'tortured', 'beaten', 'japonese', 'insulting', 'net', 'manga', 'eyeball', 'amateur', 'digital', 'hammer', 'ban', 'fourth', 'sheen', 'unearthed', 'throat', 'devoid', 'gore', 'unadulterated', 'fold', 'em', 'exploitive', 'st', 'freaky', 'sht', 'videos', 'undergo', 'captive', 'subsequent', 'flaky', 'consist', 'unconvincing', 'strung', 'spun', 'drink', 'bottle', 'lay', 'planetary', 'archaeological', 'unpredictablebr', 'watchbr', 'humorous', 'savagelyspun', 'pulledanimal', 'herhot', 'unforgettable', 'disturbinganywaythis', 'noticeable', 'nonshock', 'paranoidpessimistic', 'masterpiece', 'astonishment', 'smartest', 'rug', 'clever', 'arbitrary', 'combine', 'con', 'feel', 'compensated', 'bring', 'hurts', 'prim', 'stunning', 'pal', 'seebr', 'lid', 'bearable', 'tactical', 'jeopardy', 'ordersbr', 'weaker', 'ludicrous', 'breathe', 'seasonbr', 'shaped', 'ultramodern', 'uniform', 'sarcophagus', 'latenight', 'instant', 'forgotten', 'theyll', 'primitive', 'gun', 'convertible', 'patient', 'gambler', 'wrought', 'alongside', 'amazed', 'deceive', 'thick', 'twenty', 'seductive', 'drags', 'proverbial', 'writer', 'noirbr', 'shady', 'prepared', 'ride', 'aural', 'compositional', 'entertained', 'justified', 'cad', 'clueless', 'healthy', 'failure', 'ruined', 'truebr', 'stands', 'compulsive', 'shark', 'help', 'snappy', 'til', 'conman', 'opinionsbr', 'youll', 'letdown', 'unscripted', 'reminded', 'surfacebr', 'rank', 'stiff', 'arrival', 'spoken', 'relaxed', 'weird', 'jumble', 'standard', 'dingy', 'write', 'answered', 'learner', 'lesson', 'forgive', 'stagy', 'halfhour', 'gunfire', 'esteemed', 'psychologist', 'shadowy', 'saw', 'web', 'dialogue', 'smart', 'unattractive', 'homeliness', 'injury', 'underside', 'historian', 'unrealnessbr', 'glamour', 'admirablybr', 'escape', 'despicable', 'directional', 'confront', 'contemplate', 'ordinary', 'lowlife', 'psychiatrist', 'uninspiring', 'double', 'classwar', 'discontented', 'seedy', 'dive', 'twentyfive', 'wipe', 'slate', 'card', 'urgency', 'rigid', 'exterior', 'penetrated', 'dynamic', 'quintessential', 'dictionary', 'unhappy', 'resentful', 'happywith', 'occur', 'inspirational', 'humble', 'sci', 'fi', 'fanatic', 'nearer', 'upinarms', 'theological', 'misplaced', 'nigh', 'tremendous', 'biblical', 'drafts', 'magesticcough', 'towards', 'que', 'illustriousness', 'presidential', 'newfound', 'blissful', 'habitual', 'mispittiful', 'premier', 'bathroom', 'forgetable', 'crackle', 'goofy', 'predictible', 'luck', 'wifebr', 'multifunction', 'scenebr', 'unceremonious', 'upcoming', 'grade', 'encyclopedias', 'experimental', 'electronic', 'distressed', 'shortexperimental', 'divine', 'crude', 'soup', 'laidback', 'deleted', 'newstv', 'laughoutloud', 'controversial', 'girlfriend', 'wellbr', 'heartfelt', 'forget', 'wannabe', 'untalented', 'file', 'youre', 'loo', 'rut', 'inoffensive', 'narrowminded', 'accomplished', 'larger', 'form', 'seasonsbr', 'intricately', 'conceptual', 'sacrilegious', 'extent', 'shaky', 'comical', 'firedbr', 'tired', 'mess', 'flagrant', 'popcorn', 'sidewalk', 'promising', 'breaking', 'asteroid', 'temper', 'manual', 'happiest', 'continue', 'downtown', 'spare', 'newer', 'compare', 'exasperated', 'stress', 'lowbrow', 'absent', 'nuts', 'electrician', 'motherinlawbr', 'rarer', 'barbarous', 'veteran', 'straighttovideo', 'rubbish', 'mawkish', 'appeal', 'korean', 'ageand', 'governmentrequired', 'birthday', 'eager', 'glimpse', 'ass', 'pleased', 'discouraged', 'hasnt', 'fever', 'unclean', 'grades', 'isolated', 'cheerful', 'iq', 'private', 'fluke', 'doc', 'crib', 'grim', 'occasional', 'temporary', 'soap', 'visualnarrative', 'method', 'inexpensive', 'prose', 'pulps', 'protean', 'novels', 'muscular', 'shirtbr', 'venerable', 'villainous', 'casebr', 'anyonebr', 'amongst', 'certainty', 'undergone', 'representative', 'unrest', 'camp', 'respective', 'waiter', 'lemonade', 'noted', 'wherein', 'active', 'samantha', 'dial', 'queen', 'alternate', 'rebel', 'global', 'lasted', 'laughed', 'extensive', 'minimum', 'rooftops', 'conflict', 'concept', 'unromantic', 'uncomfortable', 'hokey', 'secondary', 'obese', 'pale', 'schizophrenic', 'agobr', 'forum', 'tongue', 'socalled', 'spin', 'campier', 'gothic', 'nonexistent', 'latin', 'delight', 'overdue', 'unmissable', 'entertainingi', 'countless', 'cinema', 'followup', 'unison', 'unbalanced', 'parish', 'hes', 'landlady', 'tobacconist', 'lengthy', 'developed', 'insufferable', 'pompous', 'enact', 'jest', 'expose', 'intern', 'feud', 'erratic', 'fussy', 'soppy', 'jealous', 'melancholy', 'posh', 'toldcan', 'screenplayplaywright', 'vary', 'tedious', 'trilogy', 'afterallbr', 'missed', 'custodialtype', 'prosperous', 'unintentional', 'enliven', 'nonmaugham', 'describe', 'occasionbr', 'sanitorium', 'crew', 'jean', 'irascible', 'internal', 'illness', 'dealing', 'village', 'nazi', 'courtroom', 'fictitious', 'legitimate', 'secondtier', 'prescient', 'supercreative', 'leg', 'cattle', 'picture', 'nominated', 'performancea', 'guilt', 'filbert', 'gibbet', 'heavier', 'incredulous', 'prompt', 'witty', 'sassy', 'encore', 'impossibleexcept', 'african', 'deepbr', 'shines', 'vintage', 'tendentious', 'waterbed', 'swirlhairdoed', 'faaaaaabulous', 'purse', 'persona', 'somewhere', 'dress', 'burst', 'evoke', 'impulse', 'walk', 'burly', 'buys', 'park', 'fur', 'stay', 'featured', 'staid', 'crappy', 'prevent', 'youd', 'quaint', 'drunk', 'relic', 'marionette', 'naivet', 'messageladen', 'grist', 'sleep', 'url', 'proamerican', 'noble', 'purposebr', 'todays', 'absolute', 'bloodthirsty', 'justify', 'immoral', 'heinous', 'agrandizement', 'lofty', 'prostitute', 'vanish', 'experiment', 'raucous', 'incorrect', 'screwball', 'episodic', 'pacey', 'happened', 'againbr', 'sidebr', 'dozens', 'lazy', 'attractive', 'diversionmuch', 'belong', 'laughs', 'processbr', 'feelingversusduty', 'outrageous', 'effervescent', 'commentary', 'malleable', 'superficial', 'fable', 'inhumane', 'lawful', 'apathy', 'preachy', 'earnest', 'relax', 'phony', 'annoyingparticularly', 'littlest', 'romanian', 'discernible', 'ultrafamous', 'hellthose', 'assi', 'baby', 'tent', 'ordeal', 'australian', 'familys', 'accent', 'nativeborn', 'cleared', 'imprisoned', 'charitable', 'pit', 'lest', 'unremarkable', 'underappreciatted', 'attentive', 'bliss', 'punchline', 'laughable', 'angered', 'mediapublic', 'understandable', 'viewsbr', 'dingo', 'suspicious', 'presented', 'lynch', 'clinical', 'melodramatic', 'pursuant', 'uproar', 'accused', 'barbecue', 'ritual', 'thirsty', 'obsessed', 'apart', 'mirror', 'return', 'vicious', 'accessory', 'sentenced', 'circumstantial', 'supportbr', 'sociological', 'gossip', 'mobs', 'evolved', 'unverified', 'vigorous', 'virtue', 'aloofness', 'downward', 'behaved', 'frankly', 'approachable', 'prone', 'enrapture', 'deny', 'restaurant', 'passionate', 'pleasurable', 'conscious', 'fall', 'receive', 'toprate', 'nails', 'overkill', 'daviss', 'arrive', 'attempt', 'moderate', 'stoic', 'ravenous', 'progressive', 'unsympathetic', 'faint', 'monster', 'newsmedia', 'uninformed', 'austrialian', 'picked', 'arterial', 'collar', 'layman', 'hearsay', 'investigate', 'vacation', 'sensational', 'likablebr', 'reallife', 'relentless', 'recommendedbr', 'unqualified', 'prodigious', 'unsentimental', 'superlative', 'communicated', 'cranky', 'unpleasant', 'unrelenting', 'monthold', 'austrailian', 'terrifying', 'devoured', 'afterthought', 'invasive', 'halftruths', 'medias', 'importantbr', 'incomprehensible', 'extremelypowerful', 'basedonatrue', 'hounding', 'babybr', 'harder', 'stylized', 'scenesbr', 'cheese', 'bucolic', 'telltale', 'spontaneity', 'paced', 'lived', 'wrongbr', 'nohoper', 'unravelbr', 'sterling', 'achievement', 'nonetooserious', 'togary', 'nu', 'lillian', 'audio', 'friend', 'fat', 'altruistic', 'liberty', 'vocabularybr', 'stayed', 'proletariat', 'outmoded', 'topple', 'tyrannybr', 'brown', 'rumanian', 'peddle', 'undone', 'worldwide', 'winsome', 'hostess', 'gal', 'waybut', 'erudite', 'call', 'uninterrupted', 'residue', 'someday', 'delicacy', 'womenonly', 'library', 'ebay', 'weekly', 'httpwwwjohntoppingcomharveyperrwarwidowwarwidowhtml', 'conservative', 'seek', 'upandcoming', 'furious', 'cretinous', 'lovely', 'crudeness', 'incest', 'slotbr', 'scarybr', 'consecutive', 'sailor', 'screenbr', 'civil', 'reputationbr', 'teenager', 'fast', 'annoyedbr', 'accomplish', 'back', 'secure', 'magician', 'princess', 'djinns', 'grandiose', 'arabian', 'villain', 'genie', 'mechanical', 'near', 'kit', 'rear', 'fly', 'thousand', 'menacing', 'yearold', 'blind', 'halfway', 'incident', 'fantastical', 'mild', 'classify', 'irrepressible', 'dated', 'melodrama', 'unto', 'spectaclebr', 'category', 'kingdom', 'stable', 'thatbr', 'revealed', 'djinn', 'boythief', 'sidekick', 'adventurous', 'definitely', 'corny', 'fiftyfoot', 'anti', 'considerable', 'antigerman', 'act', 'west', 'opinionbr', 'humour', 'aka', 'malignant', 'throne', 'mechanic', 'othersbr', 'especial', 'urgent', 'evocative', 'oriental', 'dusty', 'goldie', 'sorcererbr', 'relish', 'sensitive', 'unenlightened', 'athletic', 'responsible', 'dual', 'fairy', 'pinksbr', 'distinguished', 'pointsthe', 'disguise', 'vizier', 'gift', 'servant', 'storm', 'meanwhile', 'stabs', 'goddesss', 'flower', 'bow', 'throng', 'flee', 'designs', 'choral', 'avaricious', 'verystrong', 'setdesign', 'wizard', 'shadow', 'jail', 'unbeknown', 'allow', 'hit', 'crap', 'tacked', 'seas', 'wee', 'outdated', 'clandestine', 'epitome', 'upi', 'starry', 'eyed', 'slum', 'thief', 'suspend', 'gargantuan', 'wistful', 'finale', 'exposure', 'twist', 'reduced', 'teen', 'oldest', 'today', 'achievementbr', 'bloodless', 'artificial', 'genii', 'list', 'pastel', 'deceit', 'justice', 'frame', 'freed', 'rightful', 'embodied', 'literary', 'inflict', 'screens', 'imposing', 'charmbr', 'technicolor', 'traitorous', 'tornadolike', 'untouched', 'periodic', 'affluent', 'workbr', 'showy', 'continent', 'fascist', 'embassy', 'runmanian', 'adapted', 'stern', 'antifascist', 'lyrical', 'awkward', 'dressed', 'unforgivable', 'demanding', 'opera', 'leading', 'lavishness', 'indoor', 'soprano', 'customary', 'fictionalized', 'tenor', 'sung', 'jose', 'dying', 'died', 'robust', 'peak', 'herselfbr', 'vocal', 'visionary', 'expensive', 'portrayed', 'modest', 'legends', 'arebr', 'discipline', 'contractual', 'loveliest', 'night', 'height', 'fail', 'c', 'trash', 'historic', 'handsome', 'notfat', 'adjust', 'infatuated', 'charisma', 'push', 'hardiest', 'directingbr', 'injured', 'tugs', 'embarrassed', 'manipulated', 'efficient', 'strike', 'try', 'sadness', 'scattered', 'nail', 'fleeting', 'kaufman', 'left', 'horny', 'reticent', 'train', 'sunrise', 'unfoldedbr', 'cautious', 'indepth', 'wished', 'prequel', 'emotionsthe', 'unparalleled', 'highlight', 'lovedbr', 'shrewd', 'hrs', 'infallible', 'storyhere', 'whybr', 'promiscuous', 'decide', 'excitement', 'classical', 'rendezvous', 'till', 'loveydovey', 'intruderbr', 'diverse', 'powerbr', 'soulful', 'overstatement', 'ideal', 'feminine', 'unpretentious', 'speaks', 'ointment', 'disheveled', 'slob', 'nonchalant', 'untucked', 'properly', 'trim', 'unwashed', 'oftcynical', 'disturbed', 'silly', 'sun', 'irksome', 'halfbaked', 'reunite', 'alonebr', 'easytofollow', 'spoonfed', 'endingshappy', 'speak', 'childrendid', 'slightest', 'blah', 'brighter', 'abstract', 'depicted', 'trustworthy', 'gem', 'breadth', 'inconsequential', 'werent', 'livesbr', 'kiss', 'disposal', 'palm', 'adult', 'eloquent', 'engaging', 'lifebr', 'dreams', 'harmless', 'facile', 'unwilling', 'jesse', 'sheer', 'lifetime', 'outbr', 'discuss', 'everybody', 'traveller', 'choose', 'comparative', 'unjust', 'maltese', 'americas', 'interwar', 'determined', 'fightercourier', 'loyal', 'foolish', 'ineffective', 'fed', 'attracted', 'magnetic', 'poet', 'skeptic', 'sequel', 'proof', 'bestbr', 'befall', 'picturesque', 'immense', 'relatable', 'upbeat', 'deliver', 'useless', 'sense', 'fond', 'exactly', 'televisionfilm', 'forgiveness', 'oversightbr', 'geriatric', 'formative', 'trauma', 'fleshandblood', 'surge', 'inspire', 'regarded', 'memoir', 'totalitarian', 'exterminationbr', 'mr', 'convincing', 'upright', 'luminary', 'contemptible', 'disease', 'illbr', 'someone', 'usbr', 'rebellious', 'satisfaction', 'aspect', 'livebr', 'idealistic', 'profound', 'swedish', 'overact', 'exciting', 'neglectbr', 'accessible', 'supplemental', 'sequels', 'fill', 'flesh', 'trivia', 'drivein', 'info', 'majesty', 'wait', 'selflessness', 'waited', 'dismantled', 'somehow', 'grip', 'adultsno', 'fansgroupiesmoney', 'anewthis', 'decrepit', 'hurt', 'moviesad', 'warn', 'loneliness', 'genius', 'musician', 'grief', 'conclusion', 'obsession', 'hidden', 'trust', 'inflective', 'longbr', 'racial', 'smoke', 'avoid', 'thinking', 'lifestyle', 'vision', 'thembr', 'couldnt', 'chancebr', 'halfdozen', 'harvest', 'pay', 'americanised', 'turd', 'awardmaterial', 'earth', 'filled', 'baseballlike', 'ignorant', 'irresistible', 'townfamous', 'amiable', 'twistbr', 'goodness', 'policeman', 'realisticbr', 'seemed', 'confusing', 'widower', 'marijuana', 'childish', 'solution', 'joint', 'precisely', 'irresponsible', 'ta', 'festive', 'hearted', 'spent', 'underdog', 'cameroonian', 'equality', 'amazingly', 'joyous', 'pidginenglish', 'straitened', 'wholesale', 'piquant', 'funnier', 'even', 'chickflic', 'pruner', 'nominee', 'shop', 'debtsbr', 'forgiveable', 'cleaner', 'magnificant', 'frustrating', 'foray', 'march', 'discover', 'mat', 'gear', 'hundredth', 'funnest', 'timea', 'object', 'secert', 'starsbut', 'greatbr', 'completelybut', 'timei', 'upwhen', 'againthe', 'favoritesbr', 'itthis', 'n', 'intangible', 'timesin', 'advanced', 'star', 'launch', 'insured', 'used', 'verbal', 'judicial', 'religiousethnic', 'differencebr', 'inspiring', 'absentbr', 'lush', 'hello', 'suppose', 'speechless', 'dvd', 'clue', 'austens', 'lap', 'garnered', 'sic', 'unfinished', 'victorian', 'ambitious', 'unsuitable', 'complicationsbr', 'affectionate', 'sixteen', 'querulous', 'garrulous', 'indicate', 'juliet', 'straightforward', 'provincial', 'salutory', 'toned', 'delicious', 'dreamy', 'polite', 'infant', 'brotherly', 'wry', 'understated', 'talkative', 'thrilled', 'included', 'permissible', 'domestic', 'prosecuted', 'occupy', 'doubtful', 'tactful', 'secluded', 'modernity', 'morbid', 'oh', 'cinematography', 'saccharine', 'ball', 'gentlemanlike', 'warmth', 'charm', 'showand', 'linesbr', 'fuss', 'declaration', 'puckish', 'vogue', 'astute', 'round', 'retrospect', 'calm', 'flowbr', 'naturalness', 'expressive', 'relate', 'regardless', 'behavior', 'beset', 'reunited', 'overlycritical', 'touchingbr', 'competent', 'southwest', 'secular', 'victorious', 'senior', 'forcible', 'favorable', 'genderneutral', 'noteworthy', 'edge', 'quarterhind', 'impaired', 'forlorn', 'picnic', 'dig', 'awaybr', 'merry', 'sadisticmasochist', 'felt', 'romp', 'existential', 'nutty', 'respectable', 'matrix', 'pointless', 'interestingbr', 'cowriter', 'stick', 'iranian', 'softer', 'maximum', 'metaphysical', 'claustrophobic', 'strongest', 'believablebr', 'cut', 'objectionable', 'lighthearted', 'duo', 'framebr', 'tricky', 'promotional', 'erroneous', 'intolerant', 'logic', 'advert', 'north', 'south', 'determine', 'novelty', 'questionable', 'unlikeable', 'flip', 'lackingbr', 'fool', 'nonnew', 'specialized', 'cynicalcritical', 'watching', 'penchant', 'trapped', 'cubic', 'interact', 'optimistic', 'lifelong', 'dimwitted', 'rentfree', 'illconstructed', 'advantage', 'neurotic', 'antisocial', 'unfit', 'demolished', 'thrillerhorror', 'aphoristic', 'antagonistic', 'generous', 'greenscreen', 'cowrote', 'longtime', 'unwanted', 'postapocalyptic', 'finishbr', 'slang', 'suburbs', 'minute', 'bothersome', 'disappear', 'agent', 'agoraphobic', 'turns', 'panic', 'spend', 'hunger', 'reveal', 'diabolical', 'god', 'pad', 'prey', 'twilight', 'imho', 'minimalistic', 'locate', 'plight', 'sillier', 'untilbr', 'candy', 'lowbudget', 'handworkbr', 'appearbr', 'satisfactory', 'onebr', 'amalgam', 'wellmade', 'monumental', 'hate', 'eyecandy', 'timebr', 'eyes', 'loveinterest', 'spirited', 'ultrafast', 'secretaryturnedlove', 'extravagant', 'alone', 'distasteful', 'elaborate', 'versatile', 'venomous', 'fasttalking', 'mischievous', 'completely', 'fro', 'frenetic', 'danced', 'momentary', 'kaleidiscopic', 'playersbr', 'julian', 'whirlwind', 'unscrupulous', 'footlight', 'suggestive', 'nick', 'supporting', 'nonstop', 'freshness', 'enjoyablebr', 'mellow', 'vocalsbr', 'started', 'engulfed', 'selfreferential', 'quickest', 'goodnatured', 'hooks', 'himmy', 'digest', 'forty', 'unbilled', 'unsweaty', 'wholesome', 'fifty', 'federal', 'stomps', 'wit', 'inbr', 'earliest', 'characters', 'recommendable', 'pertinent', 'showcase', 'extravaganza', 'yes', 'soso', 'defy', 'nonmusical', 'favour', 'spark', 'routine', 'formulated', 'comedown', 'climactic', 'watchingyou', 'rational', 'innuendo', 'bikinis', 'trusty', 'frequent', 'theater', 'stage', 'unquestionable', 'nostalgic', 'theatre', 'performancesbr', 'jaunty', 'risqu', 'proceeded', 'crooked', 'fraudulent', 'unfaithful', 'buoyant', 'bighearted', 'unaccustomed', 'terpsichorean', 'plentiful', 'unclad', 'synchronous', 'tribute', 'blend', 'futuristic', 'gloomy', 'daytoday', 'loaf', 'galore', 'babes', 'clientle', 'talky', 'traitor', 'unrehearsed', 'quisessential', 'wind', 'extravaganzas', 'nonsense', 'unmistakable', 'joke', 'threestory', 'thrill', 'uplift', 'spreadeagle', 'naughty', 'eartoear', 'undisputed', 'scantilyclad', 'chorus', 'prestigious', 'noncompromising', 'enigmatic', 'personality', 'mix', 'unavailable', 'cultfavorite', 'lo', 'wickedness', 'lover', 'alibi', 'carnal', 'sexyinnocent', 'unsettling', 'allamerican', 'muted', 'unsavory', 'eroticthriller', 'posterlucky', 'uncut', 'comment', 'exempt', 'street', 'systembr', 'strugglebr', 'royal', 'catchascatchcan', 'memory', 'accidental', 'medieval', 'underneath', 'burgandian', 'itselfbr', 'impoverished', 'clothing', 'spiv', 'border', 'dodgy', 'den', 'matter', 'majestys', 'bugundian', 'theory', 'mile', 'fifteenth', 'irrespective', 'anomaly', 'seal', 'surrenderbr', 'governmentimposed', 'unpopularity', 'reviewer', 'heartless', 'illwill', 'campaigned', 'politicalsocial', 'foreignbr', 'stumble', 'neighborhood', 'sovereign', 'meticulous', 'parallel', 'prank', 'fortune', 'inquest', 'typecasted', 'handheld', 'lite', 'quota', 'worlds', 'tiniest', 'solitary', 'change', 'necessarily', 'warms', 'advocate', 'salesman', 'pussywhipped', 'southern', 'slick', 'take', 'inarticulate', 'w', 'hill', 'atmospheric', 'standstill', 'sweetnatured', 'creepiest', 'charming', 'simpleminded', 'fairlysafe', 'understatement', 'untold', 'oneday', 'snapshot', 'study', 'lost', 'ill', 'decapitated', 'tugged', 'vent', 'basement', 'murder', 'allfemale', 'festival', 'redundant', 'searly', 'climaxscene', 'jaw', 'imagery', 'simplistic', 'nevertheless', 'handful', 'californian', 'anniversary', 'register', 'introvert', 'submissive', 'perverse', 'cellar', 'inbred', 'lift', 'sleeper', 'psychiatric', 'perverted', 'travel', 'diaperclad', 'terrorizes', 'virtuoso', 'na', 'gentleman', 'trouble', 'undertheweather', 'linen', 'nap', 'yanked', 'fashionable', 'yummy', 'geeky', 'incestspawned', 'manchild', 'sturdy', 'oddest', 'nightmare', 'realness', 'autopsy', 'noname', 'ferocious', 'grungy', 'potent', 'absorbing', 'angel', 'entourage', 'lacking', 'finger', 'constitutes', 'perceive', 'indie', 'ohsodistant', 'horrorsuspense', 'thier', 'bogdown', 'anticlimaxesbr', 'medium', 'draws', 'draw', 'implausible', 'residual', 'extramarital', 'audacious', 'lighten', 'overlookeda', 'slice', 'extended', 'reasonsthese', 'lovelybr', 'interracial', 'sizes', 'asleep', 'turkish', 'coarse', 'smooth', 'satin', 'rustle', 'droning', 'exmilitary', 'slovakian', 'sparse', 'weary', 'resourceful', 'blood', 'lots', 'gunshot', 'woundsknife', 'arrow', 'dolph', 'eplosive', 'targetthey', 'polemical', 'incisive', 'select', 'blatant', 'plural', 'applicable', 'tenuous', 'smug', 'durable', 'darkness', 'maniacal', 'methodical', 'unopposed', 'laterbr', 'oppose', 'procured', 'victory', 'fascinating', 'treatiesbr', 'gobs', 'moody', 'surrealistic', 'cg', 'itits', 'actressthe', 'scare', 'anywaybr', 'scarier', 'daytime', 'spooky', 'stagnant', 'gain', 'anticlimactic', 'pier', 'unanswered', 'jetty', 'garage', 'psychotic', 'inbetween', 'submit', 'name', 'whiff', 'wher', 'x', 'shy', 'deserted', 'stressful', 'craftsman', 'achieved', 'escaped', 'sex', 'formula', 'tepid', 'convict', 'flippant', 'childishly', 'sitcomishly', 'unmasculine', 'encounter', 'macho', 'fluff', 'gable', 'watchablebr', 'marvellous', 'wooden', 'cavalry', 'sacrificial', 'centenary', 'tainted', 'dubbed', 'specialbr', 'jobbr', 'dancer', 'terrificbr', 'related', 'fourfive', 'riding', 'favor', 'clichridden', 'fairness', 'transgenic', 'reviews', 'regard', 'captured', 'juvenile', 'iced', 'fanatical', 'shopsbr', 'locks', 'gunmanbr', 'warbr', 'juvie', 'welllit', 'test', 'liaison', 'nicole', 'siege', 'woundsbr', 'address', 'lucid', 'dealt', 'pretext', 'firefly', 'squalid', 'leatherclad', 'gangbr', 'disruptive', 'advance', 'unnoticed', 'semiregular', 'worry', 'wanted', 'disservice', 'premise', 'click', 'minutesbr', 'unendearing', 'ample', 'disingenious', 'attentionbr', 'unwatchable', 'braindead', 'unwell', 'grapple', 'notsosubtle', 'meditative', 'genteel', 'ingenuous', 'continued', 'satellite', 'untrue', 'harmony', 'gown', 'culinary', 'invite', 'pert', 'sexmad', 'stretched', 'seriesbr', 'interestbr', 'mans', 'endsbr', 'intuitive', 'indonesian', 'fairytale', 'songs', 'nothingbr', 'whim', 'populist', 'believeable', 'spicebr', 'ofbr', 'dish', 'belive', 'unpopular', 'unpredictable', 'goodthis', 'coolest', 'revenge', 'robotic', 'email', 'nogoodnik', 'heat', 'introverted', 'dependent', 'percent', 'playing', 'attainable', 'clerk', 'ego', 'bolster', 'tumble', 'fellowship', 'appear', 'knock', 'destroyed', 'conciousness', 'bombing', 'bombs', 'logical', 'firstbr', 'weclome', 'shout', 'thirty', 'identify', 'giraffe', 'begin', 'thisbr', 'cousin', 'touching', 'deeperbr', 'masterpiecebr', 'aid', 'realizes', 'beloved', 'glitch', 'emotionless', 'shakes', 'likewisebr', 'indistinguishable', 'allbr', 'irrelevant', 'afroamerican', 'scottish', 'clearer', 'nonnormal', 'distinctive', 'tonight', 'manylayered', 'behold', 'richness', 'storiesbr', 'filmed', 'gaelic', 'innumerable', 'oral', 'sodden', 'invisible', 'impenetrable', 'grandfather', 'frustration', 'twentyfirst', 'inaccessible', 'treacherous', 'ageold', 'refreshing', 'bald', 'astronaut', 'engineersinvisible', 'drastic', 'delete', 'bitchin', 'realist', 'fantasya', 'shuttle', 'hamper', 'automatic', 'sent', 'unreal', 'endbr', 'conspiratorial', 'nostalgicbr', 'rookie', 'frontrow', 'crash', 'forgetbr', 'tragedy', 'impacthe', 'buildingas', 'accidentin', 'soundsthese', 'tower', 'lifeyou', 'tony', 'unitbr', 'assemble', 'gist', 'lectured', 'humansocietal', 'relevant', 'wellwritten', 'darkest', 'heightbr', 'funeral', 'tsunami', 'needed', 'onbr', 'sum', 'blockbuster', 'fireman', 'devastated', 'destruction', 'wasbr', 'hell', 'captain', 'inspect', 'oneonone', 'finished', 'frenzied', 'rigorous', 'sky', 'navigate', 'audible', 'visible', 'apocalyptic', 'upclose', 'rubble', 'obsolete', 'sensationalize', 'newbie', 'academy', 'probationary', 'sift', 'butt', 'station', 'vet', 'unthinkable', 'accompany', 'crowds', 'unimaginable', 'uncles', 'lbs', 'arduous', 'selfless', 'sensationalistic', 'greet', 'fearful', 'lostbut', 'chastised', 'unflaunting', 'daybr', 'otherbr', 'bravery', 'thehigh', 'thatin', 'firefighter', 'documentarys', 'rescue', 'disturbingmany', 'backstory', 'retrospective', 'portray', 'uninformative', 'attract', 'verite', 'firemen', 'unobtrusive', 'probie', 'reflexive', 'dialectical', 'proudbr', 'amidst', 'portico', 'monolithic', 'fire', 'narration', 'banal', 'everybodys', 'nearby', 'whatbr', 'dubious', 'stagedbr', 'reflected', 'contain', 'supposed', 'swung', 'safetybr', 'invited', 'eyesbr', 'heard', 'tapebr', 'science', 'locker', 'bombed', 'courage', 'scarred', 'breaks', 'clique', 'slaughtered', 'east', 'thanks', 'glorified', 'infamy', 'edgebr', 'suspect', 'memorys', 'commitment', 'outsidebr', 'preserved', 'sceptical', 'documnetary', 'girlish', 'nuclear', 'beach', 'eyeful', 'lent', 'proxy', 'reward', 'crazier', 'personable', 'vivant', 'dreary', 'noirs', 'sunnier', 'noir', 'adman', 'afford', 'cramped', 'lifeless', 'infernal', 'spacious', 'suburbia', 'catchier', 'sunny', 'sodas', 'unglamorous', 'souls', 'describes', 'hometown', 'dramas', 'communist', 'buy', 'lostbr', 'tender', 'actorscary', 'instrumental', 'depth', 'implied', 'rifle', 'indulge', 'dose', 'creepiness', 'underscored', 'intrusive', 'quantitative', 'qualitative', 'easygriffiths', 'iti', 'aboutim', 'bunny', 'playground', 'grandpas', 'knew', 'foo', 'visit', 'unprecedented', 'fulfill', 'expert', 'acerbic', 'resonate', 'photo', 'ramshackle', 'notsoblissful', 'agreeable', 'idiosyncratic', 'avuncular', 'laconic', 'officious', 'radio', 'formulaic', 'nativetexu', 'ladenlike', 'detonate', 'kickbutt', 'networks', 'suggest', 'amorous', 'participant', 'uninhibited', 'angst', 'wildneasy', 'polished', 'acoustic', 'slower', 'sarnos', 'prowess', 'wanderlust', 'undressed', 'scariest', 'discourse', 'spoof', 'partial', 'critic', 'freedom', 'spoil', 'deployed', 'yellow', 'attached', 'unspoken', 'foul', 'lowest', 'undemanding', 'riotous', 'zuzzzuzz', 'architect', 'recite', 'strict', 'okay', 'costume', 'superheroine', 'charmed', 'fantasticbr', 'pubic', 'cleverest', 'segregated', 'eighty', 'repugnant', 'seats', 'revivalist', 'stomach', 'bmovie', 'zombie', 'inch', 'choppy', 'mel', 'horrorslash', 'gorefest', 'lame', 'care', 'rapist', 'demon', 'heroin', 'beep', 'etcbr', 'mystery', 'san', 'universebr', 'thingbr', 'animate', 'voyage', 'differentiate', 'boatbr', 'sophomore', 'filmstudent', 'twelve', 'mistaken', 'answer', 'apposite', 'savior', 'onealthough', 'characterhe', 'voice', 'appearsan', 'disappeared', 'sinatras', 'terror', 'townspeople', 'coward', 'helps', 'silver', 'faultless', 'acted', 'priori', 'selfironic', 'satire', 'farbr', 'cheek', 'portrayedbr', 'lowrent', 'venal', 'catharsic', 'path', 'groupie', 'numb', 'washedup', 'stuck', 'trippy', 'sincebr', 'toast', 'torch', 'hangdog', 'punk', 'misogynistic', 'scenes', 'musicoriented', 'sounded', 'washed', 'comeback', 'search', 'interpersonal', 'tour', 'harmonious', 'wrinklyold', 'englishbritish', 'usd', 'wildnwacky', 'morose', 'penniless', 'obscurity', 'hefty', 'ineffectual', 'disastrous', 'reignite', 'bumpy', 'screwy', 'pip', 'luminescent', 'groovy', 'erstwhile', 'seriocomic', 'triple', 'wellobserved', 'selfdestructbr', 'inflated', 'nearest', 'aboutbr', 'rockumentary', 'spinal', 'empathise', 'allbritish', 'toobr', 'writerbr', 'ends', 'melancholic', 'imaginary', 'xth', 'fictitional', 'fanatstic', 'monetary', 'flame', 'pastbr', 'bitter', 'glamouresque', 'squabble', 'rusty', 'classy', 'cordless', 'epigrammatic', 'restless', 'revolutionary', 'postmodern', 'allpervasive', 'generational', 'fatherson', 'itit', 'engrossed', 'vague', 'teary', 'introspective', 'farcical', 'thoroughly', 'organizationbr', 'rythmic', 'planified', 'confucian', 'brash', 'greedy', 'expansive', 'murky', 'underhand', 'rhythms', 'unmemorable', 'spontaneous', 'immaterial', 'spectacularbr', 'sacred', 'motorbike', 'tasteful', 'integrated', 'shifty', 'though', 'mainland', 'influenced', 'striking', 'shear', 'only', 'notbr', 'vibrant', 'careless', 'cops', 'outsider', 'opulent', 'democratic', 'slim', 'perturbed', 'happensbr', 'unresolved', 'variable', 'tos', 'extrovert', 'casted', 'greed', 'restbr', 'undercover', 'betrayal', 'hong', 'kong', 'arrangement', 'worthbr', 'optioned', 'bunch', 'slasher', 'psycho', 'assistant', 'badbr', 'umm', 'homegrown', 'ulfinal', 'shortage', 'universallack', 'sixty', 'brilliantbr', 'fulltilt', 'anonymous', 'indestructible', 'interrupted', 'clumsy', 'sendup', 'filming', 'flickthis', 'genreyes', 'nut', 'spreepeople', 'alsothe', 'murdersthe', 'concernthe', 'seriouslywhich', 'enoughwhile', 'seriouslythere', 'walkedof', 'endwhere', 'sceneswe', 'unoriginal', 'moviebeautiful', 'hole', 'burnt', 'cheesiest', 'madebr', 'tongueincheek', 'pupilless', 'vaults', 'tagline', 'wouldve', 'unmasking', 'gimmick', 'coursebr', 'killer', 'curse', 'nextbr', 'actressbr', 'neuroinfectious', 'shadowsideozzieandharriet', 'lonely', 'cary', 'happeningwealthy', 'favoritemust', 'ifbr', 'snowbr', 'dadbr', 'obnoxious', 'fetched', 'fewer', 'brian', 'snow', 'bits', 'guard', 'feast', 'puberty', 'sympathising', 'grave', 'blemish', 'lifeit', 'unimportant', 'blessedand', 'wretched', 'unbearable', 'saddest', 'undeniable', 'genetic', 'singular', 'compulsory', 'lifes', 'intimate', 'participate', 'provide', 'flourish', 'trademark', 'nonverbal', 'gray', 'trampled', 'sociopolitical', 'twentieth', 'albanian', 'hang', 'ancestral', 'geographical', 'greek', 'refugee', 'politician', 'odysseybr', 'asceticismbr', 'vanished', 'pole', 'crumble', 'devil', 'slogan', 'ham', 'send', 'extension', 'photographic', 'jockey', 'duplicating', 'subpoena', 'mysterywriter', 'brainy', 'undercurrent', 'offscreen', 'schmooze', 'playful', 'heiress', 'afoot', 'dame', 'dependable', 'tinkly', 'celestial', 'amusingbr', 'exc', 'socky', 'chop', 'rewatch', 'found', 'recall', 'ish', 'becuase', 'fu', 'lunch', 'onmy', 'fightingthe', 'effeminate', 'kung', 'committedbr', 'pupil', 'venoms', 'tend', 'twisty', 'lizard', 'student', 'taught', 'moneybr', 'indicative', 'postworld', 'veritable', 'import', 'longoverdue', 'frail', 'idle', 'pragmatic', 'pastoral', 'dime', 'rogue', 'animal', 'mine', 'romance', 'disciple', 'bribes', 'icon', 'yer', 'unpredictability', 'kungfu', 'venom', 'namesbr', 'actionbr', 'function', 'combatant', 'filtered', 'futurebr', 'tragedynoir', 'genrebr', 'hoopla', 'grimy', 'arcane', 'unsurpassed', 'whodunnit', 'cheesey', 'nonfight', 'cowardly', 'puzzle', 'personalitys', 'nicelybr', 'gut', 'painbr', 'greatness', 'virtuostic', 'master', 'rattle', 'quality', 'comparable', 'subpar', 'fart', 'freakyfunny', 'bizarro', 'outtherefunny', 'freshest', 'overdose', 'darn', 'prissy', 'comedymusical', 'childwoman', 'unconventional', 'nonstereotypical', 'dimensional', 'lastbr', 'racist', 'realizea', 'monty', 'toothe', 'sitcom', 'contextual', 'traits', 'behavioural', 'selfcontained', 'flow', 'sanctimonious', 'define', 'insensitive', 'faceful', 'glad', 'impression', 'sarah', 'aroundbr', 'canceled', 'appetite', 'demonic', 'glue', 'elevate', 'denigrate', 'homerian', 'manic', 'foment', 'potty', 'online', 'hide', 'described', 'quotable', 'goddamned', 'singer', 'spruced', 'worn', 'stylistic', 'dramatized', 'hair', 'insecure', 'manage', 'grandmother', 'voyeuristic', 'nothingness', 'unedited', 'showed', 'evident', 'aesthetic', 'thumbs', 'nuttiest', 'normalcy', 'wreck', 'undoubtedly', 'examine', 'additional', 'loudbr', 'leads', 'urbane', 'piggybr', 'rhetorical', 'nonsensical', 'decayed', 'amazement', 'spell', 'tangible', 'airs', 'silhouette', 'rats', 'wisdom', 'offbroadway', 'squalor', 'fading', 'discussed', 'shone', 'brightest', 'televisual', 'expanded', 'disrepute', 'inseparable', 'unbreakable', 'exploitative', 'resigned', 'attic', 'familybr', 'recommended', 'everyonebr', 'laughsbr', 'webbr', 'truest', 'retarded', 'unhealthy', 'unsafe', 'shameful', 'lasting', 'cult', 'center', 'guaranteed', 'intimatebr', 'hugebr', 'bedridden', 'dishesbr', 'hintbr', 'stillbr', 'andbr', 'isbr', 'girlbr', 'fulfilledbr', 'outfit', 'unpretencious', 'futurelive', 'cat', 'vie', 'optional', 'torso', 'eating', 'utensilsbr', 'clocksbr', 'contradict', 'stuffiness', 'streak', 'cooked', 'urinating', 'thrive', 'wondered', 'savouredbr', 'tad', 'industrial', 'indifferent', 'salary', 'operative', 'assignment', 'domestichousehold', 'complaint', 'cloakanddagger', 'complicated', 'congresswoman', 'noirdetective', 'pulled', 'resemble', 'femme', 'deadlier', 'runofthemill', 'illusive', 'immerse', 'sterile', 'thosebr', 'gettingbacktruememorypart', 'billed', 'sedate', 'unfoldsbr', 'whitecollar', 'spy', 'record', 'acceleratebr', 'caricature', 'noticed', 'spoilment', 'mystic', 'risky', 'seenbr', 'sean', 'hitech', 'claustrophobia', 'insert', 'unmask', 'unprofitable', 'colorless', 'sebastian', 'eerie', 'soberly', 'notsodistant', 'supportive', 'wimpy', 'autobiographical', 'apartment', 'wise', 'spur', 'piggy', 'marketbr', 'door', 'satisfactorily', 'paint', 'absorbed', 'derivative', 'misconstrue', 'controlbr', 'blandest', 'mundane', 'tortuous', 'labyrinth', 'bled', 'identitybr', 'identifying', 'utilised', 'fatale', 'ringer', 'ray', 'sunshine', 'antidote', 'spice', 'assumed', 'broadcast', 'cover', 'nefarious', 'drugged', 'convinced', 'suspicionbr', 'polygraph', 'agentbr', 'forthcoming', 'b', 'downplayed', 'approached', 'screenplay', 'disc', 'staple', 'technological', 'recruitment', 'infiltrate', 'dispose', 'usefulness', 'convoluted', 'manchurian', 'utmost', 'stark', 'illogical', 'bookish', 'gradual', 'dispense', 'hypnotic', 'figure', 'scorebr', 'clive', 'downtoearth', 'moviebuff', 'diminish', 'devalued', 'twostory', 'fancifulbr', 'conspirital', 'starts', 'fascinated', 'unbelievablebr', 'nottoodistant', 'hiss', 'encountered', 'passable', 'drum', 'propagandawhich', 'unify', 'thisall', 'fright', 'finnish', 'waysthe', 'humanmuch', 'humanise', 'factoralsothe', 'timesthe', 'scenesthe', 'ala', 'set', 'topsthis', 'potentialcrisper', 'nerve', 'themethe', 'dullif', 'hostage', 'homeownership', 'schedule', 'trap', 'explosive', 'anamorphic', 'terrificdolby', 'glut', 'outacted', 'cringeworthy', 'cropper', 'innocuous', 'priceless', 'requisite', 'engulf', 'perilous', 'beforebr', 'antagonist', 'brazen', 'actionfight', 'pacing', 'weather', 'mountainous', 'failedrescue', 'brag', 'evilness', 'airhead', 'philosophize', 'elementhe', 'qualify', 'shellshocked', 'worstbr', 'advertisement', 'affordable', 'acquaintance', 'overwhelm', 'peaksbr', 'artifice', 'dim', 'heist', 'stuntman', 'dummy', 'himselfbr', 'cavern', 'contribute', 'coldblooded', 'carelessness', 'tugofwar', 'legbr', 'actionpacked', 'unofficial', 'ledge', 'threatening', 'precarious', 'vertiginous', 'convenient', 'us', 'ripped', 'stallones', 'transvestite', 'librarian', 'journal', 'damn', 'transsexual', 'savant', 'bookthe', 'diary', 'centurythe', 'enable', 'successfullybr', 'immersed', 'organic', 'rehash', 'subconscious', 'itbut', 'occultsupernatural', 'inmatesbr', 'undervalued', 'sixmonth', 'exit', 'seethe', 'toughest', 'masculine', 'leak', 'tactic', 'occupantwho', 'desire', 'storydriven', 'suspended', 'penitentiary', 'location', 'strangest', 'brick', 'minimal', 'greenish', 'bigbudgeted', 'handicapped', 'sub', 'wallsbr', 'unholy', 'alloy', 'wellwoven', 'suggested', 'incarcerationbr', 'preop', 'annihilate', 'gong', 'selfdestructivebr', 'reinforce', 'alter', 'amateurish', 'hollow']\n"
     ]
    }
   ],
   "source": [
    "# listing the 5000 most frequent words\n",
    "word_features = list(all_words.keys())[:5000]\n",
    "print(word_features)"
   ]
  },
  {
   "cell_type": "code",
   "execution_count": 23,
   "metadata": {},
   "outputs": [],
   "source": [
    "# function to create a dictionary of features for each review in the list document.\n",
    "# The keys are the words in word_features \n",
    "# The values of each key are either true or false for wether that feature appears in the review or not\n",
    "\n",
    "def find_features(document):\n",
    "    words = word_tokenize(document)  #tokenized.\n",
    "    for w in all_words:\n",
    "        features[w] = (w in words)\n",
    "    return features\n",
    "\n",
    "# Creating features for each review\n",
    "featuresets = [(find_features(rev), category) for (rev, category) in documents]"
   ]
  },
  {
   "cell_type": "code",
   "execution_count": 47,
   "metadata": {},
   "outputs": [
    {
     "name": "stdout",
     "output_type": "stream",
     "text": [
      "({'scramble': False, 'insightful': False, 'right': False, 'pathetic': False, 'pettiness': False, 'whole': False, 'episode': False, 'burn': False, 'classic': False, 'many': False, 'human': False, 'most': True, 'next': False, 'live': False, 'wall': False, 'br': False, 'rich': False, 'bet': False, 'future': False, 'thrown': False, 'cant': False, 'nickname': False, 'forehead': False, 'mutual': False, 'love': False, 'necessary': False, 'observant': False, 'slapstick': False, 'valuable': False, 'stupid': True, 'brilliant': False, 'dramatic': False, 'second': True, 'good': True, 'dishonest': False, 'funny': True, 'fantastic': False, 'crush': False, 'usual': False, 'hospital': False, 'invade': False, 'alltime': False, 'legs': False, 'big': False, 'better': False, 'underrated': False, 'realistic': False, 'flat': False, 'lovable': False, 'impressive': False, 'much': False, 'typical': False, 'followable': False, 'worth': False, 'overall': False, 'characteristic': False, 'best': True, 'comedic': False, 'recent': False, 'hybrid': False, 'mixed': False, 'new': False, 'isnt': False, 'sick': False, 'achieving': False, 'guide': False, 'third': True, 'real': False, 'able': False, 'subscribe': False, 'slow': False, 'unfolds': False, 'nice': False, 'notice': False, 'unnecessary': False, 'suspense': False, 'unexpectedness': False, 'hear': False, 'short': False, 'acclaimed': False, 'psychological': False, 'true': False, 'young': False, 'adoptive': False, 'secret': False, 'official': False, 'synopsisbr': False, 'lose': False, 'physical': False, 'obvious': False, 'certain': False, 'believable': False, 'exemplary': False, 'strong': False, 'several': False, 'reach': False, 'due': False, 'slighter': False, 'sandwich': False, 'gratitude': False, 'paranoia': False, 'norm': False, 'latest': False, 'talkradio': False, 'interesting': False, 'intrigued': False, 'nightmarish': False, 'abused': False, 'excellent': False, 'boy': False, 'devious': False, 'ulterior': False, 'sudden': False, 'emotional': False, 'tempest': False, 'didnt': False, 'anticipatebr': False, 'former': False, 'hitchcockian': False, 'full': False, 'old': False, 'lowkey': False, 'goodhearted': False, 'dreadful': False, 'creepy': False, 'unmentioned': False, 'underlines': False, 'repetitive': False, 'predictable': False, 'inner': False, 'dumb': False, 'mediocre': False, 'quick': False, 'doesnt': False, 'serial': False, 'dangerous': False, 'actual': False, 'high': False, 'autobiography': False, 'horrific': False, 'sociopathic': False, 'cry': False, 'incredible': False, 'least': True, 'scary': False, 'unsettled': False, 'strange': False, 'feeling': False, 'past': False, 'fragile': False, 'struggle': False, 'introduced': False, 'smallest': False, 'carry': False, 'bad': False, 'average': False, 'american': False, 'serious': False, 'screen': False, 'opening': False, 'semi': False, 'donebr': False, 'transitional': False, 'unusual': False, 'evil': False, 'modern': False, 'constant': False, 'busy': False, 'last': False, 'mental': False, 'popular': False, 'evenings': False, 'vivid': False, 'authentic': False, 'mysterious': False, 'useful': False, 'desperate': False, 'early': False, 'sexual': False, 'brutal': False, 'enwrapped': False, 'elusive': False, 'bizarre': False, 'medical': False, 'entire': False, 'little': False, 'wonderful': False, 'comic': False, 'great': True, 'top': False, 'general': False, 'shorter': False, 'moviebr': False, 'think': False, 'impress': False, 'tell': False, 'quibble': False, 'odd': False, 'different': False, 'intriguing': False, 'content': False, 'americanized': False, 'hard': False, 'original': False, 'previous': False, 'such': False, 'canadian': False, 'first': True, 'cheap': False, 'false': False, 'suspenseful': False, 'reality': False, 'friendship': False, 'contact': False, 'permanent': False, 'impact': False, 'memorable': False, 'williams': False, 'hushedhypnotic': False, 'acquainted': False, 'fourteenyearold': False, 'survivor': False, 'guardiana': False, 'meet': False, 'findbr': False, 'faster': False, 'longer': False, 'storyline': False, 'lean': False, 'clear': False, 'various': False, 'familiar': False, 'personal': False, 'loop': False, 'small': False, 'dark': False, 'dont': False, 'tie': False, 'enough': False, 'portrayal': False, 'rushed': False, 'complete': False, 'commendable': False, 'intense': False, 'close': False, 'perfect': False, 'genre': False, 'flashy': False, 'showdown': False, 'needs': False, 'generic': False, 'enter': False, 'shouldnt': False, 'picky': False, 'low': False, 'read': False, 'give': False, 'plot': False, 'amaze': False, 'faithful': False, 'free': False, 'troubled': False, 'yourselfbr': False, 'art': False, 'lick': False, 'substantial': False, 'relevantfor': False, 'alleged': False, 'sosoughtafter': False, 'show': False, 'utilized': False, 'upbr': False, 'see': False, 'alterior': False, 'theyre': False, 'motive': False, 'fortytwo': False, 'treasury': False, 'shot': False, 'deadbr': False, 'feature': False, 'common': False, 'excellentbr': False, 'marvelous': False, 'late': False, 'ingenious': False, 'legendary': False, 'illustrious': False, 'token': False, 'spry': False, 'elderly': False, 'eccentric': False, 'petty': False, 'rundown': False, 'hateful': False, 'lethal': False, 'lifesized': False, 'police': False, 'ravishing': False, 'sole': False, 'likable': False, 'female': False, 'trite': False, 'ridiculous': False, 'gross': False, 'lousy': False, 'poor': False, 'fiery': True, 'awful': False, 'cruddy': False, 'amusing': False, 'ratty': False, 'similar': False, 'mustsee': False, 'roombr': False, 'alive': False, 'pregnant': False, 'documentary': False, 'know': False, 'factsbr': False, 'analytical': False, 'rhythm': False, 'broad': False, 'end': False, 'super': False, 'black': False, 'white': False, 'documental': False, 'peculiar': False, 'hungarian': False, 'religious': False, 'caught': False, 'french': False, 'interested': False, 'nowadays': False, 'involved': False, 'deeper': False, 'main': False, 'important': False, 'tough': False, 'weak': False, 'mean': False, 'believe': False, 'worthy': False, 'unique': False, 'giant': False, 'mummy': False, 'outstanding': False, 'smaller': False, 'scifi': False, 'awe': False, 'dismal': False, 'disappointing': False, 'heroic': False, 'charismatic': False, 'impeccable': False, 'fine': False, 'assertive': False, 'offensive': False, 'structural': False, 'sure': False, 'underlying': False, 'lovestory': False, 'romantic': False, 'add': False, 'crummy': False, 'single': False, 'possible': False, 'rainy': False, 'special': False, 'rent': False, 'regret': False, 'greatest': False, 'actingdirectingeffectsmusic': False, 'wrong': False, 'commentsseven': False, 'mentioned': False, 'basic': False, 'intrigue': False, 'worthwhile': False, 'unconnected': False, 'engage': False, 'viewer': False, 'key': False, 'regular': False, 'inexplicable': False, 'gim': False, 'excessive': False, 'timesbr': False, 'visual': False, 'cerebral': False, 'react': False, 'ready': False, 'dislike': False, 'disbelief': False, 'spiderman': False, 'total': False, 'wasnt': False, 'usersbr': False, 'user': False, 'irrational': False, 'chat': False, 'banter': False, 'level': False, 'inordinate': False, 'fair': False, 'imdb': False, 'box': False, 'critical': False, 'beautiful': False, 'thematic': False, 'tragic': False, 'criticised': False, 'epic': False, 'major': False, 'simple': False, 'boring': False, 'unbelievable': False, 'amazing': False, 'un': False, 'imaginable': False, 'listen': False, 'sumptuous': False, 'gorgeous': False, 'hot': False, 'seat': False, 'huge': False, 'undeveloped': False, 'historical': False, 'titanic': False, 'favorite': False, 'unsinkable': False, 'biggest': False, 'fictional': False, 'remind': False, 'present': False, 'idk': False, 'silent': False, 'tale': False, 'social': False, 'fate': False, 'illfated': False, 'iceberg': False, 'perished': False, 'onscreen': False, 'magnificent': False, 'want': False, 'survive': False, 'long': False, 'added': False, 'sorry': False, 'exceptional': False, 'table': False, 'face': False, 'mom': False, 'elite': False, 'enjoyable': True, 'unrealistic': False, 'terrible': False, 'perform': False, 'unfair': False, 'talented': False, 'famous': True, 'quite': False, 'particular': False, 'fundamental': False, 'constructedbr': False, 'memoirs': False, 'accurate': True, 'itbr': False, 'cinematic': False, 'solid': False, 'safe': False, 'frozen': False, 'ship': False, 'powerful': False, 'acting': False, 'dedicated': False, 'unknown': False, 'supernatural': False, 'mass': False, 'maiden': False, 'truthful': False, 'superstars': False, 'overnight': False, 'annoyed': False, 'arent': False, 'purposeful': False, 'apparent': False, 'else': False, 'dry': False, 'iconic': False, 'finest': False, 'become': False, 'journey': False, 'unfortunate': False, 'birth': False, 'girl': False, 'torn': False, 'bigger': False, 'teenage': False, 'nose': False, 'blue': False, 'nude': False, 'granddaughter': False, 'skeptical': False, 'whereabouts': False, 'fianc': False, 'outward': False, 'engagement': False, 'go': False, 'drifter': False, 'tentative': False, 'stuffy': False, 'formal': False, 'wealthy': False, 'livelier': False, 'irish': False, 'forbidden': False, 'sevenyearold': False, 'proper': False, 'deck': False, 'fatal': False, 'mother': False, 'leave': False, 'freezing': False, 'flawless': False, 'astonishing': False, 'artistic': False, 'zest': False, 'confused': False, 'nasty': False, 'arrogant': False, 'abusive': False, 'ultra': False, 'steal': False, 'innocent': False, 'carat': False, 'richest': False, 'less': False, 'uptight': False, 'impecunious': False, 'cold': False, 'afraid': False, 'engaged': False, 'supercilious': False, 'fix': False, 'hazardous': False, 'northern': False, 'opportunistic': False, 'rare': False, 'told': False, 'luminous': False, 'sweeping': False, 'motionless': False, 'ocean': False, 'luxurious': False, 'front': False, 'magic': False, 'eyebr': False, 'inevitable': False, 'icy': False, 'gigantic': False, 'wide': False, 'deep': False, 'transfixed': False, 'keep': False, 'aristocratic': False, 'lower': False, 'upper': False, 'sail': False, 'stop': False, 'uneventful': False, 'hopeless': False, 'extra': False, 'fateful': False, 'thirtytwo': False, 'shut': False, 'starboard': False, 'large': False, 'distress': False, 'respond': False, 'severe': False, 'put': False, 'amount': False, 'experienced': False, 'brittle': False, 'purpose': False, 'composite': False, 'ideas': False, 'represent': False, 'kill': False, 'evoked': False, 'nonenglish': False, 'bed': False, 'side': False, 'lifeboat': False, 'brandy': False, 'younger': False, 'suffrage': False, 'gotten': False, 'married': False, 'financial': False, 'seast': False, 'dinner': False, 'male': False, 'recognizable': False, 'fifteen': False, 'moral': False, 'underwater': False, 'footage': False, 'bottom': False, 'provided': False, 'easy': False, 'follow': False, 'aclear': False, 'septune': False, 'recreate': False, 'european': False, 'like': False, 'sound': False, 'insight': False, 'youbr': False, 'touch': False, 'public': False, 'criticsarticle': False, 'type': False, 'capture': False, 'movienot': False, 'films': False, 'sexist': False, 'itthe': False, 'longest': False, 'overhyped': False, 'head': False, 'fellow': False, 'learn': False, 'appeared': False, 'superb': False, 'elegant': False, 'lead': False, 'superior': False, 'girlpoor': False, 'snobby': False, 'fear': False, 'reasonable': False, 'accept': False, 'steerage': False, 'locked': False, 'enjoy': False, 'empty': False, 'minor': False, 'truly': False, 'miserable': False, 'beyondbeautiful': False, 'factual': False, 'cynical': False, 'tizzy': False, 'civilized': False, 'couple': False, 'enjoyed': False, 'straight': False, 'cool': False, 'filmbr': False, 'beautifullybr': False, 'impossible': False, 'burliest': False, 'victim': False, 'watch': False, 'sincere': False, 'capable': False, 'watched': False, 'brief': False, 'prologue': False, 'older': False, 'urban': False, 'turn': False, 'clichd': False, 'shockerbr': False, 'excusable': False, 'crucial': False, 'fancy': False, 'atmosphere': False, 'fog': False, 'forth': False, 'subtler': False, 'slyly': False, 'affixed': False, 'interior': False, 'heavy': False, 'settle': False, 'intelligent': False, 'traditional': False, 'housebr': False, 'weirder': False, 'abundance': False, 'pointbr': False, 'catalyst': False, 'sour': False, 'successful': False, 'afflict': False, 'external': False, 'corporate': False, 'normal': False, 'subversive': False, 'meaningful': False, 'shallow': False, 'professional': False, 'literal': False, 'nervous': False, 'clunkiness': False, 'admirable': False, 'metaphorical': False, 'plenty': False, 'local': False, 'rental': False, 'prominent': False, 'fabulous': False, 'character': False, 'obtrusive': False, 'sad': False, 'willing': False, 'along': False, 'realize': False, 'erotic': False, 'steamy': False, 'unexpected': False, 'ok': False, 'lesbian': False, 'poetic': False, 'shownbr': False, 'wont': False, 'disappointed': False, 'surreal': False, 'reflect': False, 'lossbr': False, 'exploit': False, 'provocative': False, 'girls': False, 'energetic': False, 'mentor': False, 'naive': False, 'exotic': False, 'exclusive': False, 'heterosexual': False, 'effective': False, 'explicit': False, 'detailed': False, 'later': False, 'youthful': False, 'inferior': False, 'copy': False, 'educate': False, 'gf': False, 'chinese': False, 'adorble': False, 'actor': False, 'rotten': False, 'lol': False, 'lolwhatever': False, 'maskswhich': False, 'originalbr': False, 'jaded': False, 'reluctant': False, 'guardian': False, 'smalltown': False, 'worthless': False, 'upset': False, 'gritty': False, 'lengths': False, 'societal': False, 'western': False, 'hint': False, 'material': False, 'artist': False, 'suburban': False, 'survival': False, 'fierce': False, 'sensebr': False, 'foreign': False, 'surprising': False, 'watchable': False, 'serf': False, 'conventional': False, 'played': False, 'utter': False, 'make': True, 'idiot': False, 'mastery': False, 'precious': False, 'heir': False, 'recommend': False, 'length': False, 'phenomenal': False, 'deplorable': False, 'higher': False, 'widescreen': False, 'natural': False, 'pleasant': False, 'difficult': False, 'splendid': False, 'interwoven': False, 'truetoform': False, 'menial': False, 'philosophic': False, 'compliment': False, 'familial': False, 'magical': False, 'operatic': False, 'advice': False, 'ancient': False, 'serene': False, 'suitable': False, 'youngest': False, 'guess': False, 'ubiquitous': False, 'monochrome': False, 'everyday': False, 'dazzling': False, 'imminent': False, 'cataclysm': False, 'central': False, 'vital': False, 'bian': False, 'performer': False, 'talent': False, 'gender': False, 'military': False, 'individual': False, 'build': False, 'sentimental': False, 'clash': False, 'win': False, 'facial': False, 'happy': False, 'cultural': False, 'subtext': False, 'subserviant': False, 'unlikely': False, 'stronger': False, 'triumph': False, 'native': False, 'welcome': False, 'alternative': False, 'unsatisfying': False, 'unrelated': False, 'armor': False, 'anime': False, 'political': False, 'opposed': False, 'climatic': False, 'find': False, 'obscure': False, 'universal': False, 'proud': False, 'massive': False, 'straw': False, 'monkey': False, 'slave': False, 'onemany': False, 'touched': False, 'heritage': False, 'technical': False, 'video': False, 'audiencebr': False, 'lucky': False, 'create': False, 'commercial': False, 'son': False, 'pass': False, 'regional': False, 'understand': False, 'unaware': False, 'emotive': False, 'reformatted': False, 'fit': False, 'moronic': False, 'disposable': False, 'criminal': False, 'simplest': False, 'creative': False, 'directed': False, 'move': False, 'sweet': False, 'uplifting': False, 'trick': False, 'break': False, 'child': False, 'goodbr': False, 'overt': False, 'androgynous': False, 'remote': False, 'subtle': False, 'needless': False, 'surrender': False, 'aside': False, 'cinematographic': False, 'sophisticated': False, 'distant': False, 'rapid': False, 'economic': False, 'spiritual': False, 'socialist': False, 'inherited': False, 'extinctionbr': False, 'contemporary': False, 'maledominated': False, 'societys': False, 'fun': False, 'handle': False, 'appropriate': False, 'empathy': False, 'claimed': False, 'weakens': False, 'poignant': False, 'misleading': False, 'travesty': False, 'fuzzy': False, 'infectious': False, 'carried': False, 'final': False, 'spectacular': False, 'depths': False, 'annual': False, 'ask': False, 'selfexplanatorybr': False, 'realoriginal': False, 'silliness': False, 'planter': False, 'cozy': False, 'elephant': False, 'mad': False, 'outbreak': False, 'grand': False, 'goose': False, 'save': False, 'guilty': False, 'eponymous': False, 'contrary': False, 'shoot': False, 'pachydermsno': False, 'permit': False, 'tone': False, 'realm': False, 'conspirein': False, 'vulnerable': False, 'happen': False, 'current': False, 'rid': False, 'direct': False, 'th': False, 'stargate': False, 'dead': False, 'turgid': False, 'fastpaced': False, 'majestic': False, 'sympathetic': False, 'gaspy': False, 'trained': False, 'discern': False, 'distinct': False, 'swept': False, 'inescapable': False, 'relative': False, 'bind': False, 'tear': False, 'climaxed': False, 'lavish': False, 'rubber': False, 'lovelier': False, 'credible': False, 'unable': False, 'shake': False, 'year': False, 'lesserknown': False, 'british': False, 'feels': False, 'adapt': False, 'angry': False, 'masterful': False, 'undertone': False, 'millionaire': False, 'initial': False, 'reminiscent': False, 'lady': False, 'chief': False, 'thumb': False, 'creamysmooth': False, 'masochistic': False, 'heady': False, 'travelogue': False, 'interpretive': False, 'quasimelodramatic': False, 'miss': False, 'enthralled': False, 'club': False, 'nature': False, 'tea': False, 'herd': False, 'join': False, 'pathway': False, 'integral': False, 'immigrant': False, 'virtual': False, 'marble': False, 'grille': False, 'cheaper': False, 'careful': False, 'immune': False, 'tyranny': False, 'todaybr': False, 'largest': False, 'appreciate': False, 'sit': False, 'puppy': False, 'sappy': False, 'naturebr': False, 'wellspent': False, 'triangular': False, 'pictorial': False, 'wild': False, 'echo': False, 'autocratic': False, 'animalsbr': False, 'friendly': False, 'pretentious': False, 'beauty': False, 'lovebr': False, 'glamorous': False, 'tropical': False, 'colorful': False, 'exquisite': False, 'willful': False, 'sharp': False, 'favourite': False, 'dystopian': False, 'loose': False, 'colourful': False, 'involve': False, 'cartoonish': False, 'japanese': False, 'overthetop': False, 'degree': False, 'jumps': False, 'hooked': False, 'animebr': False, 'hey': False, 'committed': False, 'haired': False, 'nifty': False, 'green': False, 'endear': False, 'bifocal': False, 'half': False, 'extreme': False, 'peoplebr': False, 'sexy': False, 'installment': False, 'urine': False, 'nd': False, 'naked': False, 'uncompleted': False, 'mayhem': False, 'funbr': False, 'cheesy': False, 'blow': False, 'couch': False, 'worse': False, 'moviesbr': False, 'surprised': False, 'tacky': False, 'pure': False, 'fullfrontal': False, 'psychedelic': False, 'sequence': False, 'biological': False, 'highlyindustrial': False, 'subplot': False, 'closeup': False, 'increasinglygrainy': False, 'correct': False, 'brisk': False, 'amiss': False, 'grainy': False, 'fragmented': False, 'perspective': False, 'extraterrestrial': False, 'alien': False, 'vaguelyfamiliar': False, 'irreversible': False, 'lie': False, 'bit': False, 'suchbr': False, 'mindless': False, 'philosophical': False, 'inspired': False, 'musical': False, 'comedian': False, 'minimalist': False, 'impressed': False, 'bossy': False, 'soft': False, 'troublebr': False, 'hopelessness': False, 'indian': False, 'barred': False, 'beat': False, 'sought': False, 'mainstream': False, 'discovery': False, 'meaty': False, 'ardh': False, 'point': False, 'likecoolie': False, 'heros': False, 'roof': False, 'inspectorturnedalcoholic': False, 'characterthe': False, 'message': False, 'honest': False, 'cop': False, 'practical': False, 'immediate': False, 'seniorsthis': False, 'aware': False, 'unethical': False, 'negative': False, 'suspendedbr': False, 'brilliantlybr': False, 'definitive': False, 'stellar': False, 'societybr': False, 'directorial': False, 'novel': False, 'protect': False, 'underworld': False, 'shetty': False, 'sadahiv': False, 'talked': False, 'opposite': False, 'national': False, 'showbr': False, 'universe': False, 'ironic': False, 'overbr': False, 'turned': False, 'militant': False, 'palde': False, 'teek': False, 'rough': False, 'delicate': False, 'needle': False, 'poembr': False, 'lackluster': False, 'unfocused': False, 'incohesive': False, 'oddball': False, 'document': False, 'infamous': False, 'worst': False, 'docu': False, 'more': True, 'interviewed': False, 'loud': False, 'ignore': False, 'delighted': False, 'turbulent': False, 'posthumous': False, 'positive': False, 'nicer': False, 'cast': False, 'storybr': False, 'comprehensive': False, 'title': False, 'cohesive': False, 'fabric': False, 'unity': False, 'collaborative': False, 'closest': False, 'respectful': False, 'thoughtful': False, 'yesteryear': False, 'truth': False, 'outcome': False, 'context': False, 'savagery': False, 'disgraceful': False, 'withbr': False, 'unfavourable': False, 'glossybr': False, 'profile': False, 'mcgovern': False, 'unapologetic': False, 'sheep': False, 'weve': False, 'remembered': False, 'ranch': False, 'edited': False, 'unexpurgated': False, 'twisted': False, 'german': False, 'censored': False, 'havent': False, 'prolific': False, 'maverick': False, 'script': False, 'ambiguous': False, 'gang': False, 'sameold': False, 'unflinching': False, 'clean': False, 'painful': False, 'burdened': False, 'expect': False, 'squeamish': False, 'skin': False, 'hilarious': True, 'maniai': False, 'pick': False, 'humor': False, 'drama': False, 'hyperkinetic': False, 'underground': False, 'bloody': False, 'fastbr': False, 'earlier': False, 'sadistic': False, 'eclectic': False, 'crafted': False, 'gay': False, 'dirty': False, 'similarly': False, 'violent': False, 'sordid': False, 'alienated': False, 'shakespearian': False, 'ultimate': False, 'contend': False, 'shock': False, 'charactersbr': False, 'distract': False, 'narrative': False, 'frantic': False, 'semigraphic': False, 'dip': False, 'chinesetaiwanesejapanese': False, 'english': False, 'stylish': False, 'orthodox': False, 'decent': False, 'ultraviolent': False, 'essential': False, 'asian': False, 'compelling': False, 'uberconventional': False, 'yakuzatriad': False, 'hereon': False, 'prevalent': False, 'thumbingofthenose': False, 'satirical': False, 'savage': False, 'sardonic': False, 'detective': False, 'gangster': False, 'likely': False, 'definite': False, 'sparetime': False, 'lowscale': False, 'harsh': False, 'crueler': False, 'unrepentant': False, 'salt': False, 'craziest': False, 'homosexual': False, 'youve': False, 'aggressive': False, 'raw': False, 'fresh': False, 'complex': False, 'utterly': False, 'visceral': False, 'postwar': False, 'coming': False, 'use': False, 'sign': False, 'intentional': False, 'accustomed': False, 'inexperienced': False, 'sarcastic': False, 'confident': False, 'failsbr': False, 'funniest': False, 'anorexic': False, 'sketchy': False, 'unfriendly': False, 'extraordinary': False, 'decided': False, 'gate': False, 'quiet': False, 'warrior': False, 'team': False, 'deemed': False, 'parasitic': False, 'inserted': False, 'exploratory': False, 'wormhole': False, 'deal': False, 'decline': False, 'knit': False, 'onworld': False, 'understandablebr': False, 'remarkable': False, 'nervousness': False, 'overcome': False, 'unbeatable': False, 'available': False, 'believablethanks': False, 'independent': False, 'waitress': False, 'impotent': False, 'divorced': False, 'herbr': False, 'organ': False, 'tree': False, 'die': False, 'selfish': False, 'let': False, 'blame': False, 'ownbr': False, 'neat': False, 'uneven': False, 'horror': False, 'element': False, 'lull': False, 'legal': False, 'gory': False, 'protective': False, 'focus': False, 'keen': False, 'open': False, 'pretty': False, 'nakedbr': False, 'terrific': False, 'affair': False, 'outlandish': False, 'deadon': False, 'aloof': False, 'guy': False, 'notsogoodguy': False, 'dessertsbr': False, 'revengefromthedead': False, 'enjoys': False, 'graphic': False, 'horrible': False, 'badlybr': False, 'multiple': False, 'oldfashioned': False, 'murderous': False, 'continuous': False, 'unharmed': False, 'sleazy': False, 'mum': False, 'vegetable': False, 'stupendous': False, 'sleaze': False, 'euthanasia': False, 'obligatory': False, 'unnecessarily': False, 'voluptuous': False, 'egocentric': False, 'standout': False, 'drab': False, 'gruesome': False, 'taut': False, 'palpable': False, 'persistent': False, 'vegetative': False, 'plug': False, 'extract': False, 'himbr': False, 'notorious': False, 'liberal': False, 'foundation': False, 'review': False, 'wish': False, 'dental': False, 'inclined': False, 'unlovablebr': False, 'excited': False, 'worried': False, 'keeper': False, 'upon': False, 'egyptian': False, 'habitable': False, 'wellknown': False, 'mythical': False, 'topsecret': False, 'racesbr': False, 'galactic': False, 'conquest': False, 'eternal': False, 'primary': False, 'other': False, 'pivotal': False, 'ninth': False, 'unfathomable': False, 'bent': False, 'archetypal': False, 'everyman': False, 'guynextdoor': False, 'corrosive': False, 'latter': False, 'worksbr': False, 'slutty': False, 'inconsolable': False, 'unforgiving': False, 'unsuccessful': False, 'pull': False, 'enthusiastic': False, 'sleazier': False, 'wear': False, 'subject': False, 'rampedup': False, 'slight': False, 'flair': False, 'scene': False, 'pan': False, 'wrangled': False, 'pardon': False, 'screwer': False, 'sympathy': False, 'delightful': False, 'assaulted': False, 'vengeful': False, 'spirit': False, 'smile': False, 'laugh': False, 'clich': False, 'gold': False, 'honorable': False, 'waybr': False, 'kooky': False, 'wrap': False, 'exact': False, 'quote': False, 'mature': False, 'complacent': False, 'meant': False, 'rural': False, 'specific': False, 'drone': False, 'hectic': False, 'substory': False, 'oftdone': False, 'adjective': False, 'uncomplicated': False, 'enjoyment': False, 'bare': False, 'equal': False, 'equivalent': False, 'prepare': False, 'excop': False, 'militaryscience': False, 'archaeologist': False, 'overlord': False, 'boyish': False, 'grown': False, 'progressed': False, 'friction': False, 'civilian': False, 'wacky': False, 'significant': False, 'soul': False, 'humdrum': False, 'daily': False, 'unseen': False, 'note': False, 'postcard': False, 'comfortable': False, 'unfold': False, 'hold': False, 'need': False, 'electric': False, 'forbr': False, 'awsome': False, 'ive': False, 'curious': False, 'acthe': False, 'truethe': False, 'togetheri': False, 'polish': False, 'golden': False, 'togetherbr': False, 'notit': False, 'fansat': False, 'prime': False, 'itas': False, 'freakish': False, 'summary': False, 'witness': False, 'entertaining': False, 'adorned': False, 'blonde': False, 'jewish': False, 'supper': False, 'uniqueness': False, 'brated': False, 'amused': False, 'haunt': False, 'wastobe': False, 'shine': False, 'filmsbr': False, 'bright': False, 'divulge': False, 'piece': False, 'hackneyed': False, 'overlooked': False, 'firstrate': False, 'shame': False, 'chic': False, 'awesome': False, 'weeksbr': False, 'coolbr': False, 'rest': False, 'excpet': False, 'agree': False, 'protagonist': False, 'parrot': False, 'funnybr': False, 'sake': False, 'eva': False, 'heaven': False, 'sarcasm': False, 'pacebr': False, 'liked': False, 'persepctive': False, 'fight': False, 'movieit': False, 'funnythere': False, 'outif': False, 'interestingthis': False, 'wonderfulit': False, 'lowi': False, 'bored': False, 'tallbr': False, 'international': False, 'russian': False, 'laughing': False, 'witless': False, 'soldier': False, 'wwii': False, 'derogatory': False, 'instructional': False, 'imaginative': False, 'lifespan': False, 'eventual': False, 'inventive': False, 'laboured': False, 'animated': False, 'invaluable': False, 'theatrical': False, 'greater': False, 'casual': False, 'offhand': False, 'exaggerated': False, 'frightening': False, 'anxious': False, 'ie': False, 'cannonstyle': False, 'enemy': False, 'padded': False, 'valid': False, 'catastrophic': False, 'improved': False, 'wartime': False, 'educational': False, 'terrorist': False, 'cleverbr': False, 'tense': False, 'businesslike': False, 'middle': False, 'surprise': False, 'dear': False, 'dull': False, 'illegal': False, 'portrait': False, 'uncommon': False, 'successive': False, 'stereotypical': False, 'intellectual': False, 'onedimensional': False, 'credibilitybr': False, 'highest': False, 'thats': False, 'deficient': False, 'dutch': False, 'closebr': False, 'sort': False, 'chronological': False, 'say': False, 'topclass': False, 'prior': False, 'kick': False, 'characterdriven': False, 'fan': False, 'notsostupidasyouthinkheis': False, 'glorious': False, 'certifiable': False, 'endless': False, 'oblivious': False, 'red': False, 'quentessential': False, 'connect': False, 'courtyard': False, 'intricate': False, 'drunken': False, 'unconscious': False, 'acceptable': False, 'dust': False, 'disappoint': False, 'shahrukh': False, 'elasebr': False, 'thin': False, 'happiness': False, 'vast': False, 'bus': False, 'filthy': False, 'uncertain': False, 'drive': False, 'mob': False, 'warm': False, 'fatherinlaws': False, 'tyrannical': False, 'ruthless': False, 'teach': False, 'broken': False, 'cruel': False, 'climax': False, 'uncouth': False, 'mannerisms': False, 'versatility': False, 'lighter': False, 'required': False, 'selfconscious': False, 'fratricidal': False, 'ostensible': False, 'notable': False, 'nuanced': False, 'becomes': False, 'grandeur': False, 'rabble': False, 'gratuitous': False, 'allimportant': False, 'swallow': False, 'dysfunctional': False, 'strengths': False, 'mere': False, 'heaving': False, 'sigh': False, 'overdo': False, 'grow': False, 'steady': False, 'innovative': False, 'rush': False, 'terrified': False, 'subservient': False, 'helpless': False, 'tiny': False, 'unrestrained': False, 'impulsiveness': False, 'anguish': False, 'volcanic': False, 'tigress': False, 'indescribable': False, 'actress': False, 'adequate': False, 'song': False, 'glossy': False, 'weakest': False, 'adorable': False, 'drag': False, 'springboard': False, 'eitherbr': False, 'nest': False, 'cameo': False, 'happygolucky': False, 'farce': False, 'detract': False, 'gripping': False, 'sloppy': False, 'rampant': False, 'wordless': False, 'orchestral': False, 'score': False, 'gentle': False, 'unevenness': False, 'inconsistent': False, 'poverty': False, 'heartthe': False, 'teenie': False, 'beans': False, 'sbr': False, 'frontman': False, 'occasionallybr': False, 'tight': False, 'concert': False, 'theyve': False, 'skill': False, 'hungry': False, 'preferred': False, 'onslaught': False, 'come': False, 'magnitude': False, 'anywhere': False, 'englishlinear': False, 'disappointment': False, 'nostalgia': False, 'lane': False, 'sight': False, 'scenic': False, 'outfitnot': False, 'imagine': False, 'appreciated': False, 'timeless': False, 'nononsense': False, 'laughbr': False, 'fourcorneredlove': False, 'lesser': False, 'differentbr': False, 'grateful': False, 'understorey': False, 'dialect': False, 'ratingdaghang': False, 'corrupt': False, 'console': False, 'obsoletebr': False, 'oftenbr': False, 'ten': False, 'intrepid': False, 'thenbr': False, 'numerous': False, 'broaden': False, 'archaeologistgeek': False, 'seventh': False, 'guest': False, 'sixyearold': False, 'usher': False, 'cocky': False, 'play': False, 'vivacious': False, 'eighth': False, 'tenth': False, 'secondlongest': False, 'nascent': False, 'poorly': False, 'look': False, 'belief': False, 'fantasybr': False, 'butone': False, 'brought': False, 'wordsbr': False, 'euro': False, 'lightweight': False, 'whats': False, 'fatedbr': False, 'pebble': False, 'stretch': False, 'whimsical': False, 'surgery': False, 'understood': False, 'random': False, 'existentialist': False, 'parisian': False, 'capitalize': False, 'apt': False, 'ensemble': False, 'cafsbr': False, 'intergalactic': False, 'focused': False, 'sg': False, 'episodes': True, 'potential': False, 'ongoing': False, 'bold': False, 'testament': False, 'collective': False, 'theme': False, 'insignificant': False, 'cute': False, 'omnipotent': False, 'uninteresting': False, 'refresh': False, 'inside': False, 'separate': False, 'chaos': False, 'windscreen': False, 'wonderfulbr': False, 'woven': False, 'start': False, 'metro': False, 'cross': False, 'light': False, 'wingsbr': False, 'forward': False, 'ear': False, 'spoilersbr': False, 'translated': False, 'thought': False, 'affect': False, 'wondrous': False, 'overseas': False, 'chase': False, 'min': False, 'cafe': False, 'sugary': False, 'scenery': False, 'plots': False, 'finding': False, 'sensible': False, 'quirky': False, 'unleash': False, 'nodding': False, 'blank': False, 'patriotic': False, 'wrest': False, 'pile': False, 'work': False, 'fending': False, 'disfigurement': False, 'seabr': False, 'preposterous': False, 'nighttime': False, 'sinful': False, 'quest': False, 'inherit': False, 'unbridled': False, 'sister': False, 'summa': False, 'schlockmeister': False, 'excess': False, 'develop': False, 'lot': True, 'salacious': False, 'got': False, 'careerbr': False, 'porn': False, 'raciest': False, 'fetish': False, 'wet': False, 'suicide': False, 'lurid': False, 'novelsbr': False, 'africanamerican': False, 'yearsbr': False, 'chronic': False, 'wifes': False, 'behindbr': False, 'cryptic': False, 'ethnic': False, 'principal': False, 'mortal': False, 'nomination': False, 'faith': False, 'unclear': False, 'materialistic': False, 'anguished': False, 'spite': False, 'bitterness': False, 'collide': False, 'sadbr': False, 'consistent': False, 'finish': False, 'largerthanlife': False, 'sublime': False, 'actingpoeticmoral': False, 'flaws': False, 'incomparable': False, 'idiotic': False, 'horrendous': False, 'wan': False, 'approx': False, 'yeti': False, 'ripe': False, 'body': False, 'foot': False, 'disco': False, 'wavy': False, 'beast': False, 'hairy': False, 'enormous': False, 'abominable': False, 'luscious': False, 'nubile': False, 'lustful': False, 'flown': False, 'sample': False, 'uproarious': False, 'ethical': False, 'absurd': False, 'funky': False, 'shoddy': False, 'schlocky': False, 'harden': False, 'lecherous': False, 'googoo': False, 'unheralded': False, 'tall': False, 'asinine': False, 'flick': False, 'dare': False, 'decentbr': False, 'longhaired': False, 'cagelike': False, 'rude': False, 'destroys': False, 'fake': False, 'therebr': False, 'window': False, 'genuine': False, 'nipple': False, 'erect': False, 'lifts': False, 'thaw': False, 'sorta': False, 'mute': False, 'hmmm': False, 'hottie': False, 'thaws': False, 'hysterical': False, 'bedroom': False, 'chest': False, 'collie': False, 'italian': False, 'tried': False, 'insane': False, 'fish': False, 'fishbone': False, 'trek': False, 'warned': False, 'addictive': False, 'summery': False, 'scientific': False, 'spine': False, 'fired': False, 'upstage': False, 'goodbye': False, 'monstrous': False, 'anatomical': False, 'inquisitive': False, 'duplicitous': False, 'helpful': False, 'hero': False, 'whos': False, 'scale': False, 'tame': False, 'spanish': False, 'inept': False, 'get': False, 'adventuresome': False, 'reckless': False, 'wouldnt': False, 'vapid': False, 'improbable': False, 'stuff': False, 'tossed': False, 'fertile': False, 'stops': False, 'celluloidbr': False, 'martial': False, 'nexttoimpossible': False, 'chinatown': False, 'expectationsuntil': False, 'fantasy': False, 'guys': False, 'underappreciated': False, 'thru': False, 'horse': False, 'unexpectedbr': False, 'crazed': False, 'torture': False, 'warped': False, 'bleak': False, 'coherent': False, 'bastard': False, 'approach': False, 'irony': False, 'bundle': False, 'nastiest': False, 'underscoring': False, 'despair': False, 'outside': False, 'infinite': False, 'chastened': False, 'professor': False, 'anyone': False, 'deepest': False, 'wishs': False, 'some': False, 'ups': False, 'criticismsbr': False, 'comedy': False, 'morebr': False, 'kept': False, 'floppy': False, 'subliminal': False, 'emphatic': False, 'crows': False, 'unrecognisable': False, 'lack': False, 'midmovie': False, 'explain': False, 'prove': False, 'realitybr': False, 'lacked': False, 'r': False, 'mutated': False, 'u': False, 'dang': False, 'nvm': False, 'loved': False, 'spelled': False, 'trusted': False, 'perceptive': False, 'informative': False, 'easier': False, 'im': False, 'marry': False, 'suck': False, 'abilitytalent': False, 'limitationsbr': False, 'accident': False, 'scoopbr': False, 'static': False, 'grande': False, 'simulated': False, 'freak': False, 'readup': False, 'smash': False, 'dizzy': False, 'shutter': False, 'downbr': False, 'internet': False, 'desensitized': False, 'easebr': False, 'disgusted': False, 'fingernails': False, 'rival': False, 'stale': False, 'solidbr': False, 'understanding': False, 'galaxy': False, 'limited': False, 'anchor': False, 'eleven': False, 'whiner': False, 'self': False, 'disagreement': False, 'torturing': False, 'hostile': False, 'crazy': False, 'respect': False, 'snuff': False, 'tortured': False, 'beaten': False, 'japonese': False, 'insulting': False, 'net': False, 'manga': False, 'eyeball': False, 'amateur': False, 'digital': False, 'hammer': False, 'ban': False, 'fourth': True, 'sheen': False, 'unearthed': False, 'throat': False, 'devoid': False, 'gore': False, 'unadulterated': False, 'fold': False, 'em': False, 'exploitive': False, 'st': False, 'freaky': False, 'sht': False, 'videos': False, 'undergo': False, 'captive': False, 'subsequent': False, 'flaky': False, 'consist': False, 'unconvincing': False, 'strung': False, 'spun': False, 'drink': False, 'bottle': False, 'lay': False, 'planetary': False, 'archaeological': False, 'unpredictablebr': False, 'watchbr': False, 'humorous': False, 'savagelyspun': False, 'pulledanimal': False, 'herhot': False, 'unforgettable': False, 'disturbinganywaythis': False, 'noticeable': False, 'nonshock': False, 'paranoidpessimistic': False, 'masterpiece': False, 'astonishment': False, 'smartest': False, 'rug': False, 'clever': False, 'arbitrary': False, 'combine': False, 'con': False, 'feel': False, 'compensated': False, 'bring': False, 'hurts': False, 'prim': False, 'stunning': False, 'pal': False, 'seebr': False, 'lid': False, 'bearable': False, 'tactical': False, 'jeopardy': False, 'ordersbr': False, 'weaker': False, 'ludicrous': False, 'breathe': False, 'seasonbr': False, 'shaped': False, 'ultramodern': False, 'uniform': False, 'sarcophagus': False, 'latenight': False, 'instant': False, 'forgotten': False, 'theyll': False, 'primitive': False, 'gun': False, 'convertible': False, 'patient': False, 'gambler': False, 'wrought': False, 'alongside': False, 'amazed': False, 'deceive': False, 'thick': False, 'twenty': False, 'seductive': False, 'drags': False, 'proverbial': False, 'writer': True, 'noirbr': False, 'shady': False, 'prepared': False, 'ride': False, 'aural': False, 'compositional': False, 'entertained': False, 'justified': False, 'cad': False, 'clueless': False, 'healthy': False, 'failure': False, 'ruined': False, 'truebr': False, 'stands': False, 'compulsive': False, 'shark': False, 'help': False, 'snappy': False, 'til': False, 'conman': False, 'opinionsbr': False, 'youll': False, 'letdown': False, 'unscripted': False, 'reminded': False, 'surfacebr': False, 'rank': False, 'stiff': False, 'arrival': False, 'spoken': False, 'relaxed': False, 'weird': False, 'jumble': False, 'standard': False, 'dingy': False, 'write': False, 'answered': False, 'learner': False, 'lesson': False, 'forgive': False, 'stagy': False, 'halfhour': False, 'gunfire': False, 'esteemed': False, 'psychologist': False, 'shadowy': False, 'saw': False, 'web': False, 'dialogue': False, 'smart': False, 'unattractive': False, 'homeliness': False, 'injury': False, 'underside': False, 'historian': False, 'unrealnessbr': False, 'glamour': False, 'admirablybr': False, 'escape': False, 'despicable': False, 'directional': False, 'confront': False, 'contemplate': False, 'ordinary': False, 'lowlife': False, 'psychiatrist': False, 'uninspiring': False, 'double': False, 'classwar': False, 'discontented': False, 'seedy': False, 'dive': False, 'twentyfive': False, 'wipe': False, 'slate': False, 'card': False, 'urgency': False, 'rigid': False, 'exterior': False, 'penetrated': False, 'dynamic': False, 'quintessential': False, 'dictionary': True, 'unhappy': False, 'resentful': False, 'happywith': False, 'occur': False, 'inspirational': False, 'humble': False, 'sci': False, 'fi': False, 'fanatic': False, 'nearer': False, 'upinarms': False, 'theological': False, 'misplaced': False, 'nigh': False, 'tremendous': False, 'biblical': False, 'drafts': False, 'magesticcough': False, 'towards': False, 'que': False, 'illustriousness': False, 'presidential': False, 'newfound': False, 'blissful': False, 'habitual': False, 'mispittiful': False, 'premier': False, 'bathroom': False, 'forgetable': False, 'crackle': False, 'goofy': False, 'predictible': False, 'luck': False, 'wifebr': False, 'multifunction': False, 'scenebr': False, 'unceremonious': False, 'upcoming': False, 'grade': False, 'encyclopedias': False, 'experimental': False, 'electronic': False, 'distressed': False, 'shortexperimental': False, 'divine': False, 'crude': False, 'soup': False, 'laidback': False, 'deleted': False, 'newstv': False, 'laughoutloud': False, 'controversial': False, 'girlfriend': False, 'wellbr': False, 'heartfelt': False, 'forget': False, 'wannabe': False, 'untalented': False, 'file': False, 'youre': False, 'loo': False, 'rut': False, 'inoffensive': False, 'narrowminded': False, 'accomplished': False, 'larger': False, 'form': False, 'seasonsbr': False, 'intricately': False, 'conceptual': False, 'sacrilegious': False, 'extent': False, 'shaky': False, 'comical': False, 'firedbr': False, 'tired': False, 'mess': False, 'flagrant': False, 'popcorn': False, 'sidewalk': False, 'promising': False, 'breaking': False, 'asteroid': False, 'temper': False, 'manual': False, 'happiest': False, 'continue': False, 'downtown': False, 'spare': False, 'newer': False, 'compare': False, 'exasperated': False, 'stress': False, 'lowbrow': False, 'absent': False, 'nuts': False, 'electrician': False, 'motherinlawbr': False, 'rarer': False, 'barbarous': False, 'veteran': False, 'straighttovideo': False, 'rubbish': False, 'mawkish': False, 'appeal': False, 'korean': False, 'ageand': False, 'governmentrequired': False, 'birthday': False, 'eager': False, 'glimpse': False, 'ass': False, 'pleased': False, 'discouraged': False, 'hasnt': False, 'fever': False, 'unclean': False, 'grades': False, 'isolated': False, 'cheerful': False, 'iq': False, 'private': False, 'fluke': False, 'doc': False, 'crib': False, 'grim': False, 'occasional': False, 'temporary': False, 'soap': False, 'visualnarrative': False, 'method': False, 'inexpensive': False, 'prose': False, 'pulps': False, 'protean': False, 'novels': False, 'muscular': False, 'shirtbr': False, 'venerable': False, 'villainous': False, 'casebr': False, 'anyonebr': False, 'amongst': False, 'certainty': False, 'undergone': False, 'representative': False, 'unrest': False, 'camp': False, 'respective': False, 'waiter': False, 'lemonade': False, 'noted': False, 'wherein': False, 'active': False, 'samantha': False, 'dial': False, 'queen': False, 'alternate': False, 'rebel': False, 'global': False, 'lasted': False, 'laughed': False, 'extensive': False, 'minimum': False, 'rooftops': False, 'conflict': False, 'concept': False, 'unromantic': False, 'uncomfortable': False, 'hokey': False, 'secondary': False, 'obese': False, 'pale': False, 'schizophrenic': False, 'agobr': False, 'forum': False, 'tongue': False, 'socalled': False, 'spin': False, 'campier': False, 'gothic': False, 'nonexistent': False, 'latin': False, 'delight': False, 'overdue': False, 'unmissable': False, 'entertainingi': False, 'countless': False, 'cinema': False, 'followup': False, 'unison': False, 'unbalanced': False, 'parish': False, 'hes': False, 'landlady': False, 'tobacconist': False, 'lengthy': False, 'developed': False, 'insufferable': False, 'pompous': False, 'enact': False, 'jest': False, 'expose': False, 'intern': False, 'feud': False, 'erratic': False, 'fussy': False, 'soppy': False, 'jealous': False, 'melancholy': False, 'posh': False, 'toldcan': False, 'screenplayplaywright': False, 'vary': False, 'tedious': False, 'trilogy': False, 'afterallbr': False, 'missed': False, 'custodialtype': False, 'prosperous': False, 'unintentional': False, 'enliven': False, 'nonmaugham': False, 'describe': False, 'occasionbr': False, 'sanitorium': False, 'crew': False, 'jean': False, 'irascible': False, 'internal': False, 'illness': False, 'dealing': False, 'village': False, 'nazi': False, 'courtroom': False, 'fictitious': False, 'legitimate': False, 'secondtier': False, 'prescient': False, 'supercreative': False, 'leg': False, 'cattle': False, 'picture': False, 'nominated': False, 'performancea': False, 'guilt': False, 'filbert': False, 'gibbet': False, 'heavier': False, 'incredulous': False, 'prompt': False, 'witty': False, 'sassy': False, 'encore': False, 'impossibleexcept': False, 'african': False, 'deepbr': False, 'shines': False, 'vintage': False, 'tendentious': False, 'waterbed': False, 'swirlhairdoed': False, 'faaaaaabulous': False, 'purse': False, 'persona': False, 'somewhere': False, 'dress': False, 'burst': False, 'evoke': False, 'impulse': False, 'walk': False, 'burly': False, 'buys': False, 'park': False, 'fur': False, 'stay': False, 'featured': False, 'staid': False, 'crappy': False, 'prevent': False, 'youd': False, 'quaint': False, 'drunk': False, 'relic': False, 'marionette': False, 'naivet': False, 'messageladen': False, 'grist': False, 'sleep': False, 'url': False, 'proamerican': False, 'noble': False, 'purposebr': False, 'todays': False, 'absolute': False, 'bloodthirsty': False, 'justify': False, 'immoral': False, 'heinous': False, 'agrandizement': False, 'lofty': False, 'prostitute': False, 'vanish': False, 'experiment': False, 'raucous': False, 'incorrect': False, 'screwball': False, 'episodic': False, 'pacey': False, 'happened': False, 'againbr': False, 'sidebr': False, 'dozens': False, 'lazy': False, 'attractive': False, 'diversionmuch': False, 'belong': False, 'laughs': False, 'processbr': False, 'feelingversusduty': False, 'outrageous': False, 'effervescent': False, 'commentary': False, 'malleable': False, 'superficial': False, 'fable': False, 'inhumane': False, 'lawful': False, 'apathy': False, 'preachy': False, 'earnest': False, 'relax': False, 'phony': False, 'annoyingparticularly': False, 'littlest': False, 'romanian': False, 'discernible': False, 'ultrafamous': False, 'hellthose': False, 'assi': False, 'baby': False, 'tent': False, 'ordeal': False, 'australian': False, 'familys': False, 'accent': False, 'nativeborn': False, 'cleared': False, 'imprisoned': False, 'charitable': False, 'pit': False, 'lest': False, 'unremarkable': False, 'underappreciatted': False, 'attentive': False, 'bliss': False, 'punchline': False, 'laughable': False, 'angered': False, 'mediapublic': False, 'understandable': False, 'viewsbr': False, 'dingo': False, 'suspicious': False, 'presented': False, 'lynch': False, 'clinical': False, 'melodramatic': False, 'pursuant': False, 'uproar': False, 'accused': False, 'barbecue': False, 'ritual': False, 'thirsty': False, 'obsessed': False, 'apart': False, 'mirror': False, 'return': False, 'vicious': False, 'accessory': False, 'sentenced': False, 'circumstantial': False, 'supportbr': False, 'sociological': False, 'gossip': False, 'mobs': False, 'evolved': False, 'unverified': False, 'vigorous': False, 'virtue': False, 'aloofness': False, 'downward': False, 'behaved': False, 'frankly': False, 'approachable': False, 'prone': False, 'enrapture': False, 'deny': False, 'restaurant': False, 'passionate': False, 'pleasurable': False, 'conscious': False, 'fall': False, 'receive': False, 'toprate': False, 'nails': False, 'overkill': False, 'daviss': False, 'arrive': False, 'attempt': False, 'moderate': False, 'stoic': False, 'ravenous': False, 'progressive': False, 'unsympathetic': False, 'faint': False, 'monster': False, 'newsmedia': False, 'uninformed': False, 'austrialian': False, 'picked': False, 'arterial': False, 'collar': False, 'layman': False, 'hearsay': False, 'investigate': False, 'vacation': False, 'sensational': False, 'likablebr': False, 'reallife': False, 'relentless': False, 'recommendedbr': False, 'unqualified': False, 'prodigious': False, 'unsentimental': False, 'superlative': False, 'communicated': False, 'cranky': False, 'unpleasant': False, 'unrelenting': False, 'monthold': False, 'austrailian': False, 'terrifying': False, 'devoured': False, 'afterthought': False, 'invasive': False, 'halftruths': False, 'medias': False, 'importantbr': False, 'incomprehensible': False, 'extremelypowerful': False, 'basedonatrue': False, 'hounding': False, 'babybr': False, 'harder': False, 'stylized': False, 'scenesbr': False, 'cheese': False, 'bucolic': False, 'telltale': False, 'spontaneity': False, 'paced': False, 'lived': False, 'wrongbr': False, 'nohoper': False, 'unravelbr': False, 'sterling': False, 'achievement': False, 'nonetooserious': False, 'togary': False, 'nu': False, 'lillian': False, 'audio': False, 'friend': False, 'fat': True, 'altruistic': False, 'liberty': False, 'vocabularybr': False, 'stayed': False, 'proletariat': False, 'outmoded': False, 'topple': False, 'tyrannybr': False, 'brown': False, 'rumanian': False, 'peddle': False, 'undone': False, 'worldwide': False, 'winsome': False, 'hostess': False, 'gal': False, 'waybut': False, 'erudite': False, 'call': False, 'uninterrupted': False, 'residue': False, 'someday': False, 'delicacy': False, 'womenonly': False, 'library': False, 'ebay': False, 'weekly': False, 'httpwwwjohntoppingcomharveyperrwarwidowwarwidowhtml': False, 'conservative': False, 'seek': False, 'upandcoming': False, 'furious': False, 'cretinous': False, 'lovely': False, 'crudeness': False, 'incest': False, 'slotbr': False, 'scarybr': False, 'consecutive': False, 'sailor': False, 'screenbr': False, 'civil': False, 'reputationbr': False, 'teenager': False, 'fast': False, 'annoyedbr': False, 'accomplish': False, 'back': False, 'secure': False, 'magician': False, 'princess': False, 'djinns': False, 'grandiose': False, 'arabian': False, 'villain': False, 'genie': False, 'mechanical': False, 'near': False, 'kit': False, 'rear': False, 'fly': False, 'thousand': False, 'menacing': False, 'yearold': False, 'blind': False, 'halfway': False, 'incident': False, 'fantastical': False, 'mild': False, 'classify': False, 'irrepressible': False, 'dated': False, 'melodrama': False, 'unto': False, 'spectaclebr': False, 'category': False, 'kingdom': False, 'stable': False, 'thatbr': False, 'revealed': False, 'djinn': False, 'boythief': False, 'sidekick': False, 'adventurous': False, 'definitely': False, 'corny': False, 'fiftyfoot': False, 'anti': False, 'considerable': False, 'antigerman': False, 'act': False, 'west': False, 'opinionbr': False, 'humour': True, 'aka': False, 'malignant': False, 'throne': False, 'mechanic': False, 'othersbr': False, 'especial': False, 'urgent': False, 'evocative': False, 'oriental': False, 'dusty': False, 'goldie': False, 'sorcererbr': False, 'relish': False, 'sensitive': False, 'unenlightened': False, 'athletic': False, 'responsible': False, 'dual': False, 'fairy': False, 'pinksbr': False, 'distinguished': False, 'pointsthe': False, 'disguise': False, 'vizier': False, 'gift': False, 'servant': False, 'storm': False, 'meanwhile': False, 'stabs': False, 'goddesss': False, 'flower': False, 'bow': False, 'throng': False, 'flee': False, 'designs': False, 'choral': False, 'avaricious': False, 'verystrong': False, 'setdesign': False, 'wizard': False, 'shadow': False, 'jail': False, 'unbeknown': False, 'allow': False, 'hit': False, 'crap': False, 'tacked': False, 'seas': False, 'wee': False, 'outdated': False, 'clandestine': False, 'epitome': False, 'upi': False, 'starry': False, 'eyed': False, 'slum': False, 'thief': False, 'suspend': False, 'gargantuan': False, 'wistful': False, 'finale': False, 'exposure': False, 'twist': False, 'reduced': False, 'teen': False, 'oldest': False, 'today': False, 'achievementbr': False, 'bloodless': False, 'artificial': False, 'genii': False, 'list': False, 'pastel': False, 'deceit': False, 'justice': False, 'frame': False, 'freed': False, 'rightful': False, 'embodied': False, 'literary': False, 'inflict': False, 'screens': False, 'imposing': False, 'charmbr': False, 'technicolor': False, 'traitorous': False, 'tornadolike': False, 'untouched': False, 'periodic': False, 'affluent': False, 'workbr': False, 'showy': False, 'continent': False, 'fascist': False, 'embassy': False, 'runmanian': False, 'adapted': False, 'stern': False, 'antifascist': False, 'lyrical': False, 'awkward': False, 'dressed': False, 'unforgivable': False, 'demanding': False, 'opera': False, 'leading': False, 'lavishness': False, 'indoor': False, 'soprano': False, 'customary': False, 'fictionalized': False, 'tenor': False, 'sung': False, 'jose': False, 'dying': False, 'died': False, 'robust': False, 'peak': False, 'herselfbr': False, 'vocal': False, 'visionary': False, 'expensive': False, 'portrayed': False, 'modest': False, 'legends': False, 'arebr': False, 'discipline': False, 'contractual': False, 'loveliest': False, 'night': False, 'height': False, 'fail': False, 'c': False, 'trash': False, 'historic': False, 'handsome': False, 'notfat': False, 'adjust': False, 'infatuated': False, 'charisma': False, 'push': False, 'hardiest': False, 'directingbr': False, 'injured': False, 'tugs': False, 'embarrassed': False, 'manipulated': False, 'efficient': False, 'strike': False, 'try': False, 'sadness': False, 'scattered': False, 'nail': False, 'fleeting': False, 'kaufman': False, 'left': False, 'horny': False, 'reticent': False, 'train': False, 'sunrise': False, 'unfoldedbr': False, 'cautious': False, 'indepth': False, 'wished': False, 'prequel': False, 'emotionsthe': False, 'unparalleled': False, 'highlight': False, 'lovedbr': False, 'shrewd': False, 'hrs': False, 'infallible': False, 'storyhere': False, 'whybr': False, 'promiscuous': False, 'decide': False, 'excitement': False, 'classical': False, 'rendezvous': False, 'till': False, 'loveydovey': False, 'intruderbr': False, 'diverse': False, 'powerbr': False, 'soulful': False, 'overstatement': False, 'ideal': False, 'feminine': False, 'unpretentious': False, 'speaks': False, 'ointment': False, 'disheveled': False, 'slob': False, 'nonchalant': False, 'untucked': False, 'properly': False, 'trim': False, 'unwashed': False, 'oftcynical': False, 'disturbed': False, 'silly': False, 'sun': False, 'irksome': False, 'halfbaked': False, 'reunite': False, 'alonebr': False, 'easytofollow': False, 'spoonfed': False, 'endingshappy': False, 'speak': False, 'childrendid': False, 'slightest': False, 'blah': False, 'brighter': False, 'abstract': False, 'depicted': False, 'trustworthy': False, 'gem': False, 'breadth': False, 'inconsequential': False, 'werent': False, 'livesbr': False, 'kiss': False, 'disposal': False, 'palm': False, 'adult': False, 'eloquent': False, 'engaging': False, 'lifebr': False, 'dreams': False, 'harmless': False, 'facile': False, 'unwilling': False, 'jesse': False, 'sheer': False, 'lifetime': False, 'outbr': False, 'discuss': False, 'everybody': False, 'traveller': False, 'choose': False, 'comparative': False, 'unjust': False, 'maltese': False, 'americas': False, 'interwar': False, 'determined': False, 'fightercourier': False, 'loyal': False, 'foolish': True, 'ineffective': False, 'fed': False, 'attracted': False, 'magnetic': False, 'poet': False, 'skeptic': False, 'sequel': False, 'proof': False, 'bestbr': False, 'befall': False, 'picturesque': False, 'immense': False, 'relatable': False, 'upbeat': False, 'deliver': False, 'useless': False, 'sense': False, 'fond': False, 'exactly': False, 'televisionfilm': False, 'forgiveness': False, 'oversightbr': False, 'geriatric': False, 'formative': False, 'trauma': False, 'fleshandblood': False, 'surge': False, 'inspire': False, 'regarded': False, 'memoir': False, 'totalitarian': False, 'exterminationbr': False, 'mr': False, 'convincing': False, 'upright': False, 'luminary': False, 'contemptible': False, 'disease': False, 'illbr': False, 'someone': False, 'usbr': False, 'rebellious': False, 'satisfaction': False, 'aspect': False, 'livebr': False, 'idealistic': False, 'profound': False, 'swedish': False, 'overact': False, 'exciting': False, 'neglectbr': False, 'accessible': False, 'supplemental': False, 'sequels': False, 'fill': False, 'flesh': False, 'trivia': False, 'drivein': False, 'info': False, 'majesty': False, 'wait': False, 'selflessness': False, 'waited': False, 'dismantled': False, 'somehow': False, 'grip': False, 'adultsno': False, 'fansgroupiesmoney': False, 'anewthis': False, 'decrepit': False, 'hurt': False, 'moviesad': False, 'warn': False, 'loneliness': False, 'genius': False, 'musician': False, 'grief': False, 'conclusion': False, 'obsession': False, 'hidden': False, 'trust': False, 'inflective': False, 'longbr': False, 'racial': False, 'smoke': False, 'avoid': False, 'thinking': False, 'lifestyle': False, 'vision': False, 'thembr': False, 'couldnt': False, 'chancebr': False, 'halfdozen': False, 'harvest': False, 'pay': False, 'americanised': False, 'turd': False, 'awardmaterial': False, 'earth': False, 'filled': False, 'baseballlike': False, 'ignorant': False, 'irresistible': False, 'townfamous': False, 'amiable': False, 'twistbr': False, 'goodness': False, 'policeman': False, 'realisticbr': False, 'seemed': False, 'confusing': False, 'widower': False, 'marijuana': False, 'childish': False, 'solution': False, 'joint': False, 'precisely': False, 'irresponsible': False, 'ta': False, 'festive': False, 'hearted': False, 'spent': False, 'underdog': False, 'cameroonian': False, 'equality': False, 'amazingly': False, 'joyous': False, 'pidginenglish': False, 'straitened': False, 'wholesale': False, 'piquant': False, 'funnier': False, 'even': False, 'chickflic': False, 'pruner': False, 'nominee': False, 'shop': False, 'debtsbr': False, 'forgiveable': False, 'cleaner': False, 'magnificant': False, 'frustrating': False, 'foray': False, 'march': False, 'discover': False, 'mat': False, 'gear': False, 'hundredth': False, 'funnest': False, 'timea': False, 'object': False, 'secert': False, 'starsbut': False, 'greatbr': False, 'completelybut': False, 'timei': False, 'upwhen': False, 'againthe': False, 'favoritesbr': False, 'itthis': False, 'n': False, 'intangible': False, 'timesin': False, 'advanced': False, 'star': False, 'launch': False, 'insured': False, 'used': False, 'verbal': False, 'judicial': False, 'religiousethnic': False, 'differencebr': False, 'inspiring': False, 'absentbr': False, 'lush': False, 'hello': False, 'suppose': False, 'speechless': False, 'dvd': False, 'clue': False, 'austens': False, 'lap': False, 'garnered': False, 'sic': False, 'unfinished': False, 'victorian': False, 'ambitious': False, 'unsuitable': False, 'complicationsbr': False, 'affectionate': False, 'sixteen': False, 'querulous': False, 'garrulous': False, 'indicate': False, 'juliet': False, 'straightforward': False, 'provincial': False, 'salutory': False, 'toned': False, 'delicious': False, 'dreamy': False, 'polite': False, 'infant': False, 'brotherly': False, 'wry': False, 'understated': False, 'talkative': False, 'thrilled': False, 'included': False, 'permissible': False, 'domestic': False, 'prosecuted': False, 'occupy': False, 'doubtful': False, 'tactful': False, 'secluded': False, 'modernity': False, 'morbid': False, 'oh': False, 'cinematography': False, 'saccharine': False, 'ball': False, 'gentlemanlike': False, 'warmth': False, 'charm': False, 'showand': False, 'linesbr': False, 'fuss': False, 'declaration': False, 'puckish': False, 'vogue': False, 'astute': False, 'round': False, 'retrospect': False, 'calm': False, 'flowbr': False, 'naturalness': False, 'expressive': False, 'relate': False, 'regardless': False, 'behavior': False, 'beset': False, 'reunited': False, 'overlycritical': False, 'touchingbr': False, 'competent': False, 'southwest': False, 'secular': False, 'victorious': False, 'senior': False, 'forcible': False, 'favorable': False, 'genderneutral': False, 'noteworthy': False, 'edge': False, 'quarterhind': False, 'impaired': False, 'forlorn': False, 'picnic': False, 'dig': False, 'awaybr': False, 'merry': False, 'sadisticmasochist': False, 'felt': False, 'romp': False, 'existential': False, 'nutty': False, 'respectable': False, 'matrix': False, 'pointless': False, 'interestingbr': False, 'cowriter': False, 'stick': False, 'iranian': False, 'softer': False, 'maximum': False, 'metaphysical': False, 'claustrophobic': False, 'strongest': False, 'believablebr': False, 'cut': False, 'objectionable': False, 'lighthearted': False, 'duo': False, 'framebr': False, 'tricky': False, 'promotional': False, 'erroneous': False, 'intolerant': False, 'logic': False, 'advert': False, 'north': False, 'south': False, 'determine': False, 'novelty': False, 'questionable': False, 'unlikeable': False, 'flip': False, 'lackingbr': False, 'fool': False, 'nonnew': False, 'specialized': False, 'cynicalcritical': False, 'watching': False, 'penchant': False, 'trapped': False, 'cubic': False, 'interact': False, 'optimistic': False, 'lifelong': False, 'dimwitted': False, 'rentfree': False, 'illconstructed': False, 'advantage': False, 'neurotic': False, 'antisocial': False, 'unfit': False, 'demolished': False, 'thrillerhorror': False, 'aphoristic': False, 'antagonistic': False, 'generous': False, 'greenscreen': False, 'cowrote': False, 'longtime': False, 'unwanted': False, 'postapocalyptic': False, 'finishbr': False, 'slang': False, 'suburbs': False, 'minute': False, 'bothersome': False, 'disappear': False, 'agent': False, 'agoraphobic': False, 'turns': False, 'panic': False, 'spend': False, 'hunger': False, 'reveal': False, 'diabolical': False, 'god': False, 'pad': False, 'prey': False, 'twilight': False, 'imho': False, 'minimalistic': False, 'locate': False, 'plight': False, 'sillier': False, 'untilbr': False, 'candy': False, 'lowbudget': False, 'handworkbr': False, 'appearbr': False, 'satisfactory': False, 'onebr': False, 'amalgam': False, 'wellmade': False, 'monumental': False, 'hate': False, 'eyecandy': False, 'timebr': False, 'eyes': False, 'loveinterest': False, 'spirited': False, 'ultrafast': False, 'secretaryturnedlove': False, 'extravagant': False, 'alone': False, 'distasteful': False, 'elaborate': False, 'versatile': False, 'venomous': False, 'fasttalking': False, 'mischievous': False, 'completely': False, 'fro': False, 'frenetic': False, 'danced': False, 'momentary': False, 'kaleidiscopic': False, 'playersbr': False, 'julian': False, 'whirlwind': False, 'unscrupulous': False, 'footlight': False, 'suggestive': False, 'nick': False, 'supporting': False, 'nonstop': False, 'freshness': False, 'enjoyablebr': False, 'mellow': False, 'vocalsbr': False, 'started': False, 'engulfed': False, 'selfreferential': False, 'quickest': False, 'goodnatured': False, 'hooks': False, 'himmy': False, 'digest': False, 'forty': False, 'unbilled': False, 'unsweaty': False, 'wholesome': False, 'fifty': False, 'federal': False, 'stomps': False, 'wit': False, 'inbr': False, 'earliest': False, 'characters': False, 'recommendable': False, 'pertinent': False, 'showcase': False, 'extravaganza': False, 'yes': False, 'soso': False, 'defy': False, 'nonmusical': False, 'favour': False, 'spark': False, 'routine': False, 'formulated': False, 'comedown': False, 'climactic': False, 'watchingyou': False, 'rational': False, 'innuendo': False, 'bikinis': False, 'trusty': False, 'frequent': False, 'theater': False, 'stage': False, 'unquestionable': False, 'nostalgic': False, 'theatre': False, 'performancesbr': False, 'jaunty': False, 'risqu': False, 'proceeded': False, 'crooked': False, 'fraudulent': False, 'unfaithful': False, 'buoyant': False, 'bighearted': False, 'unaccustomed': False, 'terpsichorean': False, 'plentiful': False, 'unclad': False, 'synchronous': False, 'tribute': False, 'blend': False, 'futuristic': False, 'gloomy': False, 'daytoday': False, 'loaf': False, 'galore': False, 'babes': False, 'clientle': False, 'talky': False, 'traitor': False, 'unrehearsed': False, 'quisessential': False, 'wind': False, 'extravaganzas': False, 'nonsense': False, 'unmistakable': False, 'joke': False, 'threestory': False, 'thrill': False, 'uplift': False, 'spreadeagle': False, 'naughty': False, 'eartoear': False, 'undisputed': False, 'scantilyclad': False, 'chorus': False, 'prestigious': False, 'noncompromising': False, 'enigmatic': False, 'personality': False, 'mix': False, 'unavailable': False, 'cultfavorite': False, 'lo': False, 'wickedness': False, 'lover': False, 'alibi': False, 'carnal': False, 'sexyinnocent': False, 'unsettling': False, 'allamerican': False, 'muted': False, 'unsavory': False, 'eroticthriller': False, 'posterlucky': False, 'uncut': False, 'comment': False, 'exempt': False, 'street': False, 'systembr': False, 'strugglebr': False, 'royal': False, 'catchascatchcan': False, 'memory': False, 'accidental': False, 'medieval': False, 'underneath': False, 'burgandian': False, 'itselfbr': False, 'impoverished': False, 'clothing': False, 'spiv': False, 'border': False, 'dodgy': False, 'den': False, 'matter': False, 'majestys': False, 'bugundian': False, 'theory': False, 'mile': False, 'fifteenth': False, 'irrespective': False, 'anomaly': False, 'seal': False, 'surrenderbr': False, 'governmentimposed': False, 'unpopularity': False, 'reviewer': False, 'heartless': False, 'illwill': False, 'campaigned': False, 'politicalsocial': False, 'foreignbr': False, 'stumble': False, 'neighborhood': False, 'sovereign': False, 'meticulous': False, 'parallel': False, 'prank': False, 'fortune': False, 'inquest': False, 'typecasted': False, 'handheld': False, 'lite': False, 'quota': False, 'worlds': False, 'tiniest': False, 'solitary': False, 'change': False, 'necessarily': False, 'warms': False, 'advocate': False, 'salesman': False, 'pussywhipped': False, 'southern': False, 'slick': False, 'take': False, 'inarticulate': False, 'w': False, 'hill': False, 'atmospheric': False, 'standstill': False, 'sweetnatured': False, 'creepiest': False, 'charming': False, 'simpleminded': False, 'fairlysafe': False, 'understatement': False, 'untold': False, 'oneday': False, 'snapshot': False, 'study': False, 'lost': False, 'ill': False, 'decapitated': False, 'tugged': False, 'vent': False, 'basement': False, 'murder': False, 'allfemale': False, 'festival': False, 'redundant': False, 'searly': False, 'climaxscene': False, 'jaw': False, 'imagery': False, 'simplistic': False, 'nevertheless': False, 'handful': False, 'californian': False, 'anniversary': False, 'register': False, 'introvert': False, 'submissive': False, 'perverse': False, 'cellar': False, 'inbred': False, 'lift': False, 'sleeper': False, 'psychiatric': False, 'perverted': False, 'travel': False, 'diaperclad': False, 'terrorizes': False, 'virtuoso': False, 'na': False, 'gentleman': False, 'trouble': False, 'undertheweather': False, 'linen': False, 'nap': False, 'yanked': False, 'fashionable': False, 'yummy': False, 'geeky': False, 'incestspawned': False, 'manchild': False, 'sturdy': False, 'oddest': False, 'nightmare': False, 'realness': False, 'autopsy': False, 'noname': False, 'ferocious': False, 'grungy': False, 'potent': False, 'absorbing': False, 'angel': False, 'entourage': False, 'lacking': False, 'finger': False, 'constitutes': False, 'perceive': False, 'indie': False, 'ohsodistant': False, 'horrorsuspense': False, 'thier': False, 'bogdown': False, 'anticlimaxesbr': False, 'medium': False, 'draws': False, 'draw': False, 'implausible': False, 'residual': False, 'extramarital': False, 'audacious': False, 'lighten': False, 'overlookeda': False, 'slice': False, 'extended': False, 'reasonsthese': False, 'lovelybr': False, 'interracial': False, 'sizes': False, 'asleep': False, 'turkish': False, 'coarse': False, 'smooth': False, 'satin': False, 'rustle': False, 'droning': False, 'exmilitary': False, 'slovakian': False, 'sparse': False, 'weary': False, 'resourceful': False, 'blood': False, 'lots': False, 'gunshot': False, 'woundsknife': False, 'arrow': False, 'dolph': False, 'eplosive': False, 'targetthey': False, 'polemical': False, 'incisive': False, 'select': False, 'blatant': False, 'plural': False, 'applicable': False, 'tenuous': False, 'smug': False, 'durable': False, 'darkness': False, 'maniacal': False, 'methodical': False, 'unopposed': False, 'laterbr': False, 'oppose': False, 'procured': False, 'victory': False, 'fascinating': False, 'treatiesbr': False, 'gobs': False, 'moody': False, 'surrealistic': False, 'cg': False, 'itits': False, 'actressthe': False, 'scare': False, 'anywaybr': False, 'scarier': False, 'daytime': False, 'spooky': False, 'stagnant': False, 'gain': False, 'anticlimactic': False, 'pier': False, 'unanswered': False, 'jetty': False, 'garage': False, 'psychotic': False, 'inbetween': False, 'submit': False, 'name': False, 'whiff': False, 'wher': False, 'x': False, 'shy': False, 'deserted': False, 'stressful': False, 'craftsman': False, 'achieved': False, 'escaped': False, 'sex': False, 'formula': False, 'tepid': False, 'convict': False, 'flippant': False, 'childishly': False, 'sitcomishly': False, 'unmasculine': False, 'encounter': False, 'macho': False, 'fluff': False, 'gable': False, 'watchablebr': False, 'marvellous': False, 'wooden': False, 'cavalry': False, 'sacrificial': False, 'centenary': False, 'tainted': False, 'dubbed': False, 'specialbr': False, 'jobbr': False, 'dancer': False, 'terrificbr': False, 'related': False, 'fourfive': False, 'riding': False, 'favor': False, 'clichridden': False, 'fairness': False, 'transgenic': False, 'reviews': False, 'regard': False, 'captured': False, 'juvenile': False, 'iced': False, 'fanatical': False, 'shopsbr': False, 'locks': False, 'gunmanbr': False, 'warbr': False, 'juvie': False, 'welllit': False, 'test': False, 'liaison': False, 'nicole': False, 'siege': False, 'woundsbr': False, 'address': False, 'lucid': False, 'dealt': False, 'pretext': False, 'firefly': False, 'squalid': False, 'leatherclad': False, 'gangbr': False, 'disruptive': False, 'advance': False, 'unnoticed': False, 'semiregular': False, 'worry': False, 'wanted': False, 'disservice': False, 'premise': False, 'click': False, 'minutesbr': False, 'unendearing': False, 'ample': False, 'disingenious': False, 'attentionbr': False, 'unwatchable': False, 'braindead': False, 'unwell': False, 'grapple': False, 'notsosubtle': False, 'meditative': False, 'genteel': False, 'ingenuous': False, 'continued': False, 'satellite': False, 'untrue': False, 'harmony': False, 'gown': False, 'culinary': False, 'invite': False, 'pert': False, 'sexmad': False, 'stretched': False, 'seriesbr': False, 'interestbr': False, 'mans': False, 'endsbr': False, 'intuitive': False, 'indonesian': False, 'fairytale': False, 'songs': False, 'nothingbr': False, 'whim': False, 'populist': False, 'believeable': False, 'spicebr': False, 'ofbr': False, 'dish': False, 'belive': False, 'unpopular': False, 'unpredictable': False, 'goodthis': False, 'coolest': False, 'revenge': False, 'robotic': False, 'email': False, 'nogoodnik': False, 'heat': False, 'introverted': False, 'dependent': False, 'percent': False, 'playing': False, 'attainable': False, 'clerk': False, 'ego': False, 'bolster': False, 'tumble': False, 'fellowship': False, 'appear': False, 'knock': False, 'destroyed': False, 'conciousness': False, 'bombing': False, 'bombs': False, 'logical': False, 'firstbr': False, 'weclome': False, 'shout': False, 'thirty': False, 'identify': False, 'giraffe': False, 'begin': False, 'thisbr': False, 'cousin': False, 'touching': False, 'deeperbr': False, 'masterpiecebr': False, 'aid': False, 'realizes': False, 'beloved': False, 'glitch': False, 'emotionless': False, 'shakes': False, 'likewisebr': False, 'indistinguishable': False, 'allbr': False, 'irrelevant': False, 'afroamerican': False, 'scottish': False, 'clearer': False, 'nonnormal': False, 'distinctive': False, 'tonight': False, 'manylayered': False, 'behold': False, 'richness': False, 'storiesbr': False, 'filmed': False, 'gaelic': False, 'innumerable': False, 'oral': False, 'sodden': False, 'invisible': False, 'impenetrable': False, 'grandfather': False, 'frustration': False, 'twentyfirst': False, 'inaccessible': False, 'treacherous': False, 'ageold': False, 'refreshing': False, 'bald': False, 'astronaut': False, 'engineersinvisible': False, 'drastic': False, 'delete': False, 'bitchin': False, 'realist': False, 'fantasya': False, 'shuttle': False, 'hamper': False, 'automatic': False, 'sent': False, 'unreal': False, 'endbr': False, 'conspiratorial': False, 'nostalgicbr': False, 'rookie': False, 'frontrow': False, 'crash': False, 'forgetbr': False, 'tragedy': False, 'impacthe': False, 'buildingas': False, 'accidentin': False, 'soundsthese': False, 'tower': False, 'lifeyou': False, 'tony': False, 'unitbr': False, 'assemble': False, 'gist': False, 'lectured': False, 'humansocietal': False, 'relevant': False, 'wellwritten': False, 'darkest': False, 'heightbr': False, 'funeral': False, 'tsunami': False, 'needed': False, 'onbr': False, 'sum': False, 'blockbuster': False, 'fireman': False, 'devastated': False, 'destruction': False, 'wasbr': False, 'hell': False, 'captain': False, 'inspect': False, 'oneonone': False, 'finished': False, 'frenzied': False, 'rigorous': False, 'sky': False, 'navigate': False, 'audible': False, 'visible': False, 'apocalyptic': False, 'upclose': False, 'rubble': False, 'obsolete': False, 'sensationalize': False, 'newbie': False, 'academy': False, 'probationary': False, 'sift': False, 'butt': False, 'station': False, 'vet': False, 'unthinkable': False, 'accompany': False, 'crowds': False, 'unimaginable': False, 'uncles': False, 'lbs': False, 'arduous': False, 'selfless': False, 'sensationalistic': False, 'greet': False, 'fearful': False, 'lostbut': False, 'chastised': False, 'unflaunting': False, 'daybr': False, 'otherbr': False, 'bravery': False, 'thehigh': False, 'thatin': False, 'firefighter': False, 'documentarys': False, 'rescue': False, 'disturbingmany': False, 'backstory': False, 'retrospective': False, 'portray': False, 'uninformative': False, 'attract': False, 'verite': False, 'firemen': False, 'unobtrusive': False, 'probie': False, 'reflexive': False, 'dialectical': False, 'proudbr': False, 'amidst': False, 'portico': False, 'monolithic': False, 'fire': False, 'narration': False, 'banal': False, 'everybodys': False, 'nearby': False, 'whatbr': False, 'dubious': False, 'stagedbr': False, 'reflected': False, 'contain': False, 'supposed': False, 'swung': False, 'safetybr': False, 'invited': False, 'eyesbr': False, 'heard': True, 'tapebr': False, 'science': False, 'locker': False, 'bombed': False, 'courage': False, 'scarred': False, 'breaks': False, 'clique': False, 'slaughtered': False, 'east': False, 'thanks': False, 'glorified': False, 'infamy': False, 'edgebr': False, 'suspect': False, 'memorys': False, 'commitment': False, 'outsidebr': False, 'preserved': False, 'sceptical': False, 'documnetary': False, 'girlish': False, 'nuclear': False, 'beach': False, 'eyeful': False, 'lent': False, 'proxy': False, 'reward': False, 'crazier': False, 'personable': False, 'vivant': False, 'dreary': False, 'noirs': False, 'sunnier': False, 'noir': False, 'adman': False, 'afford': False, 'cramped': False, 'lifeless': False, 'infernal': False, 'spacious': False, 'suburbia': False, 'catchier': False, 'sunny': False, 'sodas': False, 'unglamorous': False, 'souls': False, 'describes': False, 'hometown': False, 'dramas': False, 'communist': False, 'buy': False, 'lostbr': False, 'tender': False, 'actorscary': False, 'instrumental': False, 'depth': False, 'implied': False, 'rifle': False, 'indulge': False, 'dose': False, 'creepiness': False, 'underscored': False, 'intrusive': False, 'quantitative': False, 'qualitative': False, 'easygriffiths': False, 'iti': False, 'aboutim': False, 'bunny': False, 'playground': False, 'grandpas': False, 'knew': False, 'foo': False, 'visit': False, 'unprecedented': False, 'fulfill': False, 'expert': False, 'acerbic': False, 'resonate': False, 'photo': False, 'ramshackle': False, 'notsoblissful': False, 'agreeable': False, 'idiosyncratic': False, 'avuncular': False, 'laconic': False, 'officious': False, 'radio': False, 'formulaic': False, 'nativetexu': False, 'ladenlike': False, 'detonate': False, 'kickbutt': False, 'networks': False, 'suggest': False, 'amorous': False, 'participant': False, 'uninhibited': False, 'angst': False, 'wildneasy': False, 'polished': False, 'acoustic': False, 'slower': False, 'sarnos': False, 'prowess': False, 'wanderlust': False, 'undressed': False, 'scariest': False, 'discourse': False, 'spoof': False, 'partial': False, 'critic': False, 'freedom': False, 'spoil': False, 'deployed': False, 'yellow': False, 'attached': False, 'unspoken': False, 'foul': False, 'lowest': False, 'undemanding': False, 'riotous': False, 'zuzzzuzz': False, 'architect': False, 'recite': False, 'strict': False, 'okay': False, 'costume': False, 'superheroine': False, 'charmed': False, 'fantasticbr': False, 'pubic': False, 'cleverest': False, 'segregated': False, 'eighty': False, 'repugnant': False, 'seats': False, 'revivalist': False, 'stomach': False, 'bmovie': False, 'zombie': False, 'inch': False, 'choppy': False, 'mel': False, 'horrorslash': False, 'gorefest': False, 'lame': False, 'care': False, 'rapist': False, 'demon': False, 'heroin': False, 'beep': False, 'etcbr': False, 'mystery': False, 'san': False, 'universebr': False, 'thingbr': False, 'animate': False, 'voyage': False, 'differentiate': False, 'boatbr': False, 'sophomore': False, 'filmstudent': False, 'twelve': False, 'mistaken': False, 'answer': False, 'apposite': False, 'savior': False, 'onealthough': False, 'characterhe': False, 'voice': False, 'appearsan': False, 'disappeared': False, 'sinatras': False, 'terror': False, 'townspeople': False, 'coward': False, 'helps': False, 'silver': False, 'faultless': False, 'acted': False, 'priori': False, 'selfironic': False, 'satire': False, 'farbr': False, 'cheek': False, 'portrayedbr': False, 'lowrent': False, 'venal': False, 'catharsic': False, 'path': False, 'groupie': False, 'numb': False, 'washedup': False, 'stuck': False, 'trippy': False, 'sincebr': False, 'toast': False, 'torch': False, 'hangdog': False, 'punk': False, 'misogynistic': False, 'scenes': False, 'musicoriented': False, 'sounded': False, 'washed': False, 'comeback': False, 'search': False, 'interpersonal': False, 'tour': False, 'harmonious': False, 'wrinklyold': False, 'englishbritish': False, 'usd': False, 'wildnwacky': False, 'morose': False, 'penniless': False, 'obscurity': False, 'hefty': False, 'ineffectual': False, 'disastrous': False, 'reignite': False, 'bumpy': False, 'screwy': False, 'pip': False, 'luminescent': False, 'groovy': False, 'erstwhile': False, 'seriocomic': False, 'triple': False, 'wellobserved': False, 'selfdestructbr': False, 'inflated': False, 'nearest': False, 'aboutbr': False, 'rockumentary': False, 'spinal': False, 'empathise': False, 'allbritish': False, 'toobr': False, 'writerbr': False, 'ends': False, 'melancholic': False, 'imaginary': False, 'xth': False, 'fictitional': False, 'fanatstic': False, 'monetary': False, 'flame': False, 'pastbr': False, 'bitter': False, 'glamouresque': False, 'squabble': False, 'rusty': False, 'classy': False, 'cordless': False, 'epigrammatic': False, 'restless': False, 'revolutionary': True, 'postmodern': False, 'allpervasive': False, 'generational': False, 'fatherson': False, 'itit': False, 'engrossed': False, 'vague': False, 'teary': False, 'introspective': False, 'farcical': False, 'thoroughly': False, 'organizationbr': False, 'rythmic': False, 'planified': False, 'confucian': False, 'brash': False, 'greedy': False, 'expansive': False, 'murky': False, 'underhand': False, 'rhythms': False, 'unmemorable': False, 'spontaneous': False, 'immaterial': False, 'spectacularbr': False, 'sacred': False, 'motorbike': False, 'tasteful': False, 'integrated': False, 'shifty': False, 'though': False, 'mainland': False, 'influenced': False, 'striking': False, 'shear': False, 'only': False, 'notbr': False, 'vibrant': False, 'careless': False, 'cops': False, 'outsider': False, 'opulent': False, 'democratic': False, 'slim': False, 'perturbed': False, 'happensbr': False, 'unresolved': False, 'variable': False, 'tos': False, 'extrovert': False, 'casted': False, 'greed': False, 'restbr': False, 'undercover': False, 'betrayal': False, 'hong': False, 'kong': False, 'arrangement': False, 'worthbr': False, 'optioned': False, 'bunch': False, 'slasher': False, 'psycho': False, 'assistant': False, 'badbr': False, 'umm': False, 'homegrown': False, 'ulfinal': False, 'shortage': False, 'universallack': False, 'sixty': False, 'brilliantbr': False, 'fulltilt': False, 'anonymous': False, 'indestructible': False, 'interrupted': False, 'clumsy': False, 'sendup': False, 'filming': False, 'flickthis': False, 'genreyes': False, 'nut': False, 'spreepeople': False, 'alsothe': False, 'murdersthe': False, 'concernthe': False, 'seriouslywhich': False, 'enoughwhile': False, 'seriouslythere': False, 'walkedof': False, 'endwhere': False, 'sceneswe': False, 'unoriginal': False, 'moviebeautiful': False, 'hole': False, 'burnt': False, 'cheesiest': False, 'madebr': False, 'tongueincheek': False, 'pupilless': False, 'vaults': False, 'tagline': False, 'wouldve': False, 'unmasking': False, 'gimmick': False, 'coursebr': False, 'killer': False, 'curse': False, 'nextbr': False, 'actressbr': False, 'neuroinfectious': False, 'shadowsideozzieandharriet': False, 'lonely': False, 'cary': False, 'happeningwealthy': False, 'favoritemust': False, 'ifbr': False, 'snowbr': False, 'dadbr': False, 'obnoxious': False, 'fetched': False, 'fewer': False, 'brian': False, 'snow': False, 'bits': False, 'guard': False, 'feast': False, 'puberty': False, 'sympathising': False, 'grave': False, 'blemish': False, 'lifeit': False, 'unimportant': False, 'blessedand': False, 'wretched': False, 'unbearable': False, 'saddest': False, 'undeniable': False, 'genetic': False, 'singular': False, 'compulsory': False, 'lifes': False, 'intimate': False, 'participate': False, 'provide': False, 'flourish': False, 'trademark': False, 'nonverbal': False, 'gray': False, 'trampled': False, 'sociopolitical': False, 'twentieth': False, 'albanian': False, 'hang': False, 'ancestral': False, 'geographical': False, 'greek': False, 'refugee': False, 'politician': False, 'odysseybr': False, 'asceticismbr': False, 'vanished': False, 'pole': False, 'crumble': False, 'devil': False, 'slogan': False, 'ham': False, 'send': False, 'extension': False, 'photographic': False, 'jockey': False, 'duplicating': False, 'subpoena': False, 'mysterywriter': False, 'brainy': False, 'undercurrent': False, 'offscreen': False, 'schmooze': False, 'playful': False, 'heiress': False, 'afoot': False, 'dame': False, 'dependable': False, 'tinkly': False, 'celestial': False, 'amusingbr': False, 'exc': False, 'socky': False, 'chop': False, 'rewatch': False, 'found': False, 'recall': False, 'ish': False, 'becuase': False, 'fu': False, 'lunch': False, 'onmy': False, 'fightingthe': False, 'effeminate': False, 'kung': False, 'committedbr': False, 'pupil': False, 'venoms': False, 'tend': False, 'twisty': False, 'lizard': False, 'student': False, 'taught': False, 'moneybr': False, 'indicative': False, 'postworld': False, 'veritable': False, 'import': False, 'longoverdue': False, 'frail': False, 'idle': False, 'pragmatic': False, 'pastoral': False, 'dime': False, 'rogue': False, 'animal': False, 'mine': False, 'romance': False, 'disciple': False, 'bribes': False, 'icon': False, 'yer': False, 'unpredictability': False, 'kungfu': False, 'venom': False, 'namesbr': False, 'actionbr': False, 'function': False, 'combatant': False, 'filtered': False, 'futurebr': False, 'tragedynoir': False, 'genrebr': False, 'hoopla': False, 'grimy': False, 'arcane': False, 'unsurpassed': False, 'whodunnit': False, 'cheesey': False, 'nonfight': False, 'cowardly': False, 'puzzle': False, 'personalitys': False, 'nicelybr': False, 'gut': False, 'painbr': False, 'greatness': False, 'virtuostic': False, 'master': False, 'rattle': False, 'quality': False, 'comparable': False, 'subpar': False, 'fart': False, 'freakyfunny': False, 'bizarro': False, 'outtherefunny': False, 'freshest': False, 'overdose': False, 'darn': False, 'prissy': False, 'comedymusical': False, 'childwoman': False, 'unconventional': False, 'nonstereotypical': False, 'dimensional': False, 'lastbr': False, 'racist': False, 'realizea': False, 'monty': False, 'toothe': False, 'sitcom': False, 'contextual': False, 'traits': False, 'behavioural': False, 'selfcontained': False, 'flow': False, 'sanctimonious': False, 'define': False, 'insensitive': False, 'faceful': False, 'glad': False, 'impression': False, 'sarah': False, 'aroundbr': False, 'canceled': False, 'appetite': False, 'demonic': False, 'glue': False, 'elevate': False, 'denigrate': False, 'homerian': False, 'manic': False, 'foment': False, 'potty': False, 'online': False, 'hide': False, 'described': False, 'quotable': False, 'goddamned': False, 'singer': False, 'spruced': False, 'worn': False, 'stylistic': False, 'dramatized': False, 'hair': False, 'insecure': False, 'manage': False, 'grandmother': False, 'voyeuristic': False, 'nothingness': False, 'unedited': False, 'showed': False, 'evident': False, 'aesthetic': False, 'thumbs': False, 'nuttiest': False, 'normalcy': False, 'wreck': False, 'undoubtedly': False, 'examine': False, 'additional': False, 'loudbr': False, 'leads': False, 'urbane': False, 'piggybr': False, 'rhetorical': False, 'nonsensical': False, 'decayed': False, 'amazement': False, 'spell': False, 'tangible': False, 'airs': False, 'silhouette': False, 'rats': False, 'wisdom': False, 'offbroadway': False, 'squalor': False, 'fading': False, 'discussed': False, 'shone': False, 'brightest': False, 'televisual': False, 'expanded': False, 'disrepute': False, 'inseparable': False, 'unbreakable': False, 'exploitative': False, 'resigned': False, 'attic': False, 'familybr': False, 'recommended': False, 'everyonebr': False, 'laughsbr': False, 'webbr': False, 'truest': False, 'retarded': False, 'unhealthy': False, 'unsafe': False, 'shameful': False, 'lasting': False, 'cult': False, 'center': False, 'guaranteed': False, 'intimatebr': False, 'hugebr': False, 'bedridden': False, 'dishesbr': False, 'hintbr': False, 'stillbr': False, 'andbr': False, 'isbr': False, 'girlbr': False, 'fulfilledbr': False, 'outfit': False, 'unpretencious': False, 'futurelive': False, 'cat': False, 'vie': False, 'optional': False, 'torso': False, 'eating': False, 'utensilsbr': False, 'clocksbr': False, 'contradict': False, 'stuffiness': False, 'streak': False, 'cooked': False, 'urinating': False, 'thrive': False, 'wondered': False, 'savouredbr': False, 'tad': False, 'industrial': False, 'indifferent': False, 'salary': False, 'operative': False, 'assignment': False, 'domestichousehold': False, 'complaint': False, 'cloakanddagger': False, 'complicated': False, 'congresswoman': False, 'noirdetective': False, 'pulled': False, 'resemble': False, 'femme': False, 'deadlier': False, 'runofthemill': False, 'illusive': False, 'immerse': False, 'sterile': False, 'thosebr': False, 'gettingbacktruememorypart': False, 'billed': False, 'sedate': False, 'unfoldsbr': False, 'whitecollar': False, 'spy': False, 'record': False, 'acceleratebr': False, 'caricature': False, 'noticed': False, 'spoilment': False, 'mystic': False, 'risky': False, 'seenbr': False, 'sean': False, 'hitech': False, 'claustrophobia': False, 'insert': False, 'unmask': False, 'unprofitable': False, 'colorless': False, 'sebastian': False, 'eerie': False, 'soberly': False, 'notsodistant': False, 'supportive': False, 'wimpy': False, 'autobiographical': False, 'apartment': False, 'wise': False, 'spur': False, 'piggy': False, 'marketbr': False, 'door': False, 'satisfactorily': False, 'paint': False, 'absorbed': False, 'derivative': False, 'misconstrue': False, 'controlbr': False, 'blandest': False, 'mundane': False, 'tortuous': False, 'labyrinth': False, 'bled': False, 'identitybr': False, 'identifying': False, 'utilised': False, 'fatale': False, 'ringer': False, 'ray': False, 'sunshine': False, 'antidote': False, 'spice': False, 'assumed': False, 'broadcast': False, 'cover': False, 'nefarious': False, 'drugged': False, 'convinced': False, 'suspicionbr': False, 'polygraph': False, 'agentbr': False, 'forthcoming': False, 'b': False, 'downplayed': False, 'approached': False, 'screenplay': False, 'disc': False, 'staple': False, 'technological': False, 'recruitment': False, 'infiltrate': False, 'dispose': False, 'usefulness': False, 'convoluted': False, 'manchurian': False, 'utmost': False, 'stark': False, 'illogical': False, 'bookish': False, 'gradual': False, 'dispense': False, 'hypnotic': False, 'figure': False, 'scorebr': False, 'clive': False, 'downtoearth': False, 'moviebuff': False, 'diminish': False, 'devalued': False, 'twostory': False, 'fancifulbr': False, 'conspirital': False, 'starts': False, 'fascinated': False, 'unbelievablebr': False, 'nottoodistant': False, 'hiss': False, 'encountered': False, 'passable': False, 'drum': False, 'propagandawhich': False, 'unify': False, 'thisall': False, 'fright': False, 'finnish': False, 'waysthe': False, 'humanmuch': False, 'humanise': False, 'factoralsothe': False, 'timesthe': False, 'scenesthe': False, 'ala': False, 'set': False, 'topsthis': False, 'potentialcrisper': False, 'nerve': False, 'themethe': False, 'dullif': False, 'hostage': False, 'homeownership': False, 'schedule': False, 'trap': False, 'explosive': False, 'anamorphic': False, 'terrificdolby': False, 'glut': False, 'outacted': False, 'cringeworthy': False, 'cropper': False, 'innocuous': False, 'priceless': False, 'requisite': False, 'engulf': False, 'perilous': False, 'beforebr': False, 'antagonist': False, 'brazen': False, 'actionfight': False, 'pacing': False, 'weather': False, 'mountainous': False, 'failedrescue': False, 'brag': False, 'evilness': False, 'airhead': False, 'philosophize': False, 'elementhe': False, 'qualify': False, 'shellshocked': False, 'worstbr': False, 'advertisement': False, 'affordable': False, 'acquaintance': False, 'overwhelm': False, 'peaksbr': False, 'artifice': False, 'dim': False, 'heist': False, 'stuntman': False, 'dummy': False, 'himselfbr': False, 'cavern': False, 'contribute': False, 'coldblooded': False, 'carelessness': False, 'tugofwar': False, 'legbr': False, 'actionpacked': False, 'unofficial': False, 'ledge': False, 'threatening': False, 'precarious': False, 'vertiginous': False, 'convenient': False, 'us': False, 'ripped': False, 'stallones': False, 'transvestite': False, 'librarian': False, 'journal': False, 'damn': False, 'transsexual': False, 'savant': False, 'bookthe': False, 'diary': False, 'centurythe': False, 'enable': False, 'successfullybr': False, 'immersed': False, 'organic': False, 'rehash': False, 'subconscious': False, 'itbut': False, 'occultsupernatural': False, 'inmatesbr': False, 'undervalued': False, 'sixmonth': False, 'exit': False, 'seethe': False, 'toughest': False, 'masculine': False, 'leak': False, 'tactic': False, 'occupantwho': False, 'desire': False, 'storydriven': False, 'suspended': False, 'penitentiary': False, 'location': False, 'strangest': False, 'brick': False, 'minimal': False, 'greenish': False, 'bigbudgeted': False, 'handicapped': False, 'sub': False, 'wallsbr': False, 'unholy': False, 'alloy': False, 'wellwoven': False, 'suggested': False, 'incarcerationbr': False, 'preop': False, 'annihilate': False, 'gong': False, 'selfdestructivebr': False, 'reinforce': False, 'alter': False, 'amateurish': False, 'hollow': False}, 'pos')\n",
      "***********\n"
     ]
    }
   ],
   "source": [
    "count=0\n",
    "for i in featuresets:\n",
    "    if count<1:\n",
    "        print(i)\n",
    "        print(\"***********\")\n",
    "        count=count+1"
   ]
  },
  {
   "cell_type": "code",
   "execution_count": 50,
   "metadata": {},
   "outputs": [],
   "source": [
    "z=[]\n",
    "x=[]\n",
    "#Shuffling the dictionary \n",
    "random.shuffle(featuresets)\n",
    "train = 25000\n",
    "test = 20000\n",
    "training_set = featuresets[:25000]\n",
    "testing_set = featuresets[20000:]\n",
    "\n",
    "z.append(train/test)\n",
    "x.append(test/train)"
   ]
  },
  {
   "cell_type": "code",
   "execution_count": 25,
   "metadata": {},
   "outputs": [
    {
     "name": "stdout",
     "output_type": "stream",
     "text": [
      "Classifier accuracy percent: 85.18296340731854\n",
      "Most Informative Features\n",
      "             unwatchable = True              neg : pos    =     26.7 : 1.0\n",
      "                 lighten = True              pos : neg    =     15.7 : 1.0\n",
      "           unpretentious = True              pos : neg    =     15.7 : 1.0\n",
      "                flawless = True              pos : neg    =     13.2 : 1.0\n",
      "                  turgid = True              neg : pos    =     11.4 : 1.0\n",
      "                 droning = True              neg : pos    =     11.0 : 1.0\n",
      "               pointless = True              neg : pos    =     10.1 : 1.0\n",
      "                    turd = True              neg : pos    =      9.9 : 1.0\n",
      "               sceptical = True              pos : neg    =      9.7 : 1.0\n",
      "                    blah = True              neg : pos    =      9.6 : 1.0\n",
      "                   lousy = True              neg : pos    =      9.6 : 1.0\n",
      "                quotable = True              pos : neg    =      9.4 : 1.0\n",
      "               laughable = True              neg : pos    =      9.1 : 1.0\n",
      "                   worst = True              neg : pos    =      9.0 : 1.0\n",
      "                   vapid = True              neg : pos    =      8.3 : 1.0\n"
     ]
    }
   ],
   "source": [
    "\n",
    "y=[]\n",
    "classifier = nltk.NaiveBayesClassifier.train(training_set)\n",
    "t=(nltk.classify.accuracy(classifier, testing_set))*100\n",
    "y.append(t)\n",
    "print(\"Classifier accuracy percent:\",t)\n",
    "classifier.show_most_informative_features(15)"
   ]
  },
  {
   "cell_type": "code",
   "execution_count": 51,
   "metadata": {},
   "outputs": [],
   "source": [
    "#Shuffling the dictionary \n",
    "random.shuffle(featuresets)\n",
    "train = 20000\n",
    "test = 20001\n",
    "training_set = featuresets[:20000]\n",
    "testing_set = featuresets[20001:]\n",
    "z.append(train/test)\n",
    "x.append(test/train)"
   ]
  },
  {
   "cell_type": "code",
   "execution_count": 35,
   "metadata": {},
   "outputs": [
    {
     "name": "stdout",
     "output_type": "stream",
     "text": [
      "Classifier accuracy percent: 82.98\n",
      "Most Informative Features\n",
      "             unwatchable = True              neg : pos    =     19.8 : 1.0\n",
      "                 mutated = True              neg : pos    =     15.6 : 1.0\n",
      "                  turgid = True              neg : pos    =     15.6 : 1.0\n",
      "           unpretentious = True              pos : neg    =     13.7 : 1.0\n",
      "                 fateful = True              pos : neg    =     13.1 : 1.0\n",
      "                flawless = True              pos : neg    =     13.1 : 1.0\n",
      "               fairytale = True              pos : neg    =     12.4 : 1.0\n",
      "               engrossed = True              pos : neg    =     12.4 : 1.0\n",
      "                 lighten = True              pos : neg    =     11.7 : 1.0\n",
      "               pointless = True              neg : pos    =     11.5 : 1.0\n",
      "                   lousy = True              neg : pos    =     10.9 : 1.0\n",
      "             unavailable = True              pos : neg    =     10.4 : 1.0\n",
      "                   worst = True              neg : pos    =      9.9 : 1.0\n",
      "              unoriginal = True              neg : pos    =      9.7 : 1.0\n",
      "               laughable = True              neg : pos    =      9.7 : 1.0\n"
     ]
    }
   ],
   "source": [
    "\n",
    "classifier = nltk.NaiveBayesClassifier.train(training_set)\n",
    "t=(nltk.classify.accuracy(classifier, testing_set))*100\n",
    "y.append(t)\n",
    "print(\"Classifier accuracy percent:\",t)\n",
    "classifier.show_most_informative_features(15)"
   ]
  },
  {
   "cell_type": "code",
   "execution_count": 52,
   "metadata": {},
   "outputs": [],
   "source": [
    "#Shuffling the dictionary \n",
    "random.shuffle(featuresets)\n",
    "train = 30000\n",
    "test = 20001\n",
    "training_set = featuresets[:30000]\n",
    "testing_set = featuresets[20001:]\n",
    "z.append(train/test)\n",
    "x.append(test/train)"
   ]
  },
  {
   "cell_type": "code",
   "execution_count": 37,
   "metadata": {},
   "outputs": [
    {
     "name": "stdout",
     "output_type": "stream",
     "text": [
      "Classifier accuracy percent: 85.22\n",
      "Most Informative Features\n",
      "             unwatchable = True              neg : pos    =     26.7 : 1.0\n",
      "                 lighten = True              pos : neg    =     15.7 : 1.0\n",
      "           unpretentious = True              pos : neg    =     15.7 : 1.0\n",
      "                flawless = True              pos : neg    =     13.2 : 1.0\n",
      "                  turgid = True              neg : pos    =     11.4 : 1.0\n",
      "                 droning = True              neg : pos    =     11.0 : 1.0\n",
      "               pointless = True              neg : pos    =     10.1 : 1.0\n",
      "                    turd = True              neg : pos    =      9.9 : 1.0\n",
      "               sceptical = True              pos : neg    =      9.7 : 1.0\n",
      "                    blah = True              neg : pos    =      9.6 : 1.0\n",
      "                   lousy = True              neg : pos    =      9.6 : 1.0\n",
      "                quotable = True              pos : neg    =      9.4 : 1.0\n",
      "               laughable = True              neg : pos    =      9.1 : 1.0\n",
      "                   worst = True              neg : pos    =      9.0 : 1.0\n",
      "              uproarious = True              pos : neg    =      8.3 : 1.0\n"
     ]
    }
   ],
   "source": [
    "classifier = nltk.NaiveBayesClassifier.train(training_set)\n",
    "t=(nltk.classify.accuracy(classifier, testing_set))*100\n",
    "y.append(t)\n",
    "print(\"Classifier accuracy percent:\",t)\n",
    "classifier.show_most_informative_features(15)"
   ]
  },
  {
   "cell_type": "code",
   "execution_count": 53,
   "metadata": {},
   "outputs": [],
   "source": [
    "\n",
    "random.shuffle(featuresets)\n",
    "train = 30000\n",
    "test = 30001\n",
    "training_set = featuresets[:30000]\n",
    "testing_set = featuresets[30001:]\n",
    "z.append(train/test)\n",
    "x.append(test/train)"
   ]
  },
  {
   "cell_type": "code",
   "execution_count": 39,
   "metadata": {},
   "outputs": [
    {
     "name": "stdout",
     "output_type": "stream",
     "text": [
      "Classifier accuracy percent: 0\n",
      "Most Informative Features\n",
      "             unwatchable = True              neg : pos    =     26.7 : 1.0\n",
      "                 lighten = True              pos : neg    =     15.7 : 1.0\n",
      "           unpretentious = True              pos : neg    =     15.7 : 1.0\n",
      "                flawless = True              pos : neg    =     13.2 : 1.0\n",
      "                  turgid = True              neg : pos    =     11.4 : 1.0\n",
      "                 droning = True              neg : pos    =     11.0 : 1.0\n",
      "               pointless = True              neg : pos    =     10.1 : 1.0\n",
      "                    turd = True              neg : pos    =      9.9 : 1.0\n",
      "               sceptical = True              pos : neg    =      9.7 : 1.0\n",
      "                    blah = True              neg : pos    =      9.6 : 1.0\n",
      "                   lousy = True              neg : pos    =      9.6 : 1.0\n",
      "                quotable = True              pos : neg    =      9.4 : 1.0\n",
      "               laughable = True              neg : pos    =      9.1 : 1.0\n",
      "                   worst = True              neg : pos    =      9.0 : 1.0\n",
      "              uproarious = True              pos : neg    =      8.3 : 1.0\n"
     ]
    }
   ],
   "source": [
    "classifier = nltk.NaiveBayesClassifier.train(training_set)\n",
    "t=(nltk.classify.accuracy(classifier, testing_set))*100\n",
    "y.append(t)\n",
    "print(\"Classifier accuracy percent:\",t)\n",
    "classifier.show_most_informative_features(15)"
   ]
  },
  {
   "cell_type": "code",
   "execution_count": 54,
   "metadata": {},
   "outputs": [],
   "source": [
    "\n",
    "random.shuffle(featuresets)\n",
    "train = 8000\n",
    "test = 8001\n",
    "training_set = featuresets[:8000]\n",
    "testing_set = featuresets[8001:]\n",
    "z.append(train/test)\n",
    "x.append(test/train)\n"
   ]
  },
  {
   "cell_type": "code",
   "execution_count": 41,
   "metadata": {},
   "outputs": [
    {
     "name": "stdout",
     "output_type": "stream",
     "text": [
      "Classifier accuracy percent: 82.28823529411765\n",
      "Most Informative Features\n",
      "                 detract = True              pos : neg    =     12.5 : 1.0\n",
      "              amateurish = True              neg : pos    =     10.9 : 1.0\n",
      "                  crappy = True              neg : pos    =     10.5 : 1.0\n",
      "              unlikeable = True              neg : pos    =     10.2 : 1.0\n",
      "                 gimmick = True              neg : pos    =     10.2 : 1.0\n",
      "                   vapid = True              neg : pos    =     10.2 : 1.0\n",
      "              tremendous = True              pos : neg    =     10.0 : 1.0\n",
      "                   lousy = True              neg : pos    =      9.8 : 1.0\n",
      "                 idiotic = True              neg : pos    =      9.6 : 1.0\n",
      "             uninspiring = True              neg : pos    =      9.6 : 1.0\n",
      "               masterful = True              pos : neg    =      9.5 : 1.0\n",
      "                   awful = True              neg : pos    =      9.5 : 1.0\n",
      "               laughable = True              neg : pos    =      9.2 : 1.0\n",
      "               absorbing = True              pos : neg    =      9.1 : 1.0\n",
      "                  upbeat = True              pos : neg    =      9.1 : 1.0\n"
     ]
    }
   ],
   "source": [
    "classifier = nltk.NaiveBayesClassifier.train(training_set)\n",
    "t=(nltk.classify.accuracy(classifier, testing_set))*100\n",
    "y.append(t)\n",
    "print(\"Classifier accuracy percent:\",t)\n",
    "classifier.show_most_informative_features(15)"
   ]
  },
  {
   "cell_type": "code",
   "execution_count": 55,
   "metadata": {},
   "outputs": [],
   "source": [
    "\n",
    "random.shuffle(featuresets)\n",
    "train = 8000\n",
    "test = 5001\n",
    "training_set = featuresets[:8000]\n",
    "testing_set = featuresets[5001:]\n",
    "z.append(train/test)\n",
    "x.append(test/train)"
   ]
  },
  {
   "cell_type": "code",
   "execution_count": 49,
   "metadata": {},
   "outputs": [
    {
     "name": "stdout",
     "output_type": "stream",
     "text": [
      "Classifier accuracy percent: 83.405\n",
      "Most Informative Features\n",
      "             astonishing = True              pos : neg    =     13.7 : 1.0\n",
      "                    blah = True              neg : pos    =     13.0 : 1.0\n",
      "               uplifting = True              pos : neg    =     11.0 : 1.0\n",
      "                 unfolds = True              pos : neg    =     10.6 : 1.0\n",
      "                youthful = True              pos : neg    =     10.3 : 1.0\n",
      "                lifeless = True              neg : pos    =     10.3 : 1.0\n",
      "             nonexistent = True              neg : pos    =      9.7 : 1.0\n",
      "                   worst = True              neg : pos    =      9.4 : 1.0\n",
      "                   lousy = True              neg : pos    =      9.4 : 1.0\n",
      "              delightful = True              pos : neg    =      9.3 : 1.0\n",
      "                  poorly = True              neg : pos    =      9.2 : 1.0\n",
      "                  gentle = True              pos : neg    =      9.0 : 1.0\n",
      "               inspiring = True              pos : neg    =      8.7 : 1.0\n",
      "               laughable = True              neg : pos    =      8.6 : 1.0\n",
      "                wretched = True              neg : pos    =      8.6 : 1.0\n"
     ]
    }
   ],
   "source": [
    "classifier = nltk.NaiveBayesClassifier.train(training_set)\n",
    "t=(nltk.classify.accuracy(classifier, testing_set))*100\n",
    "y.append(t)\n",
    "print(\"Classifier accuracy percent:\",t)\n",
    "classifier.show_most_informative_features(15)"
   ]
  },
  {
   "cell_type": "code",
   "execution_count": 66,
   "metadata": {},
   "outputs": [
    {
     "data": {
      "text/plain": [
       "Text(0, 0.5, 'accuracy')"
      ]
     },
     "execution_count": 66,
     "metadata": {},
     "output_type": "execute_result"
    },
    {
     "data": {
      "image/png": "[encoded data removed]",
      "text/plain": [
       "<Figure size 432x288 with 1 Axes>"
      ]
     },
     "metadata": {
      "needs_background": "light"
     },
     "output_type": "display_data"
    }
   ],
   "source": [
    "import matplotlib.pyplot as plt\n",
    "plt.plot( [1.25, 0.999950002499875, 1.4999250037498124,  0.9998750156230471, 1.5996800639872026],[85.1829,82.98,85.22,82.28823,83.405],'ro')\n",
    "plt.label('train/test')\n",
    "plt.ylabel('accuracy')"
   ]
  },
  {
   "cell_type": "code",
   "execution_count": 64,
   "metadata": {},
   "outputs": [
    {
     "name": "stdout",
     "output_type": "stream",
     "text": [
      "[0.8, 1.00005, 0.6667, 1.0000333333333333, 1.000125, 0.625125]\n"
     ]
    }
   ],
   "source": [
    "print(x)"
   ]
  },
  {
   "cell_type": "code",
   "execution_count": null,
   "metadata": {},
   "outputs": [],
   "source": []
  }
 ],
 "metadata": {
  "kernelspec": {
   "display_name": "Python 3",
   "language": "python",
   "name": "python3"
  },
  "language_info": {
   "codemirror_mode": {
    "name": "ipython",
    "version": 3
   },
   "file_extension": ".py",
   "mimetype": "text/x-python",
   "name": "python",
   "nbconvert_exporter": "python",
   "pygments_lexer": "ipython3",
   "version": "3.7.4"
  }
 },
 "nbformat": 4,
 "nbformat_minor": 2
}
